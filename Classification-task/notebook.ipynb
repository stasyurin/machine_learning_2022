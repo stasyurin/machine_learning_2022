{
  "cells": [
    {
      "cell_type": "code",
      "execution_count": null,
      "metadata": {
        "id": "33833926"
      },
      "outputs": [],
      "source": [
        "import numpy as np              # Массивы (матрицы, векторы, линейная алгебра)\n",
        "import matplotlib.pyplot as plt # Научная графика\n",
        "%matplotlib inline \n",
        "    # Говорим jupyter'у, чтобы весь графический вывод был в браузере, а не в отдельном окне\n",
        "import pandas as pd             # Таблицы и временные ряды (dataframe, series)\n",
        "import seaborn as sns           # Еще больше красивой графики для визуализации данных\n",
        "import sklearn                  # Алгоритмы машинного обучения"
      ],
      "id": "33833926"
    },
    {
      "cell_type": "markdown",
      "metadata": {
        "id": "d73d389f"
      },
      "source": [
        "# Прогноз погоды на завтра в австралии"
      ],
      "id": "d73d389f"
    },
    {
      "cell_type": "markdown",
      "metadata": {
        "id": "b319e0e8"
      },
      "source": [
        "Предположим, что вы находитесь в Австралии и хотите узнать, будет ли завтра дождь."
      ],
      "id": "b319e0e8"
    },
    {
      "cell_type": "markdown",
      "metadata": {
        "id": "61dd4087"
      },
      "source": [
        "## Загружаем данные"
      ],
      "id": "61dd4087"
    },
    {
      "cell_type": "code",
      "execution_count": null,
      "metadata": {
        "id": "0b23cd64"
      },
      "outputs": [],
      "source": [
        "url = \"https://raw.githubusercontent.com/stasyurin/machine_learning_2021/master/Classification_task/data/weatherAUS.csv\"\n",
        "data = pd.read_csv(url)"
      ],
      "id": "0b23cd64"
    },
    {
      "cell_type": "markdown",
      "metadata": {
        "id": "3bc7f8cf"
      },
      "source": [
        "Таблица содержит данные о ежедневных наблюденях за погодой из многих мест по всей Австралии на протяжении 10 лет."
      ],
      "id": "3bc7f8cf"
    },
    {
      "cell_type": "markdown",
      "metadata": {
        "id": "d109c85b"
      },
      "source": [
        "Размеры таблицы:"
      ],
      "id": "d109c85b"
    },
    {
      "cell_type": "code",
      "execution_count": null,
      "metadata": {
        "colab": {
          "base_uri": "https://localhost:8080/"
        },
        "id": "ee391bb8",
        "outputId": "cd5ec787-9026-4c3f-ca5c-89ff9ecd5417"
      },
      "outputs": [
        {
          "data": {
            "text/plain": [
              "(145460, 23)"
            ]
          },
          "execution_count": 3,
          "metadata": {},
          "output_type": "execute_result"
        }
      ],
      "source": [
        "data.shape"
      ],
      "id": "ee391bb8"
    },
    {
      "cell_type": "code",
      "execution_count": null,
      "metadata": {
        "colab": {
          "base_uri": "https://localhost:8080/"
        },
        "id": "kzoW2m6voefd",
        "outputId": "88f6e954-a6d6-4ae2-8d25-b9bbcc46b599"
      },
      "outputs": [
        {
          "data": {
            "text/html": [
              "\n",
              "  <div id=\"df-534ddfd3-4e16-4ed7-a9ae-ab01ebc5b0fc\">\n",
              "    <div class=\"colab-df-container\">\n",
              "      <div>\n",
              "<style scoped>\n",
              "    .dataframe tbody tr th:only-of-type {\n",
              "        vertical-align: middle;\n",
              "    }\n",
              "\n",
              "    .dataframe tbody tr th {\n",
              "        vertical-align: top;\n",
              "    }\n",
              "\n",
              "    .dataframe thead th {\n",
              "        text-align: right;\n",
              "    }\n",
              "</style>\n",
              "<table border=\"1\" class=\"dataframe\">\n",
              "  <thead>\n",
              "    <tr style=\"text-align: right;\">\n",
              "      <th></th>\n",
              "      <th>Date</th>\n",
              "      <th>Location</th>\n",
              "      <th>MinTemp</th>\n",
              "      <th>MaxTemp</th>\n",
              "      <th>Rainfall</th>\n",
              "      <th>Evaporation</th>\n",
              "      <th>Sunshine</th>\n",
              "      <th>WindGustDir</th>\n",
              "      <th>WindGustSpeed</th>\n",
              "      <th>WindDir9am</th>\n",
              "      <th>WindDir3pm</th>\n",
              "      <th>WindSpeed9am</th>\n",
              "      <th>WindSpeed3pm</th>\n",
              "      <th>Humidity9am</th>\n",
              "      <th>Humidity3pm</th>\n",
              "      <th>Pressure9am</th>\n",
              "      <th>Pressure3pm</th>\n",
              "      <th>Cloud9am</th>\n",
              "      <th>Cloud3pm</th>\n",
              "      <th>Temp9am</th>\n",
              "      <th>Temp3pm</th>\n",
              "      <th>RainToday</th>\n",
              "      <th>RainTomorrow</th>\n",
              "    </tr>\n",
              "  </thead>\n",
              "  <tbody>\n",
              "    <tr>\n",
              "      <th>0</th>\n",
              "      <td>2008-12-01</td>\n",
              "      <td>Albury</td>\n",
              "      <td>13.4</td>\n",
              "      <td>22.9</td>\n",
              "      <td>0.6</td>\n",
              "      <td>NaN</td>\n",
              "      <td>NaN</td>\n",
              "      <td>W</td>\n",
              "      <td>44.0</td>\n",
              "      <td>W</td>\n",
              "      <td>WNW</td>\n",
              "      <td>20.0</td>\n",
              "      <td>24.0</td>\n",
              "      <td>71.0</td>\n",
              "      <td>22.0</td>\n",
              "      <td>1007.7</td>\n",
              "      <td>1007.1</td>\n",
              "      <td>8.0</td>\n",
              "      <td>NaN</td>\n",
              "      <td>16.9</td>\n",
              "      <td>21.8</td>\n",
              "      <td>No</td>\n",
              "      <td>No</td>\n",
              "    </tr>\n",
              "    <tr>\n",
              "      <th>1</th>\n",
              "      <td>2008-12-02</td>\n",
              "      <td>Albury</td>\n",
              "      <td>7.4</td>\n",
              "      <td>25.1</td>\n",
              "      <td>0.0</td>\n",
              "      <td>NaN</td>\n",
              "      <td>NaN</td>\n",
              "      <td>WNW</td>\n",
              "      <td>44.0</td>\n",
              "      <td>NNW</td>\n",
              "      <td>WSW</td>\n",
              "      <td>4.0</td>\n",
              "      <td>22.0</td>\n",
              "      <td>44.0</td>\n",
              "      <td>25.0</td>\n",
              "      <td>1010.6</td>\n",
              "      <td>1007.8</td>\n",
              "      <td>NaN</td>\n",
              "      <td>NaN</td>\n",
              "      <td>17.2</td>\n",
              "      <td>24.3</td>\n",
              "      <td>No</td>\n",
              "      <td>No</td>\n",
              "    </tr>\n",
              "    <tr>\n",
              "      <th>2</th>\n",
              "      <td>2008-12-03</td>\n",
              "      <td>Albury</td>\n",
              "      <td>12.9</td>\n",
              "      <td>25.7</td>\n",
              "      <td>0.0</td>\n",
              "      <td>NaN</td>\n",
              "      <td>NaN</td>\n",
              "      <td>WSW</td>\n",
              "      <td>46.0</td>\n",
              "      <td>W</td>\n",
              "      <td>WSW</td>\n",
              "      <td>19.0</td>\n",
              "      <td>26.0</td>\n",
              "      <td>38.0</td>\n",
              "      <td>30.0</td>\n",
              "      <td>1007.6</td>\n",
              "      <td>1008.7</td>\n",
              "      <td>NaN</td>\n",
              "      <td>2.0</td>\n",
              "      <td>21.0</td>\n",
              "      <td>23.2</td>\n",
              "      <td>No</td>\n",
              "      <td>No</td>\n",
              "    </tr>\n",
              "    <tr>\n",
              "      <th>3</th>\n",
              "      <td>2008-12-04</td>\n",
              "      <td>Albury</td>\n",
              "      <td>9.2</td>\n",
              "      <td>28.0</td>\n",
              "      <td>0.0</td>\n",
              "      <td>NaN</td>\n",
              "      <td>NaN</td>\n",
              "      <td>NE</td>\n",
              "      <td>24.0</td>\n",
              "      <td>SE</td>\n",
              "      <td>E</td>\n",
              "      <td>11.0</td>\n",
              "      <td>9.0</td>\n",
              "      <td>45.0</td>\n",
              "      <td>16.0</td>\n",
              "      <td>1017.6</td>\n",
              "      <td>1012.8</td>\n",
              "      <td>NaN</td>\n",
              "      <td>NaN</td>\n",
              "      <td>18.1</td>\n",
              "      <td>26.5</td>\n",
              "      <td>No</td>\n",
              "      <td>No</td>\n",
              "    </tr>\n",
              "    <tr>\n",
              "      <th>4</th>\n",
              "      <td>2008-12-05</td>\n",
              "      <td>Albury</td>\n",
              "      <td>17.5</td>\n",
              "      <td>32.3</td>\n",
              "      <td>1.0</td>\n",
              "      <td>NaN</td>\n",
              "      <td>NaN</td>\n",
              "      <td>W</td>\n",
              "      <td>41.0</td>\n",
              "      <td>ENE</td>\n",
              "      <td>NW</td>\n",
              "      <td>7.0</td>\n",
              "      <td>20.0</td>\n",
              "      <td>82.0</td>\n",
              "      <td>33.0</td>\n",
              "      <td>1010.8</td>\n",
              "      <td>1006.0</td>\n",
              "      <td>7.0</td>\n",
              "      <td>8.0</td>\n",
              "      <td>17.8</td>\n",
              "      <td>29.7</td>\n",
              "      <td>No</td>\n",
              "      <td>No</td>\n",
              "    </tr>\n",
              "  </tbody>\n",
              "</table>\n",
              "</div>\n",
              "      <button class=\"colab-df-convert\" onclick=\"convertToInteractive('df-534ddfd3-4e16-4ed7-a9ae-ab01ebc5b0fc')\"\n",
              "              title=\"Convert this dataframe to an interactive table.\"\n",
              "              style=\"display:none;\">\n",
              "        \n",
              "  <svg xmlns=\"http://www.w3.org/2000/svg\" height=\"24px\"viewBox=\"0 0 24 24\"\n",
              "       width=\"24px\">\n",
              "    <path d=\"M0 0h24v24H0V0z\" fill=\"none\"/>\n",
              "    <path d=\"M18.56 5.44l.94 2.06.94-2.06 2.06-.94-2.06-.94-.94-2.06-.94 2.06-2.06.94zm-11 1L8.5 8.5l.94-2.06 2.06-.94-2.06-.94L8.5 2.5l-.94 2.06-2.06.94zm10 10l.94 2.06.94-2.06 2.06-.94-2.06-.94-.94-2.06-.94 2.06-2.06.94z\"/><path d=\"M17.41 7.96l-1.37-1.37c-.4-.4-.92-.59-1.43-.59-.52 0-1.04.2-1.43.59L10.3 9.45l-7.72 7.72c-.78.78-.78 2.05 0 2.83L4 21.41c.39.39.9.59 1.41.59.51 0 1.02-.2 1.41-.59l7.78-7.78 2.81-2.81c.8-.78.8-2.07 0-2.86zM5.41 20L4 18.59l7.72-7.72 1.47 1.35L5.41 20z\"/>\n",
              "  </svg>\n",
              "      </button>\n",
              "      \n",
              "  <style>\n",
              "    .colab-df-container {\n",
              "      display:flex;\n",
              "      flex-wrap:wrap;\n",
              "      gap: 12px;\n",
              "    }\n",
              "\n",
              "    .colab-df-convert {\n",
              "      background-color: #E8F0FE;\n",
              "      border: none;\n",
              "      border-radius: 50%;\n",
              "      cursor: pointer;\n",
              "      display: none;\n",
              "      fill: #1967D2;\n",
              "      height: 32px;\n",
              "      padding: 0 0 0 0;\n",
              "      width: 32px;\n",
              "    }\n",
              "\n",
              "    .colab-df-convert:hover {\n",
              "      background-color: #E2EBFA;\n",
              "      box-shadow: 0px 1px 2px rgba(60, 64, 67, 0.3), 0px 1px 3px 1px rgba(60, 64, 67, 0.15);\n",
              "      fill: #174EA6;\n",
              "    }\n",
              "\n",
              "    [theme=dark] .colab-df-convert {\n",
              "      background-color: #3B4455;\n",
              "      fill: #D2E3FC;\n",
              "    }\n",
              "\n",
              "    [theme=dark] .colab-df-convert:hover {\n",
              "      background-color: #434B5C;\n",
              "      box-shadow: 0px 1px 3px 1px rgba(0, 0, 0, 0.15);\n",
              "      filter: drop-shadow(0px 1px 2px rgba(0, 0, 0, 0.3));\n",
              "      fill: #FFFFFF;\n",
              "    }\n",
              "  </style>\n",
              "\n",
              "      <script>\n",
              "        const buttonEl =\n",
              "          document.querySelector('#df-534ddfd3-4e16-4ed7-a9ae-ab01ebc5b0fc button.colab-df-convert');\n",
              "        buttonEl.style.display =\n",
              "          google.colab.kernel.accessAllowed ? 'block' : 'none';\n",
              "\n",
              "        async function convertToInteractive(key) {\n",
              "          const element = document.querySelector('#df-534ddfd3-4e16-4ed7-a9ae-ab01ebc5b0fc');\n",
              "          const dataTable =\n",
              "            await google.colab.kernel.invokeFunction('convertToInteractive',\n",
              "                                                     [key], {});\n",
              "          if (!dataTable) return;\n",
              "\n",
              "          const docLinkHtml = 'Like what you see? Visit the ' +\n",
              "            '<a target=\"_blank\" href=https://colab.research.google.com/notebooks/data_table.ipynb>data table notebook</a>'\n",
              "            + ' to learn more about interactive tables.';\n",
              "          element.innerHTML = '';\n",
              "          dataTable['output_type'] = 'display_data';\n",
              "          await google.colab.output.renderOutput(dataTable, element);\n",
              "          const docLink = document.createElement('div');\n",
              "          docLink.innerHTML = docLinkHtml;\n",
              "          element.appendChild(docLink);\n",
              "        }\n",
              "      </script>\n",
              "    </div>\n",
              "  </div>\n",
              "  "
            ],
            "text/plain": [
              "         Date Location  MinTemp  ...  Temp3pm  RainToday  RainTomorrow\n",
              "0  2008-12-01   Albury     13.4  ...     21.8         No            No\n",
              "1  2008-12-02   Albury      7.4  ...     24.3         No            No\n",
              "2  2008-12-03   Albury     12.9  ...     23.2         No            No\n",
              "3  2008-12-04   Albury      9.2  ...     26.5         No            No\n",
              "4  2008-12-05   Albury     17.5  ...     29.7         No            No\n",
              "\n",
              "[5 rows x 23 columns]"
            ]
          },
          "execution_count": 4,
          "metadata": {},
          "output_type": "execute_result"
        }
      ],
      "source": [
        "data.head()"
      ],
      "id": "kzoW2m6voefd"
    },
    {
      "cell_type": "markdown",
      "metadata": {
        "id": "0IB9ujVnovl1"
      },
      "source": [
        "Мы видим, что столбцы (признаки) имеют имена\n",
        "\n",
        "- `Date` - Дата наблюдения\n",
        "- `Location` - Общее название места расположения метеостанции\n",
        "- `MinTemp` - Минимальная температура в градусах Цельсия в этот день\n",
        "- `MaxTemp` - Максимальная температура в градусах Цельсия в этот день\n",
        "- `Rainfall` - Количество осадков, выпавших за сутки в мм.\n",
        "- `Evaporation` - Так называемое испарение из эвапорометра класса А (мм) за 24 часа до 9 утра. (*Эвапорометр - устройство измерения общего испарения при одновременном воздействии разных текущих климатических факторов, таких как: температура, влажность, атмосферные осадки, солнечная радиация, ветер*)\n",
        "- `Sunshine` - Количество часов яркого солнечного света в сутки.\n",
        "- `WindGustDir` - Направление самого сильного порыва ветра за 24 часа до полуночи\n",
        "- `WindGustSpeed` - Скорость (км/ч) самого сильного порыва ветра за 24 часа до полуночи\n",
        "- `WindDir9am` - Направление ветра в 9 утра\n",
        "- `WindDir3pm` - Направление ветра в 15:00\n",
        "- `WindSpeed9am` - Средняя скорость ветра (км/ч) за 10 минут до 9:00\n",
        "- `WindSpeed3pm` - Средняя скорость ветра (км/ч) за 10 минут до 15:00\n",
        "- `Humidity9am` - Влажность (в процентах) в 9 утра\n",
        "- `Humidity3pm` - Влажность (в процентах) в 15:00\n",
        "- `Pressure9am` - Атмосферное давление (гПа) на уровне среднего уровня моря в 9:00.\n",
        "- `Pressure3pm` - Атмосферное давление (гПа) на уровне среднего уровня моря в 15:00.\n",
        "- `Cloud9am` - Площадь неба, закрытая облаками в 9 утра. Измеряется в «октах» (часть от восьми). Показатель фиксирует, сколько восьмых неба закрыто облаками. Значение 0 указывает на абсолютно ясное небо, а значение 8 указывает на полную облачность.\n",
        "- `Cloud3pm` - Площадь неба, закрытая облаками в 15:00\n",
        "- `Temp9am` - Температура в градусах Цельсия в 9 утра\n",
        "- `Temp3pm` - Температура в градусах Цельсия в 15:00\n",
        "- `RainToday` - Булево значение: 1, если осадки (мм) за 24 часа до 9:00 превышают 1 мм, в противном случае 0\n",
        "- `RainTomorrow` - Количество осадков на следующий день в мм. Используется для создания переменной ответа RainTomorrow. Своего рода мера «риска».\n",
        "\n",
        "Признаки `RainToday` и `RainTomorrow` - бинарный, признаки `Location`, `WindGustDir`, `WindDir9am`, `WindDir3pm` - номинальные (категориальные), `Date` имеет тип дата, остальные признаки - количественные (числовые).\n",
        "\n",
        "Требуется предсказать бинарный признак `RainTomorrow` по остальным признакам. Это *задача классификации*."
      ],
      "id": "0IB9ujVnovl1"
    },
    {
      "cell_type": "markdown",
      "metadata": {
        "id": "Z0z3uvGm4Mkn"
      },
      "source": [
        "## Готовим данные"
      ],
      "id": "Z0z3uvGm4Mkn"
    },
    {
      "cell_type": "markdown",
      "metadata": {
        "id": "CkWZVUSzAJaM"
      },
      "source": [
        "Приведем столбец `Date` к числовому типу"
      ],
      "id": "CkWZVUSzAJaM"
    },
    {
      "cell_type": "code",
      "execution_count": null,
      "metadata": {
        "colab": {
          "base_uri": "https://localhost:8080/"
        },
        "id": "bmHhuHykABX9",
        "outputId": "5c0bb636-82fa-4738-dfc1-c8577ae7d4bf"
      },
      "outputs": [
        {
          "data": {
            "text/plain": [
              "0            0\n",
              "1            1\n",
              "2            2\n",
              "3            3\n",
              "4            4\n",
              "          ... \n",
              "145455    3124\n",
              "145456    3125\n",
              "145457    3126\n",
              "145458    3127\n",
              "145459    3128\n",
              "Name: Date, Length: 145460, dtype: int64"
            ]
          },
          "execution_count": 5,
          "metadata": {},
          "output_type": "execute_result"
        }
      ],
      "source": [
        "from datetime import datetime, timedelta\n",
        "data['Date'] = pd.to_datetime(data['Date'])\n",
        "data['Date'] = data['Date'].sub(datetime(2008, 12, 1), axis=0).dt.days\n",
        "data['Date']"
      ],
      "id": "bmHhuHykABX9"
    },
    {
      "cell_type": "code",
      "execution_count": null,
      "metadata": {
        "colab": {
          "base_uri": "https://localhost:8080/"
        },
        "id": "U-G0xVJ54SEX",
        "outputId": "68a610ff-407e-4996-8ec3-915c1edf86e2"
      },
      "outputs": [
        {
          "name": "stdout",
          "output_type": "stream",
          "text": [
            "['Location', 'WindGustDir', 'WindDir9am', 'WindDir3pm', 'RainToday', 'RainTomorrow']\n",
            "['Date', 'MinTemp', 'MaxTemp', 'Rainfall', 'Evaporation', 'Sunshine', 'WindGustSpeed', 'WindSpeed9am', 'WindSpeed3pm', 'Humidity9am', 'Humidity3pm', 'Pressure9am', 'Pressure3pm', 'Cloud9am', 'Cloud3pm', 'Temp9am', 'Temp3pm']\n"
          ]
        }
      ],
      "source": [
        "categorical_columns = [c for c in data.columns if data[c].dtype.name == 'object']\n",
        "numerical_columns   = [c for c in data.columns if data[c].dtype.name != 'object']\n",
        "print(categorical_columns)\n",
        "print(numerical_columns)"
      ],
      "id": "U-G0xVJ54SEX"
    },
    {
      "cell_type": "markdown",
      "metadata": {
        "id": "c6541acd"
      },
      "source": [
        "## Боремся с выбросами (outliers)"
      ],
      "id": "c6541acd"
    },
    {
      "cell_type": "code",
      "execution_count": null,
      "metadata": {
        "colab": {
          "base_uri": "https://localhost:8080/"
        },
        "id": "a9fb366e",
        "outputId": "15757e5f-a25c-4a30-a9bc-a4a86ae9494f"
      },
      "outputs": [
        {
          "data": {
            "text/plain": [
              "(135248, 23)"
            ]
          },
          "execution_count": 7,
          "metadata": {},
          "output_type": "execute_result"
        }
      ],
      "source": [
        "rows_to_drop = []\n",
        "for column in data.columns:\n",
        "    if (column in categorical_columns):\n",
        "        continue\n",
        "    rows_to_drop += data[(data[column] < data[column].quantile(0.005))\n",
        "    | (data[column] > data[column].quantile(0.995))].index.tolist()\n",
        "data = data.drop(rows_to_drop)\n",
        "data.shape"
      ],
      "id": "a9fb366e"
    },
    {
      "cell_type": "markdown",
      "metadata": {
        "id": "-n83K1zNDasK"
      },
      "source": [
        "Для всех количественных признаков удаление выбросов привело к сокращению количества строк на 145460 - 136606 = 8854 строк"
      ],
      "id": "-n83K1zNDasK"
    },
    {
      "cell_type": "markdown",
      "metadata": {
        "id": "ziHrau8lEhGp"
      },
      "source": [
        "## Визуализация и описательная статистика"
      ],
      "id": "ziHrau8lEhGp"
    },
    {
      "cell_type": "markdown",
      "metadata": {
        "id": "9naiSP3DE5Kt"
      },
      "source": [
        "Матрица корреляции"
      ],
      "id": "9naiSP3DE5Kt"
    },
    {
      "cell_type": "code",
      "execution_count": null,
      "metadata": {
        "colab": {
          "base_uri": "https://localhost:8080/"
        },
        "id": "4964b4ef",
        "outputId": "82a94ee0-78fd-4b8b-cd13-2971c1c1421e"
      },
      "outputs": [
        {
          "data": {
            "image/png": "[encoded data removed]",
            "text/plain": [
              "<Figure size 432x288 with 2 Axes>"
            ]
          },
          "metadata": {},
          "output_type": "display_data"
        }
      ],
      "source": [
        "corr_mat = data.corr()\n",
        "sns.heatmap(corr_mat, square=True, cmap='coolwarm')\n",
        "pass"
      ],
      "id": "4964b4ef"
    },
    {
      "cell_type": "markdown",
      "metadata": {
        "id": "rXTU4ybNFkmr"
      },
      "source": [
        "### Интерпретация\n",
        "- Как видим минимальная температура `MinTemp` достаточно сильно коррелирует с максимальной MaxTemp, что очевидно, так как в жарком дне в среднем и минимальная и максимальная температура будут выше, а в холодном - ниже\n",
        "- Также `MinTemp` и `MaxTemp` коррелируют с Temp9am и Temp3pm, что так же очевидно\n",
        "- `Rainfall` слабо коререлирует с какими либо другими признаками. Наибольшая корреляция с `Humidity9am` и `Humidity3pm` (что очевидно - чем больше осадков, тем сильнее влажность), и с `Cloud9am` и `Cloud3pm` (чем облачнее, тем больше вероятность, что пойдет дождь)\n",
        "- `Evaporation` (количество испарения из эвапорометра) коррелирует со всеми признаками связанными с температурой - чем выше температура, тем интенсивнее жидкость испаряется\n",
        "- `Sunshine` так же коррелирует с признаками связанными с температурой - чем больше солнца, тем выше температура\n",
        "- Признаки скорости ветра коррелируют только между собой, что очевидно так как ни от температуры, ни от давления, ни от других признаков они не зависят\n",
        "- Коррелируют Humidity и Cloud - признаки влажности и облачности, что также связано с выпадением осадков\n",
        "- И корреляция признаков, показывающих давление с другими признаками так же слабая"
      ],
      "id": "rXTU4ybNFkmr"
    },
    {
      "cell_type": "code",
      "execution_count": null,
      "metadata": {
        "colab": {
          "base_uri": "https://localhost:8080/"
        },
        "id": "R7cZp-DsJhOQ",
        "outputId": "77169506-091f-42d2-d8bf-6ac5469221b0"
      },
      "outputs": [
        {
          "data": {
            "text/html": [
              "\n",
              "  <div id=\"df-690e89ab-aaae-4ced-a631-f596a198b694\">\n",
              "    <div class=\"colab-df-container\">\n",
              "      <div>\n",
              "<style scoped>\n",
              "    .dataframe tbody tr th:only-of-type {\n",
              "        vertical-align: middle;\n",
              "    }\n",
              "\n",
              "    .dataframe tbody tr th {\n",
              "        vertical-align: top;\n",
              "    }\n",
              "\n",
              "    .dataframe thead th {\n",
              "        text-align: right;\n",
              "    }\n",
              "</style>\n",
              "<table border=\"1\" class=\"dataframe\">\n",
              "  <thead>\n",
              "    <tr style=\"text-align: right;\">\n",
              "      <th></th>\n",
              "      <th>Date</th>\n",
              "      <th>MinTemp</th>\n",
              "      <th>MaxTemp</th>\n",
              "      <th>Rainfall</th>\n",
              "      <th>Evaporation</th>\n",
              "      <th>Sunshine</th>\n",
              "      <th>WindGustSpeed</th>\n",
              "      <th>WindSpeed9am</th>\n",
              "      <th>WindSpeed3pm</th>\n",
              "      <th>Humidity9am</th>\n",
              "      <th>Humidity3pm</th>\n",
              "      <th>Pressure9am</th>\n",
              "      <th>Pressure3pm</th>\n",
              "      <th>Cloud9am</th>\n",
              "      <th>Cloud3pm</th>\n",
              "      <th>Temp9am</th>\n",
              "      <th>Temp3pm</th>\n",
              "    </tr>\n",
              "  </thead>\n",
              "  <tbody>\n",
              "    <tr>\n",
              "      <th>count</th>\n",
              "      <td>135248.000000</td>\n",
              "      <td>133844.000000</td>\n",
              "      <td>134057.000000</td>\n",
              "      <td>132172.000000</td>\n",
              "      <td>76874.000000</td>\n",
              "      <td>70268.000000</td>\n",
              "      <td>125675.000000</td>\n",
              "      <td>133608.000000</td>\n",
              "      <td>132377.000000</td>\n",
              "      <td>132882.000000</td>\n",
              "      <td>131091.000000</td>\n",
              "      <td>121577.000000</td>\n",
              "      <td>121618.000000</td>\n",
              "      <td>83296.000000</td>\n",
              "      <td>80116.000000</td>\n",
              "      <td>133674.000000</td>\n",
              "      <td>131947.000000</td>\n",
              "    </tr>\n",
              "    <tr>\n",
              "      <th>mean</th>\n",
              "      <td>1586.294215</td>\n",
              "      <td>12.223570</td>\n",
              "      <td>23.242705</td>\n",
              "      <td>1.917812</td>\n",
              "      <td>5.230514</td>\n",
              "      <td>7.629323</td>\n",
              "      <td>39.426035</td>\n",
              "      <td>13.776780</td>\n",
              "      <td>18.473572</td>\n",
              "      <td>69.106937</td>\n",
              "      <td>51.512819</td>\n",
              "      <td>1017.831621</td>\n",
              "      <td>1015.440893</td>\n",
              "      <td>4.450898</td>\n",
              "      <td>4.497416</td>\n",
              "      <td>17.004615</td>\n",
              "      <td>21.705487</td>\n",
              "    </tr>\n",
              "    <tr>\n",
              "      <th>std</th>\n",
              "      <td>910.609749</td>\n",
              "      <td>6.130843</td>\n",
              "      <td>6.662336</td>\n",
              "      <td>5.519462</td>\n",
              "      <td>3.383338</td>\n",
              "      <td>3.747351</td>\n",
              "      <td>12.540924</td>\n",
              "      <td>8.472699</td>\n",
              "      <td>8.391994</td>\n",
              "      <td>18.085148</td>\n",
              "      <td>20.048206</td>\n",
              "      <td>6.657136</td>\n",
              "      <td>6.593576</td>\n",
              "      <td>2.877375</td>\n",
              "      <td>2.716197</td>\n",
              "      <td>6.104716</td>\n",
              "      <td>6.501285</td>\n",
              "    </tr>\n",
              "    <tr>\n",
              "      <th>min</th>\n",
              "      <td>-112.000000</td>\n",
              "      <td>-3.100000</td>\n",
              "      <td>5.400000</td>\n",
              "      <td>0.000000</td>\n",
              "      <td>0.200000</td>\n",
              "      <td>0.000000</td>\n",
              "      <td>13.000000</td>\n",
              "      <td>0.000000</td>\n",
              "      <td>0.000000</td>\n",
              "      <td>14.000000</td>\n",
              "      <td>7.000000</td>\n",
              "      <td>997.500000</td>\n",
              "      <td>996.100000</td>\n",
              "      <td>0.000000</td>\n",
              "      <td>0.000000</td>\n",
              "      <td>0.900000</td>\n",
              "      <td>4.400000</td>\n",
              "    </tr>\n",
              "    <tr>\n",
              "      <th>25%</th>\n",
              "      <td>777.000000</td>\n",
              "      <td>7.700000</td>\n",
              "      <td>18.200000</td>\n",
              "      <td>0.000000</td>\n",
              "      <td>2.600000</td>\n",
              "      <td>4.900000</td>\n",
              "      <td>31.000000</td>\n",
              "      <td>7.000000</td>\n",
              "      <td>13.000000</td>\n",
              "      <td>57.000000</td>\n",
              "      <td>37.000000</td>\n",
              "      <td>1013.300000</td>\n",
              "      <td>1010.800000</td>\n",
              "      <td>1.000000</td>\n",
              "      <td>2.000000</td>\n",
              "      <td>12.400000</td>\n",
              "      <td>16.800000</td>\n",
              "    </tr>\n",
              "    <tr>\n",
              "      <th>50%</th>\n",
              "      <td>1640.000000</td>\n",
              "      <td>12.000000</td>\n",
              "      <td>22.700000</td>\n",
              "      <td>0.000000</td>\n",
              "      <td>4.600000</td>\n",
              "      <td>8.500000</td>\n",
              "      <td>37.000000</td>\n",
              "      <td>13.000000</td>\n",
              "      <td>19.000000</td>\n",
              "      <td>70.000000</td>\n",
              "      <td>52.000000</td>\n",
              "      <td>1017.800000</td>\n",
              "      <td>1015.400000</td>\n",
              "      <td>5.000000</td>\n",
              "      <td>5.000000</td>\n",
              "      <td>16.700000</td>\n",
              "      <td>21.200000</td>\n",
              "    </tr>\n",
              "    <tr>\n",
              "      <th>75%</th>\n",
              "      <td>2378.000000</td>\n",
              "      <td>16.700000</td>\n",
              "      <td>28.100000</td>\n",
              "      <td>0.600000</td>\n",
              "      <td>7.200000</td>\n",
              "      <td>10.600000</td>\n",
              "      <td>46.000000</td>\n",
              "      <td>19.000000</td>\n",
              "      <td>24.000000</td>\n",
              "      <td>83.000000</td>\n",
              "      <td>65.000000</td>\n",
              "      <td>1022.400000</td>\n",
              "      <td>1020.000000</td>\n",
              "      <td>7.000000</td>\n",
              "      <td>7.000000</td>\n",
              "      <td>21.400000</td>\n",
              "      <td>26.300000</td>\n",
              "    </tr>\n",
              "    <tr>\n",
              "      <th>max</th>\n",
              "      <td>3114.000000</td>\n",
              "      <td>26.500000</td>\n",
              "      <td>41.600000</td>\n",
              "      <td>53.000000</td>\n",
              "      <td>23.000000</td>\n",
              "      <td>13.600000</td>\n",
              "      <td>87.000000</td>\n",
              "      <td>44.000000</td>\n",
              "      <td>46.000000</td>\n",
              "      <td>100.000000</td>\n",
              "      <td>99.000000</td>\n",
              "      <td>1035.500000</td>\n",
              "      <td>1033.000000</td>\n",
              "      <td>8.000000</td>\n",
              "      <td>8.000000</td>\n",
              "      <td>32.400000</td>\n",
              "      <td>39.900000</td>\n",
              "    </tr>\n",
              "  </tbody>\n",
              "</table>\n",
              "</div>\n",
              "      <button class=\"colab-df-convert\" onclick=\"convertToInteractive('df-690e89ab-aaae-4ced-a631-f596a198b694')\"\n",
              "              title=\"Convert this dataframe to an interactive table.\"\n",
              "              style=\"display:none;\">\n",
              "        \n",
              "  <svg xmlns=\"http://www.w3.org/2000/svg\" height=\"24px\"viewBox=\"0 0 24 24\"\n",
              "       width=\"24px\">\n",
              "    <path d=\"M0 0h24v24H0V0z\" fill=\"none\"/>\n",
              "    <path d=\"M18.56 5.44l.94 2.06.94-2.06 2.06-.94-2.06-.94-.94-2.06-.94 2.06-2.06.94zm-11 1L8.5 8.5l.94-2.06 2.06-.94-2.06-.94L8.5 2.5l-.94 2.06-2.06.94zm10 10l.94 2.06.94-2.06 2.06-.94-2.06-.94-.94-2.06-.94 2.06-2.06.94z\"/><path d=\"M17.41 7.96l-1.37-1.37c-.4-.4-.92-.59-1.43-.59-.52 0-1.04.2-1.43.59L10.3 9.45l-7.72 7.72c-.78.78-.78 2.05 0 2.83L4 21.41c.39.39.9.59 1.41.59.51 0 1.02-.2 1.41-.59l7.78-7.78 2.81-2.81c.8-.78.8-2.07 0-2.86zM5.41 20L4 18.59l7.72-7.72 1.47 1.35L5.41 20z\"/>\n",
              "  </svg>\n",
              "      </button>\n",
              "      \n",
              "  <style>\n",
              "    .colab-df-container {\n",
              "      display:flex;\n",
              "      flex-wrap:wrap;\n",
              "      gap: 12px;\n",
              "    }\n",
              "\n",
              "    .colab-df-convert {\n",
              "      background-color: #E8F0FE;\n",
              "      border: none;\n",
              "      border-radius: 50%;\n",
              "      cursor: pointer;\n",
              "      display: none;\n",
              "      fill: #1967D2;\n",
              "      height: 32px;\n",
              "      padding: 0 0 0 0;\n",
              "      width: 32px;\n",
              "    }\n",
              "\n",
              "    .colab-df-convert:hover {\n",
              "      background-color: #E2EBFA;\n",
              "      box-shadow: 0px 1px 2px rgba(60, 64, 67, 0.3), 0px 1px 3px 1px rgba(60, 64, 67, 0.15);\n",
              "      fill: #174EA6;\n",
              "    }\n",
              "\n",
              "    [theme=dark] .colab-df-convert {\n",
              "      background-color: #3B4455;\n",
              "      fill: #D2E3FC;\n",
              "    }\n",
              "\n",
              "    [theme=dark] .colab-df-convert:hover {\n",
              "      background-color: #434B5C;\n",
              "      box-shadow: 0px 1px 3px 1px rgba(0, 0, 0, 0.15);\n",
              "      filter: drop-shadow(0px 1px 2px rgba(0, 0, 0, 0.3));\n",
              "      fill: #FFFFFF;\n",
              "    }\n",
              "  </style>\n",
              "\n",
              "      <script>\n",
              "        const buttonEl =\n",
              "          document.querySelector('#df-690e89ab-aaae-4ced-a631-f596a198b694 button.colab-df-convert');\n",
              "        buttonEl.style.display =\n",
              "          google.colab.kernel.accessAllowed ? 'block' : 'none';\n",
              "\n",
              "        async function convertToInteractive(key) {\n",
              "          const element = document.querySelector('#df-690e89ab-aaae-4ced-a631-f596a198b694');\n",
              "          const dataTable =\n",
              "            await google.colab.kernel.invokeFunction('convertToInteractive',\n",
              "                                                     [key], {});\n",
              "          if (!dataTable) return;\n",
              "\n",
              "          const docLinkHtml = 'Like what you see? Visit the ' +\n",
              "            '<a target=\"_blank\" href=https://colab.research.google.com/notebooks/data_table.ipynb>data table notebook</a>'\n",
              "            + ' to learn more about interactive tables.';\n",
              "          element.innerHTML = '';\n",
              "          dataTable['output_type'] = 'display_data';\n",
              "          await google.colab.output.renderOutput(dataTable, element);\n",
              "          const docLink = document.createElement('div');\n",
              "          docLink.innerHTML = docLinkHtml;\n",
              "          element.appendChild(docLink);\n",
              "        }\n",
              "      </script>\n",
              "    </div>\n",
              "  </div>\n",
              "  "
            ],
            "text/plain": [
              "                Date        MinTemp  ...        Temp9am        Temp3pm\n",
              "count  135248.000000  133844.000000  ...  133674.000000  131947.000000\n",
              "mean     1586.294215      12.223570  ...      17.004615      21.705487\n",
              "std       910.609749       6.130843  ...       6.104716       6.501285\n",
              "min      -112.000000      -3.100000  ...       0.900000       4.400000\n",
              "25%       777.000000       7.700000  ...      12.400000      16.800000\n",
              "50%      1640.000000      12.000000  ...      16.700000      21.200000\n",
              "75%      2378.000000      16.700000  ...      21.400000      26.300000\n",
              "max      3114.000000      26.500000  ...      32.400000      39.900000\n",
              "\n",
              "[8 rows x 17 columns]"
            ]
          },
          "execution_count": 9,
          "metadata": {},
          "output_type": "execute_result"
        }
      ],
      "source": [
        "data.describe()"
      ],
      "id": "R7cZp-DsJhOQ"
    },
    {
      "cell_type": "markdown",
      "metadata": {
        "id": "581a67ab"
      },
      "source": [
        "##  Обрабатываем пропущенные значения"
      ],
      "id": "581a67ab"
    },
    {
      "cell_type": "markdown",
      "metadata": {
        "id": "bdcd7bab"
      },
      "source": [
        "В данных присутствуют пропущенные значения:"
      ],
      "id": "bdcd7bab"
    },
    {
      "cell_type": "code",
      "execution_count": null,
      "metadata": {
        "colab": {
          "base_uri": "https://localhost:8080/"
        },
        "id": "f8cbfd3a",
        "outputId": "3a26a5ee-4ccf-409d-e7f1-bb77e0dc0f92"
      },
      "outputs": [
        {
          "data": {
            "text/plain": [
              "Date                 0\n",
              "Location             0\n",
              "MinTemp           1404\n",
              "MaxTemp           1191\n",
              "Rainfall          3076\n",
              "Evaporation      58374\n",
              "Sunshine         64980\n",
              "WindGustDir       9633\n",
              "WindGustSpeed     9573\n",
              "WindDir9am        9717\n",
              "WindDir3pm        3900\n",
              "WindSpeed9am      1640\n",
              "WindSpeed3pm      2871\n",
              "Humidity9am       2366\n",
              "Humidity3pm       4157\n",
              "Pressure9am      13671\n",
              "Pressure3pm      13630\n",
              "Cloud9am         51952\n",
              "Cloud3pm         55132\n",
              "Temp9am           1574\n",
              "Temp3pm           3301\n",
              "RainToday         3076\n",
              "RainTomorrow      3051\n",
              "dtype: int64"
            ]
          },
          "execution_count": 10,
          "metadata": {},
          "output_type": "execute_result"
        }
      ],
      "source": [
        "data.isna().sum()"
      ],
      "id": "f8cbfd3a"
    },
    {
      "cell_type": "markdown",
      "metadata": {
        "id": "a4f6ddb5"
      },
      "source": [
        "Заполним медианами пропущенные значения в столбцах, соответствующих числовым признакам:"
      ],
      "id": "a4f6ddb5"
    },
    {
      "cell_type": "code",
      "execution_count": null,
      "metadata": {
        "id": "f2df1aa9"
      },
      "outputs": [],
      "source": [
        "data.fillna(data.median(axis = 0), axis=0 , inplace=True)"
      ],
      "id": "f2df1aa9"
    },
    {
      "cell_type": "code",
      "execution_count": null,
      "metadata": {
        "colab": {
          "base_uri": "https://localhost:8080/"
        },
        "id": "507bcf57",
        "outputId": "1fb0ce75-7123-4139-d100-82fb7d4f7b79"
      },
      "outputs": [
        {
          "data": {
            "text/plain": [
              "Date                0\n",
              "Location            0\n",
              "MinTemp             0\n",
              "MaxTemp             0\n",
              "Rainfall            0\n",
              "Evaporation         0\n",
              "Sunshine            0\n",
              "WindGustDir      9633\n",
              "WindGustSpeed       0\n",
              "WindDir9am       9717\n",
              "WindDir3pm       3900\n",
              "WindSpeed9am        0\n",
              "WindSpeed3pm        0\n",
              "Humidity9am         0\n",
              "Humidity3pm         0\n",
              "Pressure9am         0\n",
              "Pressure3pm         0\n",
              "Cloud9am            0\n",
              "Cloud3pm            0\n",
              "Temp9am             0\n",
              "Temp3pm             0\n",
              "RainToday        3076\n",
              "RainTomorrow     3051\n",
              "dtype: int64"
            ]
          },
          "execution_count": 12,
          "metadata": {},
          "output_type": "execute_result"
        }
      ],
      "source": [
        "data.isna().sum()"
      ],
      "id": "507bcf57"
    },
    {
      "cell_type": "markdown",
      "metadata": {
        "id": "VkM06monKz5x"
      },
      "source": [
        "Пропущенные значения в столбцах, соответствующих категориальным признакам, заполним модой:"
      ],
      "id": "VkM06monKz5x"
    },
    {
      "cell_type": "code",
      "execution_count": null,
      "metadata": {
        "id": "nvDdK1o_KjpJ"
      },
      "outputs": [],
      "source": [
        "for c in categorical_columns:\n",
        "    data[c].fillna(data[c].mode().iloc[0], inplace=True)"
      ],
      "id": "nvDdK1o_KjpJ"
    },
    {
      "cell_type": "code",
      "execution_count": null,
      "metadata": {
        "colab": {
          "base_uri": "https://localhost:8080/"
        },
        "id": "QEZmhzT4K1WY",
        "outputId": "dcd361f6-9c7b-4f6d-8c4e-897641d6132f"
      },
      "outputs": [
        {
          "data": {
            "text/plain": [
              "Date             0\n",
              "Location         0\n",
              "MinTemp          0\n",
              "MaxTemp          0\n",
              "Rainfall         0\n",
              "Evaporation      0\n",
              "Sunshine         0\n",
              "WindGustDir      0\n",
              "WindGustSpeed    0\n",
              "WindDir9am       0\n",
              "WindDir3pm       0\n",
              "WindSpeed9am     0\n",
              "WindSpeed3pm     0\n",
              "Humidity9am      0\n",
              "Humidity3pm      0\n",
              "Pressure9am      0\n",
              "Pressure3pm      0\n",
              "Cloud9am         0\n",
              "Cloud3pm         0\n",
              "Temp9am          0\n",
              "Temp3pm          0\n",
              "RainToday        0\n",
              "RainTomorrow     0\n",
              "dtype: int64"
            ]
          },
          "execution_count": 14,
          "metadata": {},
          "output_type": "execute_result"
        }
      ],
      "source": [
        "data.isna().sum()"
      ],
      "id": "QEZmhzT4K1WY"
    },
    {
      "cell_type": "markdown",
      "metadata": {
        "id": "9c9e52fd"
      },
      "source": [
        "## Векторизация\n",
        "\n",
        "Обработка категориальных признаков"
      ],
      "id": "9c9e52fd"
    },
    {
      "cell_type": "code",
      "execution_count": null,
      "metadata": {
        "colab": {
          "base_uri": "https://localhost:8080/"
        },
        "id": "I42fJs4v7QWf",
        "outputId": "92d967de-aaca-452d-ab08-98ea693819df"
      },
      "outputs": [
        {
          "name": "stdout",
          "output_type": "stream",
          "text": [
            "['RainToday', 'RainTomorrow'] ['Location', 'WindGustDir', 'WindDir9am', 'WindDir3pm']\n"
          ]
        }
      ],
      "source": [
        "data_describe = data.describe(include = [object])\n",
        "binary_columns    = [c for c in categorical_columns if data_describe[c]['unique'] == 2]\n",
        "nonbinary_columns = [c for c in categorical_columns if data_describe[c]['unique'] > 2]\n",
        "print(binary_columns, nonbinary_columns)"
      ],
      "id": "I42fJs4v7QWf"
    },
    {
      "cell_type": "code",
      "execution_count": null,
      "metadata": {
        "colab": {
          "base_uri": "https://localhost:8080/"
        },
        "id": "ilYK5Loh769V",
        "outputId": "2c96a1c6-ac20-4b36-aa65-fe8b3162e539"
      },
      "outputs": [
        {
          "data": {
            "text/plain": [
              "array(['No', 'Yes'], dtype=object)"
            ]
          },
          "execution_count": 16,
          "metadata": {},
          "output_type": "execute_result"
        }
      ],
      "source": [
        "data['RainToday'].unique()"
      ],
      "id": "ilYK5Loh769V"
    },
    {
      "cell_type": "code",
      "execution_count": null,
      "metadata": {
        "colab": {
          "base_uri": "https://localhost:8080/"
        },
        "id": "NTlQIdrq79ZG",
        "outputId": "3d4f8900-31bb-41ee-9ace-7794528c3979"
      },
      "outputs": [
        {
          "data": {
            "text/plain": [
              "count     135248\n",
              "unique         2\n",
              "top            0\n",
              "freq      106291\n",
              "Name: RainToday, dtype: int64"
            ]
          },
          "execution_count": 17,
          "metadata": {},
          "output_type": "execute_result"
        }
      ],
      "source": [
        "data.at[data['RainToday'] == 'No', 'RainToday'] = 0\n",
        "data.at[data['RainToday'] == 'Yes', 'RainToday'] = 1\n",
        "data['RainToday'].describe()"
      ],
      "id": "NTlQIdrq79ZG"
    },
    {
      "cell_type": "markdown",
      "metadata": {
        "id": "nmoyID-a8OnH"
      },
      "source": [
        "К небинарными признакам применим метод _векторизации_, \n",
        "который заключается в следующем.\n",
        "\n",
        "Признак `j`, принимающий `s` значений, заменим на `s` признаков, принимащих значения `0` или `1`,\n",
        "в зависимости от того, чему равно значение исходного признака `j`."
      ],
      "id": "nmoyID-a8OnH"
    },
    {
      "cell_type": "code",
      "execution_count": null,
      "metadata": {
        "colab": {
          "base_uri": "https://localhost:8080/"
        },
        "id": "Z7zb9ep_8PVr",
        "outputId": "e3eb4654-03d1-43e6-bf51-923e63a478c1"
      },
      "outputs": [
        {
          "name": "stdout",
          "output_type": "stream",
          "text": [
            "Index(['Location_Adelaide', 'Location_Albany', 'Location_Albury',\n",
            "       'Location_AliceSprings', 'Location_BadgerysCreek', 'Location_Ballarat',\n",
            "       'Location_Bendigo', 'Location_Brisbane', 'Location_Cairns',\n",
            "       'Location_Canberra', 'Location_Cobar', 'Location_CoffsHarbour',\n",
            "       'Location_Dartmoor', 'Location_Darwin', 'Location_GoldCoast',\n",
            "       'Location_Hobart', 'Location_Katherine', 'Location_Launceston',\n",
            "       'Location_Melbourne', 'Location_MelbourneAirport', 'Location_Mildura',\n",
            "       'Location_Moree', 'Location_MountGambier', 'Location_MountGinini',\n",
            "       'Location_Newcastle', 'Location_Nhil', 'Location_NorahHead',\n",
            "       'Location_NorfolkIsland', 'Location_Nuriootpa', 'Location_PearceRAAF',\n",
            "       'Location_Penrith', 'Location_Perth', 'Location_PerthAirport',\n",
            "       'Location_Portland', 'Location_Richmond', 'Location_Sale',\n",
            "       'Location_SalmonGums', 'Location_Sydney', 'Location_SydneyAirport',\n",
            "       'Location_Townsville', 'Location_Tuggeranong', 'Location_Uluru',\n",
            "       'Location_WaggaWagga', 'Location_Walpole', 'Location_Watsonia',\n",
            "       'Location_Williamtown', 'Location_Witchcliffe', 'Location_Wollongong',\n",
            "       'Location_Woomera', 'WindGustDir_E', 'WindGustDir_ENE',\n",
            "       'WindGustDir_ESE', 'WindGustDir_N', 'WindGustDir_NE', 'WindGustDir_NNE',\n",
            "       'WindGustDir_NNW', 'WindGustDir_NW', 'WindGustDir_S', 'WindGustDir_SE',\n",
            "       'WindGustDir_SSE', 'WindGustDir_SSW', 'WindGustDir_SW', 'WindGustDir_W',\n",
            "       'WindGustDir_WNW', 'WindGustDir_WSW', 'WindDir9am_E', 'WindDir9am_ENE',\n",
            "       'WindDir9am_ESE', 'WindDir9am_N', 'WindDir9am_NE', 'WindDir9am_NNE',\n",
            "       'WindDir9am_NNW', 'WindDir9am_NW', 'WindDir9am_S', 'WindDir9am_SE',\n",
            "       'WindDir9am_SSE', 'WindDir9am_SSW', 'WindDir9am_SW', 'WindDir9am_W',\n",
            "       'WindDir9am_WNW', 'WindDir9am_WSW', 'WindDir3pm_E', 'WindDir3pm_ENE',\n",
            "       'WindDir3pm_ESE', 'WindDir3pm_N', 'WindDir3pm_NE', 'WindDir3pm_NNE',\n",
            "       'WindDir3pm_NNW', 'WindDir3pm_NW', 'WindDir3pm_S', 'WindDir3pm_SE',\n",
            "       'WindDir3pm_SSE', 'WindDir3pm_SSW', 'WindDir3pm_SW', 'WindDir3pm_W',\n",
            "       'WindDir3pm_WNW', 'WindDir3pm_WSW'],\n",
            "      dtype='object')\n"
          ]
        }
      ],
      "source": [
        "data_nonbinary = pd.get_dummies(data[nonbinary_columns])\n",
        "print(data_nonbinary.columns)"
      ],
      "id": "Z7zb9ep_8PVr"
    },
    {
      "cell_type": "markdown",
      "metadata": {
        "id": "WJIPyddz8wsZ"
      },
      "source": [
        "## Нормализация количественных признаков\n",
        "\n",
        "Многие алгоритмы машинного обучения чувствительны к масштабированию данных.\n",
        "К таким алгоритмам, например, относится метод ближайших соседей, машина опорных векторов и др.\n",
        "\n",
        "В этом случае количественные признаки полезно _нормализовать_.\n",
        "Это можно делать разными способами.\n",
        "Например, каждый количественный признак приведем к нулевому среднему и единичному среднеквадратичному отклонению:"
      ],
      "id": "WJIPyddz8wsZ"
    },
    {
      "cell_type": "code",
      "execution_count": null,
      "metadata": {
        "colab": {
          "base_uri": "https://localhost:8080/"
        },
        "id": "kUyJXKPh8-4J",
        "outputId": "046b8bc8-8cd6-4c4e-ee56-b240c77f35d3"
      },
      "outputs": [
        {
          "data": {
            "text/html": [
              "\n",
              "  <div id=\"df-eb5c0328-309f-44ab-98b3-ea8ceb1b7f8c\">\n",
              "    <div class=\"colab-df-container\">\n",
              "      <div>\n",
              "<style scoped>\n",
              "    .dataframe tbody tr th:only-of-type {\n",
              "        vertical-align: middle;\n",
              "    }\n",
              "\n",
              "    .dataframe tbody tr th {\n",
              "        vertical-align: top;\n",
              "    }\n",
              "\n",
              "    .dataframe thead th {\n",
              "        text-align: right;\n",
              "    }\n",
              "</style>\n",
              "<table border=\"1\" class=\"dataframe\">\n",
              "  <thead>\n",
              "    <tr style=\"text-align: right;\">\n",
              "      <th></th>\n",
              "      <th>Date</th>\n",
              "      <th>MinTemp</th>\n",
              "      <th>MaxTemp</th>\n",
              "      <th>Rainfall</th>\n",
              "      <th>Evaporation</th>\n",
              "      <th>Sunshine</th>\n",
              "      <th>WindGustSpeed</th>\n",
              "      <th>WindSpeed9am</th>\n",
              "      <th>WindSpeed3pm</th>\n",
              "      <th>Humidity9am</th>\n",
              "      <th>Humidity3pm</th>\n",
              "      <th>Pressure9am</th>\n",
              "      <th>Pressure3pm</th>\n",
              "      <th>Cloud9am</th>\n",
              "      <th>Cloud3pm</th>\n",
              "      <th>Temp9am</th>\n",
              "      <th>Temp3pm</th>\n",
              "    </tr>\n",
              "  </thead>\n",
              "  <tbody>\n",
              "    <tr>\n",
              "      <th>count</th>\n",
              "      <td>135248.000000</td>\n",
              "      <td>135248.000000</td>\n",
              "      <td>135248.000000</td>\n",
              "      <td>135248.000000</td>\n",
              "      <td>135248.000000</td>\n",
              "      <td>135248.000000</td>\n",
              "      <td>135248.000000</td>\n",
              "      <td>135248.000000</td>\n",
              "      <td>135248.000000</td>\n",
              "      <td>135248.000000</td>\n",
              "      <td>135248.000000</td>\n",
              "      <td>135248.000000</td>\n",
              "      <td>135248.000000</td>\n",
              "      <td>135248.000000</td>\n",
              "      <td>135248.000000</td>\n",
              "      <td>135248.000000</td>\n",
              "      <td>135248.000000</td>\n",
              "    </tr>\n",
              "    <tr>\n",
              "      <th>mean</th>\n",
              "      <td>1586.294215</td>\n",
              "      <td>12.221249</td>\n",
              "      <td>23.237926</td>\n",
              "      <td>1.874194</td>\n",
              "      <td>4.958379</td>\n",
              "      <td>8.047641</td>\n",
              "      <td>39.254318</td>\n",
              "      <td>13.767361</td>\n",
              "      <td>18.484747</td>\n",
              "      <td>69.122560</td>\n",
              "      <td>51.527793</td>\n",
              "      <td>1017.828425</td>\n",
              "      <td>1015.436772</td>\n",
              "      <td>4.661821</td>\n",
              "      <td>4.702288</td>\n",
              "      <td>17.001070</td>\n",
              "      <td>21.693150</td>\n",
              "    </tr>\n",
              "    <tr>\n",
              "      <th>std</th>\n",
              "      <td>910.609749</td>\n",
              "      <td>6.098980</td>\n",
              "      <td>6.633131</td>\n",
              "      <td>5.463821</td>\n",
              "      <td>2.569800</td>\n",
              "      <td>2.735877</td>\n",
              "      <td>12.104946</td>\n",
              "      <td>8.421602</td>\n",
              "      <td>8.302791</td>\n",
              "      <td>17.926642</td>\n",
              "      <td>19.737876</td>\n",
              "      <td>6.311724</td>\n",
              "      <td>6.252521</td>\n",
              "      <td>2.273834</td>\n",
              "      <td>2.105058</td>\n",
              "      <td>6.069176</td>\n",
              "      <td>6.421929</td>\n",
              "    </tr>\n",
              "    <tr>\n",
              "      <th>min</th>\n",
              "      <td>-112.000000</td>\n",
              "      <td>-3.100000</td>\n",
              "      <td>5.400000</td>\n",
              "      <td>0.000000</td>\n",
              "      <td>0.200000</td>\n",
              "      <td>0.000000</td>\n",
              "      <td>13.000000</td>\n",
              "      <td>0.000000</td>\n",
              "      <td>0.000000</td>\n",
              "      <td>14.000000</td>\n",
              "      <td>7.000000</td>\n",
              "      <td>997.500000</td>\n",
              "      <td>996.100000</td>\n",
              "      <td>0.000000</td>\n",
              "      <td>0.000000</td>\n",
              "      <td>0.900000</td>\n",
              "      <td>4.400000</td>\n",
              "    </tr>\n",
              "    <tr>\n",
              "      <th>25%</th>\n",
              "      <td>777.000000</td>\n",
              "      <td>7.800000</td>\n",
              "      <td>18.200000</td>\n",
              "      <td>0.000000</td>\n",
              "      <td>4.000000</td>\n",
              "      <td>8.300000</td>\n",
              "      <td>31.000000</td>\n",
              "      <td>7.000000</td>\n",
              "      <td>13.000000</td>\n",
              "      <td>58.000000</td>\n",
              "      <td>38.000000</td>\n",
              "      <td>1013.800000</td>\n",
              "      <td>1011.400000</td>\n",
              "      <td>3.000000</td>\n",
              "      <td>4.000000</td>\n",
              "      <td>12.500000</td>\n",
              "      <td>16.900000</td>\n",
              "    </tr>\n",
              "    <tr>\n",
              "      <th>50%</th>\n",
              "      <td>1640.000000</td>\n",
              "      <td>12.000000</td>\n",
              "      <td>22.700000</td>\n",
              "      <td>0.000000</td>\n",
              "      <td>4.600000</td>\n",
              "      <td>8.500000</td>\n",
              "      <td>37.000000</td>\n",
              "      <td>13.000000</td>\n",
              "      <td>19.000000</td>\n",
              "      <td>70.000000</td>\n",
              "      <td>52.000000</td>\n",
              "      <td>1017.800000</td>\n",
              "      <td>1015.400000</td>\n",
              "      <td>5.000000</td>\n",
              "      <td>5.000000</td>\n",
              "      <td>16.700000</td>\n",
              "      <td>21.200000</td>\n",
              "    </tr>\n",
              "    <tr>\n",
              "      <th>75%</th>\n",
              "      <td>2378.000000</td>\n",
              "      <td>16.700000</td>\n",
              "      <td>28.000000</td>\n",
              "      <td>0.600000</td>\n",
              "      <td>5.200000</td>\n",
              "      <td>8.700000</td>\n",
              "      <td>46.000000</td>\n",
              "      <td>19.000000</td>\n",
              "      <td>24.000000</td>\n",
              "      <td>82.000000</td>\n",
              "      <td>65.000000</td>\n",
              "      <td>1021.800000</td>\n",
              "      <td>1019.400000</td>\n",
              "      <td>6.000000</td>\n",
              "      <td>6.000000</td>\n",
              "      <td>21.300000</td>\n",
              "      <td>26.100000</td>\n",
              "    </tr>\n",
              "    <tr>\n",
              "      <th>max</th>\n",
              "      <td>3114.000000</td>\n",
              "      <td>26.500000</td>\n",
              "      <td>41.600000</td>\n",
              "      <td>53.000000</td>\n",
              "      <td>23.000000</td>\n",
              "      <td>13.600000</td>\n",
              "      <td>87.000000</td>\n",
              "      <td>44.000000</td>\n",
              "      <td>46.000000</td>\n",
              "      <td>100.000000</td>\n",
              "      <td>99.000000</td>\n",
              "      <td>1035.500000</td>\n",
              "      <td>1033.000000</td>\n",
              "      <td>8.000000</td>\n",
              "      <td>8.000000</td>\n",
              "      <td>32.400000</td>\n",
              "      <td>39.900000</td>\n",
              "    </tr>\n",
              "  </tbody>\n",
              "</table>\n",
              "</div>\n",
              "      <button class=\"colab-df-convert\" onclick=\"convertToInteractive('df-eb5c0328-309f-44ab-98b3-ea8ceb1b7f8c')\"\n",
              "              title=\"Convert this dataframe to an interactive table.\"\n",
              "              style=\"display:none;\">\n",
              "        \n",
              "  <svg xmlns=\"http://www.w3.org/2000/svg\" height=\"24px\"viewBox=\"0 0 24 24\"\n",
              "       width=\"24px\">\n",
              "    <path d=\"M0 0h24v24H0V0z\" fill=\"none\"/>\n",
              "    <path d=\"M18.56 5.44l.94 2.06.94-2.06 2.06-.94-2.06-.94-.94-2.06-.94 2.06-2.06.94zm-11 1L8.5 8.5l.94-2.06 2.06-.94-2.06-.94L8.5 2.5l-.94 2.06-2.06.94zm10 10l.94 2.06.94-2.06 2.06-.94-2.06-.94-.94-2.06-.94 2.06-2.06.94z\"/><path d=\"M17.41 7.96l-1.37-1.37c-.4-.4-.92-.59-1.43-.59-.52 0-1.04.2-1.43.59L10.3 9.45l-7.72 7.72c-.78.78-.78 2.05 0 2.83L4 21.41c.39.39.9.59 1.41.59.51 0 1.02-.2 1.41-.59l7.78-7.78 2.81-2.81c.8-.78.8-2.07 0-2.86zM5.41 20L4 18.59l7.72-7.72 1.47 1.35L5.41 20z\"/>\n",
              "  </svg>\n",
              "      </button>\n",
              "      \n",
              "  <style>\n",
              "    .colab-df-container {\n",
              "      display:flex;\n",
              "      flex-wrap:wrap;\n",
              "      gap: 12px;\n",
              "    }\n",
              "\n",
              "    .colab-df-convert {\n",
              "      background-color: #E8F0FE;\n",
              "      border: none;\n",
              "      border-radius: 50%;\n",
              "      cursor: pointer;\n",
              "      display: none;\n",
              "      fill: #1967D2;\n",
              "      height: 32px;\n",
              "      padding: 0 0 0 0;\n",
              "      width: 32px;\n",
              "    }\n",
              "\n",
              "    .colab-df-convert:hover {\n",
              "      background-color: #E2EBFA;\n",
              "      box-shadow: 0px 1px 2px rgba(60, 64, 67, 0.3), 0px 1px 3px 1px rgba(60, 64, 67, 0.15);\n",
              "      fill: #174EA6;\n",
              "    }\n",
              "\n",
              "    [theme=dark] .colab-df-convert {\n",
              "      background-color: #3B4455;\n",
              "      fill: #D2E3FC;\n",
              "    }\n",
              "\n",
              "    [theme=dark] .colab-df-convert:hover {\n",
              "      background-color: #434B5C;\n",
              "      box-shadow: 0px 1px 3px 1px rgba(0, 0, 0, 0.15);\n",
              "      filter: drop-shadow(0px 1px 2px rgba(0, 0, 0, 0.3));\n",
              "      fill: #FFFFFF;\n",
              "    }\n",
              "  </style>\n",
              "\n",
              "      <script>\n",
              "        const buttonEl =\n",
              "          document.querySelector('#df-eb5c0328-309f-44ab-98b3-ea8ceb1b7f8c button.colab-df-convert');\n",
              "        buttonEl.style.display =\n",
              "          google.colab.kernel.accessAllowed ? 'block' : 'none';\n",
              "\n",
              "        async function convertToInteractive(key) {\n",
              "          const element = document.querySelector('#df-eb5c0328-309f-44ab-98b3-ea8ceb1b7f8c');\n",
              "          const dataTable =\n",
              "            await google.colab.kernel.invokeFunction('convertToInteractive',\n",
              "                                                     [key], {});\n",
              "          if (!dataTable) return;\n",
              "\n",
              "          const docLinkHtml = 'Like what you see? Visit the ' +\n",
              "            '<a target=\"_blank\" href=https://colab.research.google.com/notebooks/data_table.ipynb>data table notebook</a>'\n",
              "            + ' to learn more about interactive tables.';\n",
              "          element.innerHTML = '';\n",
              "          dataTable['output_type'] = 'display_data';\n",
              "          await google.colab.output.renderOutput(dataTable, element);\n",
              "          const docLink = document.createElement('div');\n",
              "          docLink.innerHTML = docLinkHtml;\n",
              "          element.appendChild(docLink);\n",
              "        }\n",
              "      </script>\n",
              "    </div>\n",
              "  </div>\n",
              "  "
            ],
            "text/plain": [
              "                Date        MinTemp  ...        Temp9am        Temp3pm\n",
              "count  135248.000000  135248.000000  ...  135248.000000  135248.000000\n",
              "mean     1586.294215      12.221249  ...      17.001070      21.693150\n",
              "std       910.609749       6.098980  ...       6.069176       6.421929\n",
              "min      -112.000000      -3.100000  ...       0.900000       4.400000\n",
              "25%       777.000000       7.800000  ...      12.500000      16.900000\n",
              "50%      1640.000000      12.000000  ...      16.700000      21.200000\n",
              "75%      2378.000000      16.700000  ...      21.300000      26.100000\n",
              "max      3114.000000      26.500000  ...      32.400000      39.900000\n",
              "\n",
              "[8 rows x 17 columns]"
            ]
          },
          "execution_count": 19,
          "metadata": {},
          "output_type": "execute_result"
        }
      ],
      "source": [
        "data_numerical = data[numerical_columns]\n",
        "data_numerical.describe()"
      ],
      "id": "kUyJXKPh8-4J"
    },
    {
      "cell_type": "code",
      "execution_count": null,
      "metadata": {
        "colab": {
          "base_uri": "https://localhost:8080/"
        },
        "id": "MXzEc0368xpn",
        "outputId": "b4a9bc63-5641-412c-d851-0de142a185e5"
      },
      "outputs": [
        {
          "data": {
            "text/html": [
              "\n",
              "  <div id=\"df-9cf55a85-a0b5-4262-b770-acf6639eced0\">\n",
              "    <div class=\"colab-df-container\">\n",
              "      <div>\n",
              "<style scoped>\n",
              "    .dataframe tbody tr th:only-of-type {\n",
              "        vertical-align: middle;\n",
              "    }\n",
              "\n",
              "    .dataframe tbody tr th {\n",
              "        vertical-align: top;\n",
              "    }\n",
              "\n",
              "    .dataframe thead th {\n",
              "        text-align: right;\n",
              "    }\n",
              "</style>\n",
              "<table border=\"1\" class=\"dataframe\">\n",
              "  <thead>\n",
              "    <tr style=\"text-align: right;\">\n",
              "      <th></th>\n",
              "      <th>Date</th>\n",
              "      <th>MinTemp</th>\n",
              "      <th>MaxTemp</th>\n",
              "      <th>Rainfall</th>\n",
              "      <th>Evaporation</th>\n",
              "      <th>Sunshine</th>\n",
              "      <th>WindGustSpeed</th>\n",
              "      <th>WindSpeed9am</th>\n",
              "      <th>WindSpeed3pm</th>\n",
              "      <th>Humidity9am</th>\n",
              "      <th>Humidity3pm</th>\n",
              "      <th>Pressure9am</th>\n",
              "      <th>Pressure3pm</th>\n",
              "      <th>Cloud9am</th>\n",
              "      <th>Cloud3pm</th>\n",
              "      <th>Temp9am</th>\n",
              "      <th>Temp3pm</th>\n",
              "    </tr>\n",
              "  </thead>\n",
              "  <tbody>\n",
              "    <tr>\n",
              "      <th>count</th>\n",
              "      <td>1.352480e+05</td>\n",
              "      <td>1.352480e+05</td>\n",
              "      <td>1.352480e+05</td>\n",
              "      <td>1.352480e+05</td>\n",
              "      <td>1.352480e+05</td>\n",
              "      <td>1.352480e+05</td>\n",
              "      <td>1.352480e+05</td>\n",
              "      <td>1.352480e+05</td>\n",
              "      <td>1.352480e+05</td>\n",
              "      <td>1.352480e+05</td>\n",
              "      <td>1.352480e+05</td>\n",
              "      <td>1.352480e+05</td>\n",
              "      <td>1.352480e+05</td>\n",
              "      <td>1.352480e+05</td>\n",
              "      <td>1.352480e+05</td>\n",
              "      <td>1.352480e+05</td>\n",
              "      <td>1.352480e+05</td>\n",
              "    </tr>\n",
              "    <tr>\n",
              "      <th>mean</th>\n",
              "      <td>2.100959e-16</td>\n",
              "      <td>2.364322e-14</td>\n",
              "      <td>-2.211592e-14</td>\n",
              "      <td>-2.547673e-14</td>\n",
              "      <td>1.463751e-12</td>\n",
              "      <td>1.000104e-13</td>\n",
              "      <td>2.470284e-14</td>\n",
              "      <td>2.441189e-14</td>\n",
              "      <td>-2.003028e-14</td>\n",
              "      <td>4.437779e-15</td>\n",
              "      <td>3.056318e-15</td>\n",
              "      <td>1.866539e-11</td>\n",
              "      <td>-2.190356e-11</td>\n",
              "      <td>2.200904e-14</td>\n",
              "      <td>-8.242794e-15</td>\n",
              "      <td>3.188228e-14</td>\n",
              "      <td>-2.212244e-13</td>\n",
              "    </tr>\n",
              "    <tr>\n",
              "      <th>std</th>\n",
              "      <td>1.000000e+00</td>\n",
              "      <td>1.000000e+00</td>\n",
              "      <td>1.000000e+00</td>\n",
              "      <td>1.000000e+00</td>\n",
              "      <td>1.000000e+00</td>\n",
              "      <td>1.000000e+00</td>\n",
              "      <td>1.000000e+00</td>\n",
              "      <td>1.000000e+00</td>\n",
              "      <td>1.000000e+00</td>\n",
              "      <td>1.000000e+00</td>\n",
              "      <td>1.000000e+00</td>\n",
              "      <td>1.000000e+00</td>\n",
              "      <td>1.000000e+00</td>\n",
              "      <td>1.000000e+00</td>\n",
              "      <td>1.000000e+00</td>\n",
              "      <td>1.000000e+00</td>\n",
              "      <td>1.000000e+00</td>\n",
              "    </tr>\n",
              "    <tr>\n",
              "      <th>min</th>\n",
              "      <td>-1.865008e+00</td>\n",
              "      <td>-2.512100e+00</td>\n",
              "      <td>-2.689217e+00</td>\n",
              "      <td>-3.430189e-01</td>\n",
              "      <td>-1.851654e+00</td>\n",
              "      <td>-2.941521e+00</td>\n",
              "      <td>-2.168892e+00</td>\n",
              "      <td>-1.634767e+00</td>\n",
              "      <td>-2.226329e+00</td>\n",
              "      <td>-3.074896e+00</td>\n",
              "      <td>-2.255957e+00</td>\n",
              "      <td>-3.220740e+00</td>\n",
              "      <td>-3.092636e+00</td>\n",
              "      <td>-2.050203e+00</td>\n",
              "      <td>-2.233805e+00</td>\n",
              "      <td>-2.652925e+00</td>\n",
              "      <td>-2.692828e+00</td>\n",
              "    </tr>\n",
              "    <tr>\n",
              "      <th>25%</th>\n",
              "      <td>-8.887388e-01</td>\n",
              "      <td>-7.249161e-01</td>\n",
              "      <td>-7.595095e-01</td>\n",
              "      <td>-3.430189e-01</td>\n",
              "      <td>-3.729393e-01</td>\n",
              "      <td>9.224075e-02</td>\n",
              "      <td>-6.818963e-01</td>\n",
              "      <td>-8.035717e-01</td>\n",
              "      <td>-6.605907e-01</td>\n",
              "      <td>-6.204486e-01</td>\n",
              "      <td>-6.853723e-01</td>\n",
              "      <td>-6.382447e-01</td>\n",
              "      <td>-6.456231e-01</td>\n",
              "      <td>-7.308455e-01</td>\n",
              "      <td>-3.336192e-01</td>\n",
              "      <td>-7.416278e-01</td>\n",
              "      <td>-7.463722e-01</td>\n",
              "    </tr>\n",
              "    <tr>\n",
              "      <th>50%</th>\n",
              "      <td>5.897783e-02</td>\n",
              "      <td>-3.627641e-02</td>\n",
              "      <td>-8.109683e-02</td>\n",
              "      <td>-3.430189e-01</td>\n",
              "      <td>-1.394581e-01</td>\n",
              "      <td>1.653434e-01</td>\n",
              "      <td>-1.862311e-01</td>\n",
              "      <td>-9.111814e-02</td>\n",
              "      <td>6.205786e-02</td>\n",
              "      <td>4.894614e-02</td>\n",
              "      <td>2.392388e-02</td>\n",
              "      <td>-4.503495e-03</td>\n",
              "      <td>-5.881139e-03</td>\n",
              "      <td>1.487262e-01</td>\n",
              "      <td>1.414272e-01</td>\n",
              "      <td>-4.960638e-02</td>\n",
              "      <td>-7.679151e-02</td>\n",
              "    </tr>\n",
              "    <tr>\n",
              "      <th>75%</th>\n",
              "      <td>8.694238e-01</td>\n",
              "      <td>7.343442e-01</td>\n",
              "      <td>7.179225e-01</td>\n",
              "      <td>-2.332057e-01</td>\n",
              "      <td>9.402312e-02</td>\n",
              "      <td>2.384461e-01</td>\n",
              "      <td>5.572666e-01</td>\n",
              "      <td>6.213354e-01</td>\n",
              "      <td>6.642650e-01</td>\n",
              "      <td>7.183409e-01</td>\n",
              "      <td>6.825561e-01</td>\n",
              "      <td>6.292377e-01</td>\n",
              "      <td>6.338608e-01</td>\n",
              "      <td>5.885121e-01</td>\n",
              "      <td>6.164736e-01</td>\n",
              "      <td>7.083218e-01</td>\n",
              "      <td>6.862191e-01</td>\n",
              "    </tr>\n",
              "    <tr>\n",
              "      <th>max</th>\n",
              "      <td>1.677673e+00</td>\n",
              "      <td>2.341170e+00</td>\n",
              "      <td>2.768236e+00</td>\n",
              "      <td>9.357152e+00</td>\n",
              "      <td>7.020633e+00</td>\n",
              "      <td>2.029462e+00</td>\n",
              "      <td>3.944312e+00</td>\n",
              "      <td>3.589892e+00</td>\n",
              "      <td>3.313976e+00</td>\n",
              "      <td>1.722433e+00</td>\n",
              "      <td>2.405133e+00</td>\n",
              "      <td>2.799801e+00</td>\n",
              "      <td>2.808983e+00</td>\n",
              "      <td>1.468084e+00</td>\n",
              "      <td>1.566566e+00</td>\n",
              "      <td>2.537236e+00</td>\n",
              "      <td>2.835106e+00</td>\n",
              "    </tr>\n",
              "  </tbody>\n",
              "</table>\n",
              "</div>\n",
              "      <button class=\"colab-df-convert\" onclick=\"convertToInteractive('df-9cf55a85-a0b5-4262-b770-acf6639eced0')\"\n",
              "              title=\"Convert this dataframe to an interactive table.\"\n",
              "              style=\"display:none;\">\n",
              "        \n",
              "  <svg xmlns=\"http://www.w3.org/2000/svg\" height=\"24px\"viewBox=\"0 0 24 24\"\n",
              "       width=\"24px\">\n",
              "    <path d=\"M0 0h24v24H0V0z\" fill=\"none\"/>\n",
              "    <path d=\"M18.56 5.44l.94 2.06.94-2.06 2.06-.94-2.06-.94-.94-2.06-.94 2.06-2.06.94zm-11 1L8.5 8.5l.94-2.06 2.06-.94-2.06-.94L8.5 2.5l-.94 2.06-2.06.94zm10 10l.94 2.06.94-2.06 2.06-.94-2.06-.94-.94-2.06-.94 2.06-2.06.94z\"/><path d=\"M17.41 7.96l-1.37-1.37c-.4-.4-.92-.59-1.43-.59-.52 0-1.04.2-1.43.59L10.3 9.45l-7.72 7.72c-.78.78-.78 2.05 0 2.83L4 21.41c.39.39.9.59 1.41.59.51 0 1.02-.2 1.41-.59l7.78-7.78 2.81-2.81c.8-.78.8-2.07 0-2.86zM5.41 20L4 18.59l7.72-7.72 1.47 1.35L5.41 20z\"/>\n",
              "  </svg>\n",
              "      </button>\n",
              "      \n",
              "  <style>\n",
              "    .colab-df-container {\n",
              "      display:flex;\n",
              "      flex-wrap:wrap;\n",
              "      gap: 12px;\n",
              "    }\n",
              "\n",
              "    .colab-df-convert {\n",
              "      background-color: #E8F0FE;\n",
              "      border: none;\n",
              "      border-radius: 50%;\n",
              "      cursor: pointer;\n",
              "      display: none;\n",
              "      fill: #1967D2;\n",
              "      height: 32px;\n",
              "      padding: 0 0 0 0;\n",
              "      width: 32px;\n",
              "    }\n",
              "\n",
              "    .colab-df-convert:hover {\n",
              "      background-color: #E2EBFA;\n",
              "      box-shadow: 0px 1px 2px rgba(60, 64, 67, 0.3), 0px 1px 3px 1px rgba(60, 64, 67, 0.15);\n",
              "      fill: #174EA6;\n",
              "    }\n",
              "\n",
              "    [theme=dark] .colab-df-convert {\n",
              "      background-color: #3B4455;\n",
              "      fill: #D2E3FC;\n",
              "    }\n",
              "\n",
              "    [theme=dark] .colab-df-convert:hover {\n",
              "      background-color: #434B5C;\n",
              "      box-shadow: 0px 1px 3px 1px rgba(0, 0, 0, 0.15);\n",
              "      filter: drop-shadow(0px 1px 2px rgba(0, 0, 0, 0.3));\n",
              "      fill: #FFFFFF;\n",
              "    }\n",
              "  </style>\n",
              "\n",
              "      <script>\n",
              "        const buttonEl =\n",
              "          document.querySelector('#df-9cf55a85-a0b5-4262-b770-acf6639eced0 button.colab-df-convert');\n",
              "        buttonEl.style.display =\n",
              "          google.colab.kernel.accessAllowed ? 'block' : 'none';\n",
              "\n",
              "        async function convertToInteractive(key) {\n",
              "          const element = document.querySelector('#df-9cf55a85-a0b5-4262-b770-acf6639eced0');\n",
              "          const dataTable =\n",
              "            await google.colab.kernel.invokeFunction('convertToInteractive',\n",
              "                                                     [key], {});\n",
              "          if (!dataTable) return;\n",
              "\n",
              "          const docLinkHtml = 'Like what you see? Visit the ' +\n",
              "            '<a target=\"_blank\" href=https://colab.research.google.com/notebooks/data_table.ipynb>data table notebook</a>'\n",
              "            + ' to learn more about interactive tables.';\n",
              "          element.innerHTML = '';\n",
              "          dataTable['output_type'] = 'display_data';\n",
              "          await google.colab.output.renderOutput(dataTable, element);\n",
              "          const docLink = document.createElement('div');\n",
              "          docLink.innerHTML = docLinkHtml;\n",
              "          element.appendChild(docLink);\n",
              "        }\n",
              "      </script>\n",
              "    </div>\n",
              "  </div>\n",
              "  "
            ],
            "text/plain": [
              "               Date       MinTemp  ...       Temp9am       Temp3pm\n",
              "count  1.352480e+05  1.352480e+05  ...  1.352480e+05  1.352480e+05\n",
              "mean   2.100959e-16  2.364322e-14  ...  3.188228e-14 -2.212244e-13\n",
              "std    1.000000e+00  1.000000e+00  ...  1.000000e+00  1.000000e+00\n",
              "min   -1.865008e+00 -2.512100e+00  ... -2.652925e+00 -2.692828e+00\n",
              "25%   -8.887388e-01 -7.249161e-01  ... -7.416278e-01 -7.463722e-01\n",
              "50%    5.897783e-02 -3.627641e-02  ... -4.960638e-02 -7.679151e-02\n",
              "75%    8.694238e-01  7.343442e-01  ...  7.083218e-01  6.862191e-01\n",
              "max    1.677673e+00  2.341170e+00  ...  2.537236e+00  2.835106e+00\n",
              "\n",
              "[8 rows x 17 columns]"
            ]
          },
          "execution_count": 20,
          "metadata": {},
          "output_type": "execute_result"
        }
      ],
      "source": [
        "data_numerical = (data_numerical - data_numerical.mean(axis = 0))/data_numerical.std(axis = 0)\n",
        "data_numerical.describe()"
      ],
      "id": "MXzEc0368xpn"
    },
    {
      "cell_type": "markdown",
      "metadata": {
        "id": "6wTyodz_9E_f"
      },
      "source": [
        "## Соединяем все в одну таблицу"
      ],
      "id": "6wTyodz_9E_f"
    },
    {
      "cell_type": "code",
      "execution_count": null,
      "metadata": {
        "colab": {
          "base_uri": "https://localhost:8080/"
        },
        "id": "u2Dfs9bw9F1h",
        "outputId": "7e10e864-1369-4170-a09a-8c13bcdbf147"
      },
      "outputs": [
        {
          "name": "stdout",
          "output_type": "stream",
          "text": [
            "(135248, 116)\n"
          ]
        }
      ],
      "source": [
        "data = pd.concat((data_numerical, data_nonbinary, data[binary_columns]), axis = 1)\n",
        "print(data.shape)"
      ],
      "id": "u2Dfs9bw9F1h"
    },
    {
      "cell_type": "markdown",
      "metadata": {
        "id": "7u4xnnRMCA8I"
      },
      "source": [
        "## 7. Разбиение данных на обучающую и тестовую выборки"
      ],
      "id": "7u4xnnRMCA8I"
    },
    {
      "cell_type": "markdown",
      "metadata": {
        "id": "kW87lVtOCmF7"
      },
      "source": [
        "Для предсказания будем использовать все признаки."
      ],
      "id": "kW87lVtOCmF7"
    },
    {
      "cell_type": "code",
      "execution_count": null,
      "metadata": {
        "id": "UEeEY1J4CqIZ"
      },
      "outputs": [],
      "source": [
        "X = data.drop('RainTomorrow', axis = 1)\n",
        "y = data['RainTomorrow']"
      ],
      "id": "UEeEY1J4CqIZ"
    },
    {
      "cell_type": "markdown",
      "metadata": {
        "id": "tg58KRj-CK-4"
      },
      "source": [
        "Разобьем данные на обучающую и тестовую выборки в пропорции 3:1 (75% - обучающая выборка, 25% - тестовая):"
      ],
      "id": "tg58KRj-CK-4"
    },
    {
      "cell_type": "code",
      "execution_count": null,
      "metadata": {
        "colab": {
          "base_uri": "https://localhost:8080/"
        },
        "id": "QAIe14USCPX4",
        "outputId": "37b81449-4d9a-4b60-8c4f-2b241f5849f8"
      },
      "outputs": [
        {
          "data": {
            "text/plain": [
              "(101436, 33812)"
            ]
          },
          "execution_count": 23,
          "metadata": {},
          "output_type": "execute_result"
        }
      ],
      "source": [
        "from sklearn.model_selection import train_test_split\n",
        "X_train, X_test, y_train, y_test = train_test_split(X, y, test_size = 0.25, random_state = 42)\n",
        "\n",
        "N_train, _ = X_train.shape \n",
        "N_test,  _ = X_test.shape \n",
        "\n",
        "N_train, N_test"
      ],
      "id": "QAIe14USCPX4"
    },
    {
      "cell_type": "markdown",
      "metadata": {
        "id": "Lwf6d8dbEH0h"
      },
      "source": [
        "## Классификатор ближайших соседей"
      ],
      "id": "Lwf6d8dbEH0h"
    },
    {
      "cell_type": "code",
      "execution_count": null,
      "metadata": {
        "colab": {
          "base_uri": "https://localhost:8080/"
        },
        "id": "g3jAnbD2Ea_z",
        "outputId": "018e7662-1dd8-4f61-f974-7942f34fda45"
      },
      "outputs": [
        {
          "data": {
            "text/plain": [
              "KNeighborsClassifier(n_neighbors=3)"
            ]
          },
          "execution_count": 24,
          "metadata": {},
          "output_type": "execute_result"
        }
      ],
      "source": [
        "from sklearn.neighbors import KNeighborsClassifier\n",
        "\n",
        "knn = KNeighborsClassifier(n_neighbors = 3)\n",
        "knn.fit(X_train, y_train)"
      ],
      "id": "g3jAnbD2Ea_z"
    },
    {
      "cell_type": "code",
      "execution_count": null,
      "metadata": {
        "id": "m6xpQirVNJS9"
      },
      "outputs": [],
      "source": [
        "y_train_predict = knn.predict(X_train)\n",
        "err_train  = np.mean(y_train  != y_train_predict)"
      ],
      "id": "m6xpQirVNJS9"
    },
    {
      "cell_type": "code",
      "execution_count": null,
      "metadata": {
        "colab": {
          "base_uri": "https://localhost:8080/"
        },
        "id": "wmQbsoa8NKvy",
        "outputId": "aa6bd2db-8dd2-4666-b099-a7e91da63636"
      },
      "outputs": [
        {
          "data": {
            "text/plain": [
              "0.09763791947632004"
            ]
          },
          "execution_count": 26,
          "metadata": {},
          "output_type": "execute_result"
        }
      ],
      "source": [
        "err_train"
      ],
      "id": "wmQbsoa8NKvy"
    },
    {
      "cell_type": "code",
      "execution_count": null,
      "metadata": {
        "id": "wE_McP0-A8DU"
      },
      "outputs": [],
      "source": [
        "y_test_predict = knn.predict(X_test)\n",
        "err_test  = np.mean(y_test  != y_test_predict)"
      ],
      "id": "wE_McP0-A8DU"
    },
    {
      "cell_type": "code",
      "execution_count": null,
      "metadata": {
        "colab": {
          "base_uri": "https://localhost:8080/"
        },
        "id": "BWNu2jZlBAbE",
        "outputId": "67c2c01a-f1aa-4595-c193-88949e242213"
      },
      "outputs": [
        {
          "data": {
            "text/plain": [
              "0.170708624157104"
            ]
          },
          "execution_count": 28,
          "metadata": {},
          "output_type": "execute_result"
        }
      ],
      "source": [
        "err_test"
      ],
      "id": "BWNu2jZlBAbE"
    },
    {
      "cell_type": "markdown",
      "metadata": {
        "id": "eei-pdPNOjJN"
      },
      "source": [
        "Ошибка на обучающей выборке меньше из-за так называемого переобучения. На определенных данных алгоритм улавливает какие-то случайные закономерности, свойственные только конкретному набору данных, и используя их, ошибается меньше."
      ],
      "id": "eei-pdPNOjJN"
    },
    {
      "cell_type": "markdown",
      "metadata": {
        "id": "qqxH6F8TO9_r"
      },
      "source": [
        "Матрица рассогласования:"
      ],
      "id": "qqxH6F8TO9_r"
    },
    {
      "cell_type": "code",
      "execution_count": null,
      "metadata": {
        "colab": {
          "base_uri": "https://localhost:8080/"
        },
        "id": "VIGcT6y5Bj9q",
        "outputId": "0efc86e1-a5fa-466c-e162-75795354f026"
      },
      "outputs": [
        {
          "name": "stdout",
          "output_type": "stream",
          "text": [
            "[[24608  1900]\n",
            " [ 3872  3432]]\n"
          ]
        }
      ],
      "source": [
        "from sklearn.metrics import confusion_matrix\n",
        "\n",
        "print(confusion_matrix(y_test, y_test_predict))"
      ],
      "id": "VIGcT6y5Bj9q"
    },
    {
      "cell_type": "code",
      "execution_count": null,
      "metadata": {
        "colab": {
          "base_uri": "https://localhost:8080/",
          "height": 334
        },
        "id": "1fg3HKwXJzGn",
        "outputId": "a61cda70-06e1-496d-9354-8a73ee61a48a"
      },
      "outputs": [
        {
          "name": "stderr",
          "output_type": "stream",
          "text": [
            "/usr/local/lib/python3.7/dist-packages/sklearn/utils/deprecation.py:87: FutureWarning: Function plot_confusion_matrix is deprecated; Function `plot_confusion_matrix` is deprecated in 1.0 and will be removed in 1.2. Use one of the class methods: ConfusionMatrixDisplay.from_predictions or ConfusionMatrixDisplay.from_estimator.\n",
            "  warnings.warn(msg, category=FutureWarning)\n"
          ]
        },
        {
          "data": {
            "image/png": "[encoded data removed]",
            "text/plain": [
              "<Figure size 432x288 with 2 Axes>"
            ]
          },
          "metadata": {},
          "output_type": "display_data"
        }
      ],
      "source": [
        "from sklearn.metrics import plot_confusion_matrix\n",
        "plot_confusion_matrix(knn, X_test, y_test, cmap=plt.cm.Blues)\n",
        "pass"
      ],
      "id": "1fg3HKwXJzGn"
    },
    {
      "cell_type": "markdown",
      "metadata": {
        "id": "O8Gn-4XkPTU6"
      },
      "source": [
        "Тру негативов больше чем тру позитивов, из-за несбалансированности классов. В `RainTomorrow` No составляет 78%, Yes - 22%"
      ],
      "id": "O8Gn-4XkPTU6"
    },
    {
      "cell_type": "markdown",
      "metadata": {
        "id": "2ketLL9zQiJJ"
      },
      "source": [
        "### Увеличим количество ближайших соседей до 9"
      ],
      "id": "2ketLL9zQiJJ"
    },
    {
      "cell_type": "code",
      "execution_count": null,
      "metadata": {
        "colab": {
          "base_uri": "https://localhost:8080/"
        },
        "id": "y4L5_F1dQmqQ",
        "outputId": "3d2689cd-1348-4c06-ce04-60f2fd85b707"
      },
      "outputs": [
        {
          "data": {
            "text/plain": [
              "KNeighborsClassifier(n_neighbors=9)"
            ]
          },
          "execution_count": 31,
          "metadata": {},
          "output_type": "execute_result"
        }
      ],
      "source": [
        "knn.set_params(n_neighbors=9)\n",
        "knn.fit(X_train, y_train)"
      ],
      "id": "y4L5_F1dQmqQ"
    },
    {
      "cell_type": "code",
      "execution_count": null,
      "metadata": {
        "colab": {
          "base_uri": "https://localhost:8080/"
        },
        "id": "a-5IlAtGQxBE",
        "outputId": "6f06bd0e-0d3c-48e6-80c5-c2e2881546de"
      },
      "outputs": [
        {
          "data": {
            "text/plain": [
              "0.13012145589337118"
            ]
          },
          "execution_count": 32,
          "metadata": {},
          "output_type": "execute_result"
        }
      ],
      "source": [
        "y_train_predict = knn.predict(X_train)\n",
        "err_train  = np.mean(y_train  != y_train_predict)\n",
        "err_train"
      ],
      "id": "a-5IlAtGQxBE"
    },
    {
      "cell_type": "code",
      "execution_count": null,
      "metadata": {
        "colab": {
          "base_uri": "https://localhost:8080/"
        },
        "id": "rlSsCOY6SRsT",
        "outputId": "a3097059-e46b-452f-e649-e1cf94642eed"
      },
      "outputs": [
        {
          "data": {
            "text/plain": [
              "0.15574352300958239"
            ]
          },
          "execution_count": 33,
          "metadata": {},
          "output_type": "execute_result"
        }
      ],
      "source": [
        "y_test_predict = knn.predict(X_test)\n",
        "err_test  = np.mean(y_test  != y_test_predict)\n",
        "err_test"
      ],
      "id": "rlSsCOY6SRsT"
    },
    {
      "cell_type": "markdown",
      "metadata": {
        "id": "mMmpKu7bYuK5"
      },
      "source": [
        "### Увеличим количество ближайших соседей до 17"
      ],
      "id": "mMmpKu7bYuK5"
    },
    {
      "cell_type": "code",
      "execution_count": null,
      "metadata": {
        "colab": {
          "base_uri": "https://localhost:8080/"
        },
        "id": "L5fPIQBhYzJb",
        "outputId": "230b43bd-1e0d-4bc1-b416-1c4fcbdba772"
      },
      "outputs": [
        {
          "data": {
            "text/plain": [
              "KNeighborsClassifier(n_neighbors=17)"
            ]
          },
          "execution_count": 34,
          "metadata": {},
          "output_type": "execute_result"
        }
      ],
      "source": [
        "knn.set_params(n_neighbors=17)\n",
        "knn.fit(X_train, y_train)"
      ],
      "id": "L5fPIQBhYzJb"
    },
    {
      "cell_type": "code",
      "execution_count": null,
      "metadata": {
        "colab": {
          "base_uri": "https://localhost:8080/"
        },
        "id": "3AbgOjKNY2Ai",
        "outputId": "39c04d93-5185-4a99-fdfe-0b4909bfa637"
      },
      "outputs": [
        {
          "data": {
            "text/plain": [
              "0.13906305453685083"
            ]
          },
          "execution_count": 35,
          "metadata": {},
          "output_type": "execute_result"
        }
      ],
      "source": [
        "y_train_predict = knn.predict(X_train)\n",
        "err_train  = np.mean(y_train  != y_train_predict)\n",
        "err_train"
      ],
      "id": "3AbgOjKNY2Ai"
    },
    {
      "cell_type": "code",
      "execution_count": null,
      "metadata": {
        "colab": {
          "base_uri": "https://localhost:8080/"
        },
        "id": "YaNHyINsY2nO",
        "outputId": "da66863f-bb48-48c1-ad60-59475c66c231"
      },
      "outputs": [
        {
          "data": {
            "text/plain": [
              "0.15352537560629362"
            ]
          },
          "execution_count": 36,
          "metadata": {},
          "output_type": "execute_result"
        }
      ],
      "source": [
        "y_test_predict = knn.predict(X_test)\n",
        "err_test  = np.mean(y_test  != y_test_predict)\n",
        "err_test"
      ],
      "id": "YaNHyINsY2nO"
    },
    {
      "cell_type": "markdown",
      "metadata": {
        "id": "ZFhQlno9xE_g"
      },
      "source": [
        "### Увеличим количество ближайших соседей до 51"
      ],
      "id": "ZFhQlno9xE_g"
    },
    {
      "cell_type": "code",
      "execution_count": null,
      "metadata": {
        "colab": {
          "base_uri": "https://localhost:8080/"
        },
        "id": "Sb7YB3bcxHWE",
        "outputId": "003b7e2e-cc18-4950-d65f-fbfe99f178ba"
      },
      "outputs": [
        {
          "data": {
            "text/plain": [
              "KNeighborsClassifier(n_neighbors=51)"
            ]
          },
          "execution_count": 37,
          "metadata": {},
          "output_type": "execute_result"
        }
      ],
      "source": [
        "knn.set_params(n_neighbors=51)\n",
        "knn.fit(X_train, y_train)"
      ],
      "id": "Sb7YB3bcxHWE"
    },
    {
      "cell_type": "code",
      "execution_count": null,
      "metadata": {
        "colab": {
          "base_uri": "https://localhost:8080/"
        },
        "id": "hywR7bt9xLIP",
        "outputId": "9e9568b7-3d94-485d-c0a5-80074103b647"
      },
      "outputs": [
        {
          "data": {
            "text/plain": [
              "0.1486257344532513"
            ]
          },
          "execution_count": 38,
          "metadata": {},
          "output_type": "execute_result"
        }
      ],
      "source": [
        "y_train_predict = knn.predict(X_train)\n",
        "err_train  = np.mean(y_train  != y_train_predict)\n",
        "err_train"
      ],
      "id": "hywR7bt9xLIP"
    },
    {
      "cell_type": "code",
      "execution_count": null,
      "metadata": {
        "colab": {
          "base_uri": "https://localhost:8080/"
        },
        "id": "iLESAkoPxMqY",
        "outputId": "0711ccad-1b5b-4682-d609-92b88f3b642c"
      },
      "outputs": [
        {
          "data": {
            "text/plain": [
              "0.15580267360700342"
            ]
          },
          "execution_count": 39,
          "metadata": {},
          "output_type": "execute_result"
        }
      ],
      "source": [
        "y_test_predict = knn.predict(X_test)\n",
        "err_test  = np.mean(y_test  != y_test_predict)\n",
        "err_test"
      ],
      "id": "iLESAkoPxMqY"
    },
    {
      "cell_type": "markdown",
      "metadata": {
        "id": "C_9PVM7BK90v"
      },
      "source": [
        "### Подбор параметров"
      ],
      "id": "C_9PVM7BK90v"
    },
    {
      "cell_type": "code",
      "execution_count": null,
      "metadata": {
        "colab": {
          "background_save": true
        },
        "id": "QJs-jSIZLCjy",
        "outputId": "ea2d97c0-9231-4210-ca63-3caa06e21e32"
      },
      "outputs": [
        {
          "name": "stdout",
          "output_type": "stream",
          "text": [
            "0.15153394588302116 19\n"
          ]
        }
      ],
      "source": [
        "# Долго!\n",
        "from sklearn.model_selection import GridSearchCV\n",
        "nnb = [1, 3, 5, 9, 15, 19, 25, 35, 45, 55]\n",
        "knn = KNeighborsClassifier()\n",
        "grid = GridSearchCV(knn, param_grid = {'n_neighbors': nnb}, cv=10)\n",
        "grid.fit(X_train, y_train)\n",
        "\n",
        "best_cv_err = 1 - grid.best_score_\n",
        "best_n_neighbors = grid.best_estimator_.n_neighbors\n",
        "print(best_cv_err, best_n_neighbors)"
      ],
      "id": "QJs-jSIZLCjy"
    },
    {
      "cell_type": "markdown",
      "metadata": {
        "id": "uk6Wx9LQweOF"
      },
      "source": [
        "Наиболее эффективен метод с 19-ю ближайшими соседями, хотя вероятности для разного числа соседей на тестовой выборке примерно одинаковы."
      ],
      "id": "uk6Wx9LQweOF"
    }
  ],
  "metadata": {
    "colab": {
      "collapsed_sections": [],
      "name": "Classification task.ipynb",
      "provenance": []
    },
    "kernelspec": {
      "display_name": "Python 3",
      "language": "python",
      "name": "python3"
    },
    "language_info": {
      "codemirror_mode": {
        "name": "ipython",
        "version": 3
      },
      "file_extension": ".py",
      "mimetype": "text/x-python",
      "name": "python",
      "nbconvert_exporter": "python",
      "pygments_lexer": "ipython3",
      "version": "3.8.8"
    }
  },
  "nbformat": 4,
  "nbformat_minor": 5
}