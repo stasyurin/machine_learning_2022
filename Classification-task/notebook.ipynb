{
  "cells": [
    {
      "cell_type": "code",
      "execution_count": 80,
      "id": "33833926",
      "metadata": {
        "id": "33833926"
      },
      "outputs": [],
      "source": [
        "import numpy as np              # Массивы (матрицы, векторы, линейная алгебра)\n",
        "import matplotlib.pyplot as plt # Научная графика\n",
        "%matplotlib inline \n",
        "    # Говорим jupyter'у, чтобы весь графический вывод был в браузере, а не в отдельном окне\n",
        "import pandas as pd             # Таблицы и временные ряды (dataframe, series)\n",
        "import seaborn as sns           # Еще больше красивой графики для визуализации данных\n",
        "import sklearn                  # Алгоритмы машинного обучения"
      ]
    },
    {
      "cell_type": "markdown",
      "id": "d73d389f",
      "metadata": {
        "id": "d73d389f"
      },
      "source": [
        "# Удовлетворенность пассажиров авиакомпании"
      ]
    },
    {
      "cell_type": "markdown",
      "id": "b319e0e8",
      "metadata": {
        "id": "b319e0e8"
      },
      "source": [
        "Предположим, что вы хотите оценить как зависит довольны ли пассажиры полетом на самолете в зависимости от разных факторов."
      ]
    },
    {
      "cell_type": "markdown",
      "id": "61dd4087",
      "metadata": {
        "id": "61dd4087"
      },
      "source": [
        "## Загружаем данные"
      ]
    },
    {
      "cell_type": "markdown",
      "id": "a797c578",
      "metadata": {
        "id": "a797c578"
      },
      "source": [
        "Датасет изначально был разделен на тестовую и обучающую выборку. Для чистоты эксперимента не будем пользоваться этим разделением. Объединим обе таблицы и случайным образом перемешаем строки."
      ]
    },
    {
      "cell_type": "code",
      "execution_count": 81,
      "id": "0b23cd64",
      "metadata": {
        "id": "0b23cd64"
      },
      "outputs": [],
      "source": [
        "url_test = \"https://raw.githubusercontent.com/stasyurin/machine_learning_2021/master/Classification_task/data/test.csv\"\n",
        "data_test = pd.read_csv(url_test)\n",
        "\n",
        "url_train = \"https://raw.githubusercontent.com/stasyurin/machine_learning_2021/master/Classification_task/data/train.csv\"\n",
        "data_train = pd.read_csv(url_train)\n",
        "\n",
        "data = pd.concat([data_test, data_train])"
      ]
    },
    {
      "cell_type": "code",
      "execution_count": 82,
      "id": "6bfed833",
      "metadata": {
        "colab": {
          "base_uri": "https://localhost:8080/"
        },
        "id": "6bfed833",
        "outputId": "a20cf1af-bcf5-4b6d-f01c-1b1dc0cf2d56"
      },
      "outputs": [
        {
          "output_type": "execute_result",
          "data": {
            "text/plain": [
              "Index(['Unnamed: 0', 'id', 'Gender', 'Customer Type', 'Age', 'Type of Travel',\n",
              "       'Class', 'Flight Distance', 'Inflight wifi service',\n",
              "       'Departure/Arrival time convenient', 'Ease of Online booking',\n",
              "       'Gate location', 'Food and drink', 'Online boarding', 'Seat comfort',\n",
              "       'Inflight entertainment', 'On-board service', 'Leg room service',\n",
              "       'Baggage handling', 'Checkin service', 'Inflight service',\n",
              "       'Cleanliness', 'Departure Delay in Minutes', 'Arrival Delay in Minutes',\n",
              "       'satisfaction'],\n",
              "      dtype='object')"
            ]
          },
          "metadata": {},
          "execution_count": 82
        }
      ],
      "source": [
        "data.columns"
      ]
    },
    {
      "cell_type": "code",
      "execution_count": 83,
      "id": "3c72cc34",
      "metadata": {
        "colab": {
          "base_uri": "https://localhost:8080/",
          "height": 714
        },
        "id": "3c72cc34",
        "outputId": "29a1f2b7-fff5-4959-afbf-0fcb4def5c55"
      },
      "outputs": [
        {
          "output_type": "execute_result",
          "data": {
            "text/plain": [
              "        Gender   Customer Type  Age   Type of Travel     Class  \\\n",
              "0         Male  Loyal Customer   53  Personal Travel  Business   \n",
              "1         Male  Loyal Customer   57  Business travel  Business   \n",
              "2       Female  Loyal Customer   38  Personal Travel       Eco   \n",
              "3         Male  Loyal Customer   17  Business travel  Eco Plus   \n",
              "4       Female  Loyal Customer   48  Business travel  Business   \n",
              "...        ...             ...  ...              ...       ...   \n",
              "129875  Female  Loyal Customer   10  Personal Travel       Eco   \n",
              "129876  Female  Loyal Customer   26  Business travel  Business   \n",
              "129877  Female  Loyal Customer   57  Business travel  Business   \n",
              "129878  Female  Loyal Customer   13  Personal Travel       Eco   \n",
              "129879  Female  Loyal Customer   62  Personal Travel  Eco Plus   \n",
              "\n",
              "        Flight Distance  Inflight wifi service  \\\n",
              "0                  1096                      2   \n",
              "1                   224                      4   \n",
              "2                   630                      4   \n",
              "3                   468                      4   \n",
              "4                  1608                      1   \n",
              "...                 ...                    ...   \n",
              "129875              287                      2   \n",
              "129876             1601                      3   \n",
              "129877             3259                      2   \n",
              "129878              441                      3   \n",
              "129879             4983                      3   \n",
              "\n",
              "        Departure/Arrival time convenient  Ease of Online booking  \\\n",
              "0                                       4                       2   \n",
              "1                                       4                       4   \n",
              "2                                       5                       4   \n",
              "3                                       1                       1   \n",
              "4                                       1                       1   \n",
              "...                                   ...                     ...   \n",
              "129875                                  5                       3   \n",
              "129876                                  1                       3   \n",
              "129877                                  5                       2   \n",
              "129878                                  4                       3   \n",
              "129879                                  2                       3   \n",
              "\n",
              "        Gate location  ...  Inflight entertainment  On-board service  \\\n",
              "0                   1  ...                       2                 2   \n",
              "1                   4  ...                       5                 5   \n",
              "2                   5  ...                       2                 4   \n",
              "3                   1  ...                       4                 5   \n",
              "4                   1  ...                       4                 4   \n",
              "...               ...  ...                     ...               ...   \n",
              "129875              3  ...                       5                 4   \n",
              "129876              3  ...                       3                 3   \n",
              "129877              2  ...                       4                 4   \n",
              "129878              2  ...                       5                 5   \n",
              "129879              3  ...                       2                 1   \n",
              "\n",
              "        Leg room service  Baggage handling  Checkin service  Inflight service  \\\n",
              "0                      2                 4                2                 2   \n",
              "1                      5                 5                5                 5   \n",
              "2                      2                 5                5                 5   \n",
              "3                      2                 2                2                 2   \n",
              "4                      4                 4                5                 4   \n",
              "...                  ...               ...              ...               ...   \n",
              "129875                 5                 4                1                 4   \n",
              "129876                 5                 4                5                 4   \n",
              "129877                 4                 5                4                 4   \n",
              "129878                 5                 3                4                 3   \n",
              "129879                 3                 4                4                 1   \n",
              "\n",
              "        Cleanliness  Departure Delay in Minutes  Arrival Delay in Minutes  \\\n",
              "0                 5                           0                       0.0   \n",
              "1                 5                           1                       0.0   \n",
              "2                 2                           0                       0.0   \n",
              "3                 4                           0                       0.0   \n",
              "4                 4                           0                      19.0   \n",
              "...             ...                         ...                       ...   \n",
              "129875            1                         127                     133.0   \n",
              "129876            3                           5                       0.0   \n",
              "129877            4                           0                       0.0   \n",
              "129878            5                          13                       0.0   \n",
              "129879            4                           0                       0.0   \n",
              "\n",
              "                   satisfaction  \n",
              "0       neutral or dissatisfied  \n",
              "1                     satisfied  \n",
              "2       neutral or dissatisfied  \n",
              "3                     satisfied  \n",
              "4                     satisfied  \n",
              "...                         ...  \n",
              "129875  neutral or dissatisfied  \n",
              "129876                satisfied  \n",
              "129877                satisfied  \n",
              "129878  neutral or dissatisfied  \n",
              "129879  neutral or dissatisfied  \n",
              "\n",
              "[129880 rows x 23 columns]"
            ],
            "text/html": [
              "\n",
              "  <div id=\"df-8b96ccd8-beb1-455d-b02f-2b4c2b12a1ef\">\n",
              "    <div class=\"colab-df-container\">\n",
              "      <div>\n",
              "<style scoped>\n",
              "    .dataframe tbody tr th:only-of-type {\n",
              "        vertical-align: middle;\n",
              "    }\n",
              "\n",
              "    .dataframe tbody tr th {\n",
              "        vertical-align: top;\n",
              "    }\n",
              "\n",
              "    .dataframe thead th {\n",
              "        text-align: right;\n",
              "    }\n",
              "</style>\n",
              "<table border=\"1\" class=\"dataframe\">\n",
              "  <thead>\n",
              "    <tr style=\"text-align: right;\">\n",
              "      <th></th>\n",
              "      <th>Gender</th>\n",
              "      <th>Customer Type</th>\n",
              "      <th>Age</th>\n",
              "      <th>Type of Travel</th>\n",
              "      <th>Class</th>\n",
              "      <th>Flight Distance</th>\n",
              "      <th>Inflight wifi service</th>\n",
              "      <th>Departure/Arrival time convenient</th>\n",
              "      <th>Ease of Online booking</th>\n",
              "      <th>Gate location</th>\n",
              "      <th>...</th>\n",
              "      <th>Inflight entertainment</th>\n",
              "      <th>On-board service</th>\n",
              "      <th>Leg room service</th>\n",
              "      <th>Baggage handling</th>\n",
              "      <th>Checkin service</th>\n",
              "      <th>Inflight service</th>\n",
              "      <th>Cleanliness</th>\n",
              "      <th>Departure Delay in Minutes</th>\n",
              "      <th>Arrival Delay in Minutes</th>\n",
              "      <th>satisfaction</th>\n",
              "    </tr>\n",
              "  </thead>\n",
              "  <tbody>\n",
              "    <tr>\n",
              "      <th>0</th>\n",
              "      <td>Male</td>\n",
              "      <td>Loyal Customer</td>\n",
              "      <td>53</td>\n",
              "      <td>Personal Travel</td>\n",
              "      <td>Business</td>\n",
              "      <td>1096</td>\n",
              "      <td>2</td>\n",
              "      <td>4</td>\n",
              "      <td>2</td>\n",
              "      <td>1</td>\n",
              "      <td>...</td>\n",
              "      <td>2</td>\n",
              "      <td>2</td>\n",
              "      <td>2</td>\n",
              "      <td>4</td>\n",
              "      <td>2</td>\n",
              "      <td>2</td>\n",
              "      <td>5</td>\n",
              "      <td>0</td>\n",
              "      <td>0.0</td>\n",
              "      <td>neutral or dissatisfied</td>\n",
              "    </tr>\n",
              "    <tr>\n",
              "      <th>1</th>\n",
              "      <td>Male</td>\n",
              "      <td>Loyal Customer</td>\n",
              "      <td>57</td>\n",
              "      <td>Business travel</td>\n",
              "      <td>Business</td>\n",
              "      <td>224</td>\n",
              "      <td>4</td>\n",
              "      <td>4</td>\n",
              "      <td>4</td>\n",
              "      <td>4</td>\n",
              "      <td>...</td>\n",
              "      <td>5</td>\n",
              "      <td>5</td>\n",
              "      <td>5</td>\n",
              "      <td>5</td>\n",
              "      <td>5</td>\n",
              "      <td>5</td>\n",
              "      <td>5</td>\n",
              "      <td>1</td>\n",
              "      <td>0.0</td>\n",
              "      <td>satisfied</td>\n",
              "    </tr>\n",
              "    <tr>\n",
              "      <th>2</th>\n",
              "      <td>Female</td>\n",
              "      <td>Loyal Customer</td>\n",
              "      <td>38</td>\n",
              "      <td>Personal Travel</td>\n",
              "      <td>Eco</td>\n",
              "      <td>630</td>\n",
              "      <td>4</td>\n",
              "      <td>5</td>\n",
              "      <td>4</td>\n",
              "      <td>5</td>\n",
              "      <td>...</td>\n",
              "      <td>2</td>\n",
              "      <td>4</td>\n",
              "      <td>2</td>\n",
              "      <td>5</td>\n",
              "      <td>5</td>\n",
              "      <td>5</td>\n",
              "      <td>2</td>\n",
              "      <td>0</td>\n",
              "      <td>0.0</td>\n",
              "      <td>neutral or dissatisfied</td>\n",
              "    </tr>\n",
              "    <tr>\n",
              "      <th>3</th>\n",
              "      <td>Male</td>\n",
              "      <td>Loyal Customer</td>\n",
              "      <td>17</td>\n",
              "      <td>Business travel</td>\n",
              "      <td>Eco Plus</td>\n",
              "      <td>468</td>\n",
              "      <td>4</td>\n",
              "      <td>1</td>\n",
              "      <td>1</td>\n",
              "      <td>1</td>\n",
              "      <td>...</td>\n",
              "      <td>4</td>\n",
              "      <td>5</td>\n",
              "      <td>2</td>\n",
              "      <td>2</td>\n",
              "      <td>2</td>\n",
              "      <td>2</td>\n",
              "      <td>4</td>\n",
              "      <td>0</td>\n",
              "      <td>0.0</td>\n",
              "      <td>satisfied</td>\n",
              "    </tr>\n",
              "    <tr>\n",
              "      <th>4</th>\n",
              "      <td>Female</td>\n",
              "      <td>Loyal Customer</td>\n",
              "      <td>48</td>\n",
              "      <td>Business travel</td>\n",
              "      <td>Business</td>\n",
              "      <td>1608</td>\n",
              "      <td>1</td>\n",
              "      <td>1</td>\n",
              "      <td>1</td>\n",
              "      <td>1</td>\n",
              "      <td>...</td>\n",
              "      <td>4</td>\n",
              "      <td>4</td>\n",
              "      <td>4</td>\n",
              "      <td>4</td>\n",
              "      <td>5</td>\n",
              "      <td>4</td>\n",
              "      <td>4</td>\n",
              "      <td>0</td>\n",
              "      <td>19.0</td>\n",
              "      <td>satisfied</td>\n",
              "    </tr>\n",
              "    <tr>\n",
              "      <th>...</th>\n",
              "      <td>...</td>\n",
              "      <td>...</td>\n",
              "      <td>...</td>\n",
              "      <td>...</td>\n",
              "      <td>...</td>\n",
              "      <td>...</td>\n",
              "      <td>...</td>\n",
              "      <td>...</td>\n",
              "      <td>...</td>\n",
              "      <td>...</td>\n",
              "      <td>...</td>\n",
              "      <td>...</td>\n",
              "      <td>...</td>\n",
              "      <td>...</td>\n",
              "      <td>...</td>\n",
              "      <td>...</td>\n",
              "      <td>...</td>\n",
              "      <td>...</td>\n",
              "      <td>...</td>\n",
              "      <td>...</td>\n",
              "      <td>...</td>\n",
              "    </tr>\n",
              "    <tr>\n",
              "      <th>129875</th>\n",
              "      <td>Female</td>\n",
              "      <td>Loyal Customer</td>\n",
              "      <td>10</td>\n",
              "      <td>Personal Travel</td>\n",
              "      <td>Eco</td>\n",
              "      <td>287</td>\n",
              "      <td>2</td>\n",
              "      <td>5</td>\n",
              "      <td>3</td>\n",
              "      <td>3</td>\n",
              "      <td>...</td>\n",
              "      <td>5</td>\n",
              "      <td>4</td>\n",
              "      <td>5</td>\n",
              "      <td>4</td>\n",
              "      <td>1</td>\n",
              "      <td>4</td>\n",
              "      <td>1</td>\n",
              "      <td>127</td>\n",
              "      <td>133.0</td>\n",
              "      <td>neutral or dissatisfied</td>\n",
              "    </tr>\n",
              "    <tr>\n",
              "      <th>129876</th>\n",
              "      <td>Female</td>\n",
              "      <td>Loyal Customer</td>\n",
              "      <td>26</td>\n",
              "      <td>Business travel</td>\n",
              "      <td>Business</td>\n",
              "      <td>1601</td>\n",
              "      <td>3</td>\n",
              "      <td>1</td>\n",
              "      <td>3</td>\n",
              "      <td>3</td>\n",
              "      <td>...</td>\n",
              "      <td>3</td>\n",
              "      <td>3</td>\n",
              "      <td>5</td>\n",
              "      <td>4</td>\n",
              "      <td>5</td>\n",
              "      <td>4</td>\n",
              "      <td>3</td>\n",
              "      <td>5</td>\n",
              "      <td>0.0</td>\n",
              "      <td>satisfied</td>\n",
              "    </tr>\n",
              "    <tr>\n",
              "      <th>129877</th>\n",
              "      <td>Female</td>\n",
              "      <td>Loyal Customer</td>\n",
              "      <td>57</td>\n",
              "      <td>Business travel</td>\n",
              "      <td>Business</td>\n",
              "      <td>3259</td>\n",
              "      <td>2</td>\n",
              "      <td>5</td>\n",
              "      <td>2</td>\n",
              "      <td>2</td>\n",
              "      <td>...</td>\n",
              "      <td>4</td>\n",
              "      <td>4</td>\n",
              "      <td>4</td>\n",
              "      <td>5</td>\n",
              "      <td>4</td>\n",
              "      <td>4</td>\n",
              "      <td>4</td>\n",
              "      <td>0</td>\n",
              "      <td>0.0</td>\n",
              "      <td>satisfied</td>\n",
              "    </tr>\n",
              "    <tr>\n",
              "      <th>129878</th>\n",
              "      <td>Female</td>\n",
              "      <td>Loyal Customer</td>\n",
              "      <td>13</td>\n",
              "      <td>Personal Travel</td>\n",
              "      <td>Eco</td>\n",
              "      <td>441</td>\n",
              "      <td>3</td>\n",
              "      <td>4</td>\n",
              "      <td>3</td>\n",
              "      <td>2</td>\n",
              "      <td>...</td>\n",
              "      <td>5</td>\n",
              "      <td>5</td>\n",
              "      <td>5</td>\n",
              "      <td>3</td>\n",
              "      <td>4</td>\n",
              "      <td>3</td>\n",
              "      <td>5</td>\n",
              "      <td>13</td>\n",
              "      <td>0.0</td>\n",
              "      <td>neutral or dissatisfied</td>\n",
              "    </tr>\n",
              "    <tr>\n",
              "      <th>129879</th>\n",
              "      <td>Female</td>\n",
              "      <td>Loyal Customer</td>\n",
              "      <td>62</td>\n",
              "      <td>Personal Travel</td>\n",
              "      <td>Eco Plus</td>\n",
              "      <td>4983</td>\n",
              "      <td>3</td>\n",
              "      <td>2</td>\n",
              "      <td>3</td>\n",
              "      <td>3</td>\n",
              "      <td>...</td>\n",
              "      <td>2</td>\n",
              "      <td>1</td>\n",
              "      <td>3</td>\n",
              "      <td>4</td>\n",
              "      <td>4</td>\n",
              "      <td>1</td>\n",
              "      <td>4</td>\n",
              "      <td>0</td>\n",
              "      <td>0.0</td>\n",
              "      <td>neutral or dissatisfied</td>\n",
              "    </tr>\n",
              "  </tbody>\n",
              "</table>\n",
              "<p>129880 rows × 23 columns</p>\n",
              "</div>\n",
              "      <button class=\"colab-df-convert\" onclick=\"convertToInteractive('df-8b96ccd8-beb1-455d-b02f-2b4c2b12a1ef')\"\n",
              "              title=\"Convert this dataframe to an interactive table.\"\n",
              "              style=\"display:none;\">\n",
              "        \n",
              "  <svg xmlns=\"http://www.w3.org/2000/svg\" height=\"24px\"viewBox=\"0 0 24 24\"\n",
              "       width=\"24px\">\n",
              "    <path d=\"M0 0h24v24H0V0z\" fill=\"none\"/>\n",
              "    <path d=\"M18.56 5.44l.94 2.06.94-2.06 2.06-.94-2.06-.94-.94-2.06-.94 2.06-2.06.94zm-11 1L8.5 8.5l.94-2.06 2.06-.94-2.06-.94L8.5 2.5l-.94 2.06-2.06.94zm10 10l.94 2.06.94-2.06 2.06-.94-2.06-.94-.94-2.06-.94 2.06-2.06.94z\"/><path d=\"M17.41 7.96l-1.37-1.37c-.4-.4-.92-.59-1.43-.59-.52 0-1.04.2-1.43.59L10.3 9.45l-7.72 7.72c-.78.78-.78 2.05 0 2.83L4 21.41c.39.39.9.59 1.41.59.51 0 1.02-.2 1.41-.59l7.78-7.78 2.81-2.81c.8-.78.8-2.07 0-2.86zM5.41 20L4 18.59l7.72-7.72 1.47 1.35L5.41 20z\"/>\n",
              "  </svg>\n",
              "      </button>\n",
              "      \n",
              "  <style>\n",
              "    .colab-df-container {\n",
              "      display:flex;\n",
              "      flex-wrap:wrap;\n",
              "      gap: 12px;\n",
              "    }\n",
              "\n",
              "    .colab-df-convert {\n",
              "      background-color: #E8F0FE;\n",
              "      border: none;\n",
              "      border-radius: 50%;\n",
              "      cursor: pointer;\n",
              "      display: none;\n",
              "      fill: #1967D2;\n",
              "      height: 32px;\n",
              "      padding: 0 0 0 0;\n",
              "      width: 32px;\n",
              "    }\n",
              "\n",
              "    .colab-df-convert:hover {\n",
              "      background-color: #E2EBFA;\n",
              "      box-shadow: 0px 1px 2px rgba(60, 64, 67, 0.3), 0px 1px 3px 1px rgba(60, 64, 67, 0.15);\n",
              "      fill: #174EA6;\n",
              "    }\n",
              "\n",
              "    [theme=dark] .colab-df-convert {\n",
              "      background-color: #3B4455;\n",
              "      fill: #D2E3FC;\n",
              "    }\n",
              "\n",
              "    [theme=dark] .colab-df-convert:hover {\n",
              "      background-color: #434B5C;\n",
              "      box-shadow: 0px 1px 3px 1px rgba(0, 0, 0, 0.15);\n",
              "      filter: drop-shadow(0px 1px 2px rgba(0, 0, 0, 0.3));\n",
              "      fill: #FFFFFF;\n",
              "    }\n",
              "  </style>\n",
              "\n",
              "      <script>\n",
              "        const buttonEl =\n",
              "          document.querySelector('#df-8b96ccd8-beb1-455d-b02f-2b4c2b12a1ef button.colab-df-convert');\n",
              "        buttonEl.style.display =\n",
              "          google.colab.kernel.accessAllowed ? 'block' : 'none';\n",
              "\n",
              "        async function convertToInteractive(key) {\n",
              "          const element = document.querySelector('#df-8b96ccd8-beb1-455d-b02f-2b4c2b12a1ef');\n",
              "          const dataTable =\n",
              "            await google.colab.kernel.invokeFunction('convertToInteractive',\n",
              "                                                     [key], {});\n",
              "          if (!dataTable) return;\n",
              "\n",
              "          const docLinkHtml = 'Like what you see? Visit the ' +\n",
              "            '<a target=\"_blank\" href=https://colab.research.google.com/notebooks/data_table.ipynb>data table notebook</a>'\n",
              "            + ' to learn more about interactive tables.';\n",
              "          element.innerHTML = '';\n",
              "          dataTable['output_type'] = 'display_data';\n",
              "          await google.colab.output.renderOutput(dataTable, element);\n",
              "          const docLink = document.createElement('div');\n",
              "          docLink.innerHTML = docLinkHtml;\n",
              "          element.appendChild(docLink);\n",
              "        }\n",
              "      </script>\n",
              "    </div>\n",
              "  </div>\n",
              "  "
            ]
          },
          "metadata": {},
          "execution_count": 83
        }
      ],
      "source": [
        "\n",
        "data.drop(['Unnamed: 0', 'id'], axis=1, inplace=True) # удалим служебные столбцы\n",
        "data.sample(frac=1, random_state = 42).reset_index(drop=True) # и перемешиваем"
      ]
    },
    {
      "cell_type": "code",
      "execution_count": 84,
      "id": "aeb64e7f",
      "metadata": {
        "colab": {
          "base_uri": "https://localhost:8080/"
        },
        "id": "aeb64e7f",
        "outputId": "02308b0a-6b88-473a-e2c9-e80e2b139119"
      },
      "outputs": [
        {
          "output_type": "execute_result",
          "data": {
            "text/plain": [
              "Index(['Gender', 'Customer Type', 'Age', 'Type of Travel', 'Class',\n",
              "       'Flight Distance', 'Inflight wifi service',\n",
              "       'Departure/Arrival time convenient', 'Ease of Online booking',\n",
              "       'Gate location', 'Food and drink', 'Online boarding', 'Seat comfort',\n",
              "       'Inflight entertainment', 'On-board service', 'Leg room service',\n",
              "       'Baggage handling', 'Checkin service', 'Inflight service',\n",
              "       'Cleanliness', 'Departure Delay in Minutes', 'Arrival Delay in Minutes',\n",
              "       'satisfaction'],\n",
              "      dtype='object')"
            ]
          },
          "metadata": {},
          "execution_count": 84
        }
      ],
      "source": [
        "data.columns"
      ]
    },
    {
      "cell_type": "markdown",
      "id": "0IB9ujVnovl1",
      "metadata": {
        "id": "0IB9ujVnovl1"
      },
      "source": [
        "Столбцы (признаки) имеют имена\n",
        "\n",
        "- `Gender` - Пол. Бинарный признак. Типы: Female (Женский), Male (Мужской).\n",
        "- `Customer Type` - Тип клиента. Бинарный признак. Типы: `Loyal customer` (Лояльный клиент) и `Disloyal customer` (Нелояльный клиент). Лояльный клиент - это клиент, лояльный к авиакомпании, то есть чаще предпочитающий пользоваться услугами данной авиакомпании нежели другой. Нелояльный - чаще пользующийся услугами другой компании.\n",
        "- `Age` - Возраст. Количественный признак.\n",
        "- `Type of Travel` - Цель полета пассажира. Бинарный признак. Типы: `Personal Travel` (Личная поездка), Business Travel (Деловая поездка).\n",
        "- `Class` - Туристический класс, которым летит пассажир. Категориальный признак. Типы: `Business` (Бизнес), `Eco` (Эконом), `Eco Plus` (Эконом Плюс).\n",
        "- `Flight Distance` - Расстояние полета. Количественный признак.\n",
        "- `Inflight wifi service` - уровень удовлетворенности услугой Wi-Fi - от 1 до 5.  Количественный признак.\n",
        "- `Departure/Arrival time convenient` - Уровень удовлетворенности тем, насколько удобно было время отправления/прибытия. Количественный признак.\n",
        "- `Ease of Online booking` - Уровень удовлетворенности простотой онлайн-бронирования. Количественный признак.\n",
        "- `Gate location` - Уровень удовлетворенности расположением выходов. Количественный признак.\n",
        "- `Food and drink` - Уровень удовлетворенности едой и напитками. Количественный признак.\n",
        "- `Online boarding` - Уровень удовлетворенности онлайн регистрацией на рейс. Количественный признак.\n",
        "- `Seat comfort` - Уровень удовлетворенности комфортабельностью кресел. Количественный признак.\n",
        "- `Inflight entertainment` - Уровень удовлетворенности развлечениями во время полета. Количественный признак.\n",
        "- `On-board service` - Уровень удовлетворенности услугами на борту. Количественный признак.\n",
        "- `Leg room service` - Уровень удовлетворенности количеством места для ног. Количественный признак.\n",
        "- `Baggage handling` - Уровень удовлетворенности услугами по транспортировке багажа. Количественный признак.\n",
        "- `Checkin service` - Уровень удовлетворенности услугой регистрации на рейс. Количественный признак.\n",
        "- `Inflight service` - Уровень удовлетворенности услугами во время полета. Количественный признак.\n",
        "- `Cleanliness` - Уровень удовлетворенности чистотой. Количественный признак.\n",
        "- `Departure Delay in Minutes` - Задержка отправления в минутах. Количественный признак.\n",
        "- `Arrival Delay in Minutes` - Задержка прибытия в минутах. Количественный признак.\n",
        "- `satisfaction` - Уровень удовлетворенности. Бинарный признак. Типы: `satisfaction` (удовлетоврен), `neutral or dissatisfied` (нейтрален или неудовлетоврен).\n",
        "\n",
        "Требуется предсказать признак `satisfaction` по остальным признакам. Это *задача классификации*."
      ]
    },
    {
      "cell_type": "markdown",
      "id": "581a67ab",
      "metadata": {
        "id": "581a67ab"
      },
      "source": [
        "##  Обрабатываем пропущенные значения"
      ]
    },
    {
      "cell_type": "markdown",
      "id": "bdcd7bab",
      "metadata": {
        "id": "bdcd7bab"
      },
      "source": [
        "В данных небошльшое количество пропущенных значений:"
      ]
    },
    {
      "cell_type": "code",
      "execution_count": 85,
      "id": "f8cbfd3a",
      "metadata": {
        "colab": {
          "base_uri": "https://localhost:8080/"
        },
        "id": "f8cbfd3a",
        "outputId": "97e13a2b-1af1-4474-cfe8-9e12cbc16ff8"
      },
      "outputs": [
        {
          "output_type": "execute_result",
          "data": {
            "text/plain": [
              "Gender                                 0\n",
              "Customer Type                          0\n",
              "Age                                    0\n",
              "Type of Travel                         0\n",
              "Class                                  0\n",
              "Flight Distance                        0\n",
              "Inflight wifi service                  0\n",
              "Departure/Arrival time convenient      0\n",
              "Ease of Online booking                 0\n",
              "Gate location                          0\n",
              "Food and drink                         0\n",
              "Online boarding                        0\n",
              "Seat comfort                           0\n",
              "Inflight entertainment                 0\n",
              "On-board service                       0\n",
              "Leg room service                       0\n",
              "Baggage handling                       0\n",
              "Checkin service                        0\n",
              "Inflight service                       0\n",
              "Cleanliness                            0\n",
              "Departure Delay in Minutes             0\n",
              "Arrival Delay in Minutes             393\n",
              "satisfaction                           0\n",
              "dtype: int64"
            ]
          },
          "metadata": {},
          "execution_count": 85
        }
      ],
      "source": [
        "data.isna().sum()"
      ]
    },
    {
      "cell_type": "markdown",
      "id": "a4f6ddb5",
      "metadata": {
        "id": "a4f6ddb5"
      },
      "source": [
        "Заполним медианами пропущенные значения в столбцах, соответствующих числовым признакам:"
      ]
    },
    {
      "cell_type": "code",
      "execution_count": 86,
      "id": "f2df1aa9",
      "metadata": {
        "id": "f2df1aa9"
      },
      "outputs": [],
      "source": [
        "data['Arrival Delay in Minutes'].fillna(data['Arrival Delay in Minutes'].median(axis = 0), axis=0 , inplace=True)"
      ]
    },
    {
      "cell_type": "code",
      "execution_count": 87,
      "id": "507bcf57",
      "metadata": {
        "colab": {
          "base_uri": "https://localhost:8080/"
        },
        "id": "507bcf57",
        "outputId": "405566c5-91fb-48b3-fb7f-c9ab53abc4ae"
      },
      "outputs": [
        {
          "output_type": "execute_result",
          "data": {
            "text/plain": [
              "Gender                               0\n",
              "Customer Type                        0\n",
              "Age                                  0\n",
              "Type of Travel                       0\n",
              "Class                                0\n",
              "Flight Distance                      0\n",
              "Inflight wifi service                0\n",
              "Departure/Arrival time convenient    0\n",
              "Ease of Online booking               0\n",
              "Gate location                        0\n",
              "Food and drink                       0\n",
              "Online boarding                      0\n",
              "Seat comfort                         0\n",
              "Inflight entertainment               0\n",
              "On-board service                     0\n",
              "Leg room service                     0\n",
              "Baggage handling                     0\n",
              "Checkin service                      0\n",
              "Inflight service                     0\n",
              "Cleanliness                          0\n",
              "Departure Delay in Minutes           0\n",
              "Arrival Delay in Minutes             0\n",
              "satisfaction                         0\n",
              "dtype: int64"
            ]
          },
          "metadata": {},
          "execution_count": 87
        }
      ],
      "source": [
        "data.isna().sum()"
      ]
    },
    {
      "cell_type": "markdown",
      "id": "c6541acd",
      "metadata": {
        "id": "c6541acd"
      },
      "source": [
        "## Боремся с выбросами для числовых признаков"
      ]
    },
    {
      "cell_type": "code",
      "execution_count": 88,
      "id": "U-G0xVJ54SEX",
      "metadata": {
        "colab": {
          "base_uri": "https://localhost:8080/"
        },
        "id": "U-G0xVJ54SEX",
        "outputId": "e810c4f5-1c1c-4f8c-c6e3-7cd181629326"
      },
      "outputs": [
        {
          "output_type": "stream",
          "name": "stdout",
          "text": [
            "['Gender', 'Customer Type', 'Type of Travel', 'Class', 'satisfaction']\n",
            "['Age', 'Flight Distance', 'Inflight wifi service', 'Departure/Arrival time convenient', 'Ease of Online booking', 'Gate location', 'Food and drink', 'Online boarding', 'Seat comfort', 'Inflight entertainment', 'On-board service', 'Leg room service', 'Baggage handling', 'Checkin service', 'Inflight service', 'Cleanliness', 'Departure Delay in Minutes', 'Arrival Delay in Minutes']\n"
          ]
        }
      ],
      "source": [
        "categorical_columns = [c for c in data.columns if data[c].dtype.name == 'object']\n",
        "numerical_columns   = [c for c in data.columns if data[c].dtype.name != 'object']\n",
        "print(categorical_columns)\n",
        "print(numerical_columns)"
      ]
    },
    {
      "cell_type": "code",
      "execution_count": 89,
      "id": "a9fb366e",
      "metadata": {
        "colab": {
          "base_uri": "https://localhost:8080/"
        },
        "id": "a9fb366e",
        "outputId": "01f5366b-ce09-40fe-fe14-722d91b008e1"
      },
      "outputs": [
        {
          "output_type": "stream",
          "name": "stdout",
          "text": [
            "(129880, 23)\n",
            "(125523, 23)\n"
          ]
        }
      ],
      "source": [
        "print(data.shape)\n",
        "\n",
        "rows_to_drop = []\n",
        "for column in data.columns:\n",
        "    if (column in categorical_columns):\n",
        "        continue\n",
        "    rows_to_drop += data[(data[column] < data[column].quantile(0.005))\n",
        "    | (data[column] > data[column].quantile(0.995))].index.tolist()\n",
        "data = data.drop(rows_to_drop)\n",
        "\n",
        "print(data.shape)"
      ]
    },
    {
      "cell_type": "markdown",
      "id": "-n83K1zNDasK",
      "metadata": {
        "id": "-n83K1zNDasK"
      },
      "source": [
        "Для всех количественных признаков удаление выбросов привело к сокращению количества строк на 129880 - 125523 = 4357 строк"
      ]
    },
    {
      "cell_type": "markdown",
      "id": "ziHrau8lEhGp",
      "metadata": {
        "id": "ziHrau8lEhGp"
      },
      "source": [
        "## Визуализация и описательная статистика"
      ]
    },
    {
      "cell_type": "markdown",
      "id": "9naiSP3DE5Kt",
      "metadata": {
        "id": "9naiSP3DE5Kt"
      },
      "source": [
        "Матрица корреляции"
      ]
    },
    {
      "cell_type": "code",
      "execution_count": 90,
      "id": "4964b4ef",
      "metadata": {
        "colab": {
          "base_uri": "https://localhost:8080/",
          "height": 430
        },
        "id": "4964b4ef",
        "outputId": "a28e9aa0-6b4f-40d7-87fd-ded6089a35ac"
      },
      "outputs": [
        {
          "output_type": "display_data",
          "data": {
            "text/plain": [
              "<Figure size 432x288 with 2 Axes>"
            ],
            "image/png": "[encoded data removed]"
          },
          "metadata": {
            "needs_background": "light"
          }
        }
      ],
      "source": [
        "corr_mat = data.corr()\n",
        "sns.heatmap(corr_mat, square=True, cmap='coolwarm')\n",
        "pass"
      ]
    },
    {
      "cell_type": "markdown",
      "source": [
        "По матрице можно видеть корелляцию между такими признаками как `Еда и напитки`, `Чистота`, `Комфорт кресел` и `Удовлетворенность услугами на борту`, что в целом соответствует жизненной логике."
      ],
      "metadata": {
        "id": "oUkS7ty1B_9_"
      },
      "id": "oUkS7ty1B_9_"
    },
    {
      "cell_type": "code",
      "execution_count": 91,
      "id": "R7cZp-DsJhOQ",
      "metadata": {
        "colab": {
          "base_uri": "https://localhost:8080/",
          "height": 399
        },
        "id": "R7cZp-DsJhOQ",
        "outputId": "87ee9ea3-fabc-44f4-c0b9-ee39935debce"
      },
      "outputs": [
        {
          "output_type": "execute_result",
          "data": {
            "text/plain": [
              "                 Age  Flight Distance  Inflight wifi service  \\\n",
              "count  125523.000000    125523.000000          125523.000000   \n",
              "mean       39.184675      1181.377636               2.736287   \n",
              "std        14.929654       977.258878               1.324943   \n",
              "min         7.000000        86.000000               0.000000   \n",
              "25%        27.000000       417.000000               2.000000   \n",
              "50%        40.000000       844.000000               3.000000   \n",
              "75%        51.000000      1730.000000               4.000000   \n",
              "max        72.000000      3944.000000               5.000000   \n",
              "\n",
              "       Departure/Arrival time convenient  Ease of Online booking  \\\n",
              "count                      125523.000000           125523.000000   \n",
              "mean                            3.058906                2.770162   \n",
              "std                             1.524559                1.389341   \n",
              "min                             0.000000                0.000000   \n",
              "25%                             2.000000                2.000000   \n",
              "50%                             3.000000                3.000000   \n",
              "75%                             4.000000                4.000000   \n",
              "max                             5.000000                5.000000   \n",
              "\n",
              "       Gate location  Food and drink  Online boarding   Seat comfort  \\\n",
              "count  125523.000000   125523.000000     125523.00000  125523.000000   \n",
              "mean        2.975925        3.208790          3.25005       3.440509   \n",
              "std         1.278456        1.327188          1.35219       1.321571   \n",
              "min         1.000000        1.000000          0.00000       1.000000   \n",
              "25%         2.000000        2.000000          2.00000       2.000000   \n",
              "50%         3.000000        3.000000          3.00000       4.000000   \n",
              "75%         4.000000        4.000000          4.00000       5.000000   \n",
              "max         5.000000        5.000000          5.00000       5.000000   \n",
              "\n",
              "       Inflight entertainment  On-board service  Leg room service  \\\n",
              "count           125523.000000     125523.000000     125523.000000   \n",
              "mean                 3.360277          3.387220          3.364356   \n",
              "std                  1.334080          1.285096          1.300291   \n",
              "min                  1.000000          1.000000          1.000000   \n",
              "25%                  2.000000          2.000000          2.000000   \n",
              "50%                  4.000000          4.000000          4.000000   \n",
              "75%                  4.000000          4.000000          4.000000   \n",
              "max                  5.000000          5.000000          5.000000   \n",
              "\n",
              "       Baggage handling  Checkin service  Inflight service    Cleanliness  \\\n",
              "count     125523.000000    125523.000000     125523.000000  125523.000000   \n",
              "mean           3.635891         3.309003          3.650701       3.287334   \n",
              "std            1.177587         1.265095          1.171813       1.313939   \n",
              "min            1.000000         1.000000          1.000000       1.000000   \n",
              "25%            3.000000         3.000000          3.000000       2.000000   \n",
              "50%            4.000000         3.000000          4.000000       3.000000   \n",
              "75%            5.000000         4.000000          5.000000       4.000000   \n",
              "max            5.000000         5.000000          5.000000       5.000000   \n",
              "\n",
              "       Departure Delay in Minutes  Arrival Delay in Minutes  \n",
              "count               125523.000000             125523.000000  \n",
              "mean                    13.000191                 13.319185  \n",
              "std                     28.879849                 29.211038  \n",
              "min                      0.000000                  0.000000  \n",
              "25%                      0.000000                  0.000000  \n",
              "50%                      0.000000                  0.000000  \n",
              "75%                     12.000000                 13.000000  \n",
              "max                    232.000000                235.000000  "
            ],
            "text/html": [
              "\n",
              "  <div id=\"df-756ca978-658f-4571-860b-7733885808f5\">\n",
              "    <div class=\"colab-df-container\">\n",
              "      <div>\n",
              "<style scoped>\n",
              "    .dataframe tbody tr th:only-of-type {\n",
              "        vertical-align: middle;\n",
              "    }\n",
              "\n",
              "    .dataframe tbody tr th {\n",
              "        vertical-align: top;\n",
              "    }\n",
              "\n",
              "    .dataframe thead th {\n",
              "        text-align: right;\n",
              "    }\n",
              "</style>\n",
              "<table border=\"1\" class=\"dataframe\">\n",
              "  <thead>\n",
              "    <tr style=\"text-align: right;\">\n",
              "      <th></th>\n",
              "      <th>Age</th>\n",
              "      <th>Flight Distance</th>\n",
              "      <th>Inflight wifi service</th>\n",
              "      <th>Departure/Arrival time convenient</th>\n",
              "      <th>Ease of Online booking</th>\n",
              "      <th>Gate location</th>\n",
              "      <th>Food and drink</th>\n",
              "      <th>Online boarding</th>\n",
              "      <th>Seat comfort</th>\n",
              "      <th>Inflight entertainment</th>\n",
              "      <th>On-board service</th>\n",
              "      <th>Leg room service</th>\n",
              "      <th>Baggage handling</th>\n",
              "      <th>Checkin service</th>\n",
              "      <th>Inflight service</th>\n",
              "      <th>Cleanliness</th>\n",
              "      <th>Departure Delay in Minutes</th>\n",
              "      <th>Arrival Delay in Minutes</th>\n",
              "    </tr>\n",
              "  </thead>\n",
              "  <tbody>\n",
              "    <tr>\n",
              "      <th>count</th>\n",
              "      <td>125523.000000</td>\n",
              "      <td>125523.000000</td>\n",
              "      <td>125523.000000</td>\n",
              "      <td>125523.000000</td>\n",
              "      <td>125523.000000</td>\n",
              "      <td>125523.000000</td>\n",
              "      <td>125523.000000</td>\n",
              "      <td>125523.00000</td>\n",
              "      <td>125523.000000</td>\n",
              "      <td>125523.000000</td>\n",
              "      <td>125523.000000</td>\n",
              "      <td>125523.000000</td>\n",
              "      <td>125523.000000</td>\n",
              "      <td>125523.000000</td>\n",
              "      <td>125523.000000</td>\n",
              "      <td>125523.000000</td>\n",
              "      <td>125523.000000</td>\n",
              "      <td>125523.000000</td>\n",
              "    </tr>\n",
              "    <tr>\n",
              "      <th>mean</th>\n",
              "      <td>39.184675</td>\n",
              "      <td>1181.377636</td>\n",
              "      <td>2.736287</td>\n",
              "      <td>3.058906</td>\n",
              "      <td>2.770162</td>\n",
              "      <td>2.975925</td>\n",
              "      <td>3.208790</td>\n",
              "      <td>3.25005</td>\n",
              "      <td>3.440509</td>\n",
              "      <td>3.360277</td>\n",
              "      <td>3.387220</td>\n",
              "      <td>3.364356</td>\n",
              "      <td>3.635891</td>\n",
              "      <td>3.309003</td>\n",
              "      <td>3.650701</td>\n",
              "      <td>3.287334</td>\n",
              "      <td>13.000191</td>\n",
              "      <td>13.319185</td>\n",
              "    </tr>\n",
              "    <tr>\n",
              "      <th>std</th>\n",
              "      <td>14.929654</td>\n",
              "      <td>977.258878</td>\n",
              "      <td>1.324943</td>\n",
              "      <td>1.524559</td>\n",
              "      <td>1.389341</td>\n",
              "      <td>1.278456</td>\n",
              "      <td>1.327188</td>\n",
              "      <td>1.35219</td>\n",
              "      <td>1.321571</td>\n",
              "      <td>1.334080</td>\n",
              "      <td>1.285096</td>\n",
              "      <td>1.300291</td>\n",
              "      <td>1.177587</td>\n",
              "      <td>1.265095</td>\n",
              "      <td>1.171813</td>\n",
              "      <td>1.313939</td>\n",
              "      <td>28.879849</td>\n",
              "      <td>29.211038</td>\n",
              "    </tr>\n",
              "    <tr>\n",
              "      <th>min</th>\n",
              "      <td>7.000000</td>\n",
              "      <td>86.000000</td>\n",
              "      <td>0.000000</td>\n",
              "      <td>0.000000</td>\n",
              "      <td>0.000000</td>\n",
              "      <td>1.000000</td>\n",
              "      <td>1.000000</td>\n",
              "      <td>0.00000</td>\n",
              "      <td>1.000000</td>\n",
              "      <td>1.000000</td>\n",
              "      <td>1.000000</td>\n",
              "      <td>1.000000</td>\n",
              "      <td>1.000000</td>\n",
              "      <td>1.000000</td>\n",
              "      <td>1.000000</td>\n",
              "      <td>1.000000</td>\n",
              "      <td>0.000000</td>\n",
              "      <td>0.000000</td>\n",
              "    </tr>\n",
              "    <tr>\n",
              "      <th>25%</th>\n",
              "      <td>27.000000</td>\n",
              "      <td>417.000000</td>\n",
              "      <td>2.000000</td>\n",
              "      <td>2.000000</td>\n",
              "      <td>2.000000</td>\n",
              "      <td>2.000000</td>\n",
              "      <td>2.000000</td>\n",
              "      <td>2.00000</td>\n",
              "      <td>2.000000</td>\n",
              "      <td>2.000000</td>\n",
              "      <td>2.000000</td>\n",
              "      <td>2.000000</td>\n",
              "      <td>3.000000</td>\n",
              "      <td>3.000000</td>\n",
              "      <td>3.000000</td>\n",
              "      <td>2.000000</td>\n",
              "      <td>0.000000</td>\n",
              "      <td>0.000000</td>\n",
              "    </tr>\n",
              "    <tr>\n",
              "      <th>50%</th>\n",
              "      <td>40.000000</td>\n",
              "      <td>844.000000</td>\n",
              "      <td>3.000000</td>\n",
              "      <td>3.000000</td>\n",
              "      <td>3.000000</td>\n",
              "      <td>3.000000</td>\n",
              "      <td>3.000000</td>\n",
              "      <td>3.00000</td>\n",
              "      <td>4.000000</td>\n",
              "      <td>4.000000</td>\n",
              "      <td>4.000000</td>\n",
              "      <td>4.000000</td>\n",
              "      <td>4.000000</td>\n",
              "      <td>3.000000</td>\n",
              "      <td>4.000000</td>\n",
              "      <td>3.000000</td>\n",
              "      <td>0.000000</td>\n",
              "      <td>0.000000</td>\n",
              "    </tr>\n",
              "    <tr>\n",
              "      <th>75%</th>\n",
              "      <td>51.000000</td>\n",
              "      <td>1730.000000</td>\n",
              "      <td>4.000000</td>\n",
              "      <td>4.000000</td>\n",
              "      <td>4.000000</td>\n",
              "      <td>4.000000</td>\n",
              "      <td>4.000000</td>\n",
              "      <td>4.00000</td>\n",
              "      <td>5.000000</td>\n",
              "      <td>4.000000</td>\n",
              "      <td>4.000000</td>\n",
              "      <td>4.000000</td>\n",
              "      <td>5.000000</td>\n",
              "      <td>4.000000</td>\n",
              "      <td>5.000000</td>\n",
              "      <td>4.000000</td>\n",
              "      <td>12.000000</td>\n",
              "      <td>13.000000</td>\n",
              "    </tr>\n",
              "    <tr>\n",
              "      <th>max</th>\n",
              "      <td>72.000000</td>\n",
              "      <td>3944.000000</td>\n",
              "      <td>5.000000</td>\n",
              "      <td>5.000000</td>\n",
              "      <td>5.000000</td>\n",
              "      <td>5.000000</td>\n",
              "      <td>5.000000</td>\n",
              "      <td>5.00000</td>\n",
              "      <td>5.000000</td>\n",
              "      <td>5.000000</td>\n",
              "      <td>5.000000</td>\n",
              "      <td>5.000000</td>\n",
              "      <td>5.000000</td>\n",
              "      <td>5.000000</td>\n",
              "      <td>5.000000</td>\n",
              "      <td>5.000000</td>\n",
              "      <td>232.000000</td>\n",
              "      <td>235.000000</td>\n",
              "    </tr>\n",
              "  </tbody>\n",
              "</table>\n",
              "</div>\n",
              "      <button class=\"colab-df-convert\" onclick=\"convertToInteractive('df-756ca978-658f-4571-860b-7733885808f5')\"\n",
              "              title=\"Convert this dataframe to an interactive table.\"\n",
              "              style=\"display:none;\">\n",
              "        \n",
              "  <svg xmlns=\"http://www.w3.org/2000/svg\" height=\"24px\"viewBox=\"0 0 24 24\"\n",
              "       width=\"24px\">\n",
              "    <path d=\"M0 0h24v24H0V0z\" fill=\"none\"/>\n",
              "    <path d=\"M18.56 5.44l.94 2.06.94-2.06 2.06-.94-2.06-.94-.94-2.06-.94 2.06-2.06.94zm-11 1L8.5 8.5l.94-2.06 2.06-.94-2.06-.94L8.5 2.5l-.94 2.06-2.06.94zm10 10l.94 2.06.94-2.06 2.06-.94-2.06-.94-.94-2.06-.94 2.06-2.06.94z\"/><path d=\"M17.41 7.96l-1.37-1.37c-.4-.4-.92-.59-1.43-.59-.52 0-1.04.2-1.43.59L10.3 9.45l-7.72 7.72c-.78.78-.78 2.05 0 2.83L4 21.41c.39.39.9.59 1.41.59.51 0 1.02-.2 1.41-.59l7.78-7.78 2.81-2.81c.8-.78.8-2.07 0-2.86zM5.41 20L4 18.59l7.72-7.72 1.47 1.35L5.41 20z\"/>\n",
              "  </svg>\n",
              "      </button>\n",
              "      \n",
              "  <style>\n",
              "    .colab-df-container {\n",
              "      display:flex;\n",
              "      flex-wrap:wrap;\n",
              "      gap: 12px;\n",
              "    }\n",
              "\n",
              "    .colab-df-convert {\n",
              "      background-color: #E8F0FE;\n",
              "      border: none;\n",
              "      border-radius: 50%;\n",
              "      cursor: pointer;\n",
              "      display: none;\n",
              "      fill: #1967D2;\n",
              "      height: 32px;\n",
              "      padding: 0 0 0 0;\n",
              "      width: 32px;\n",
              "    }\n",
              "\n",
              "    .colab-df-convert:hover {\n",
              "      background-color: #E2EBFA;\n",
              "      box-shadow: 0px 1px 2px rgba(60, 64, 67, 0.3), 0px 1px 3px 1px rgba(60, 64, 67, 0.15);\n",
              "      fill: #174EA6;\n",
              "    }\n",
              "\n",
              "    [theme=dark] .colab-df-convert {\n",
              "      background-color: #3B4455;\n",
              "      fill: #D2E3FC;\n",
              "    }\n",
              "\n",
              "    [theme=dark] .colab-df-convert:hover {\n",
              "      background-color: #434B5C;\n",
              "      box-shadow: 0px 1px 3px 1px rgba(0, 0, 0, 0.15);\n",
              "      filter: drop-shadow(0px 1px 2px rgba(0, 0, 0, 0.3));\n",
              "      fill: #FFFFFF;\n",
              "    }\n",
              "  </style>\n",
              "\n",
              "      <script>\n",
              "        const buttonEl =\n",
              "          document.querySelector('#df-756ca978-658f-4571-860b-7733885808f5 button.colab-df-convert');\n",
              "        buttonEl.style.display =\n",
              "          google.colab.kernel.accessAllowed ? 'block' : 'none';\n",
              "\n",
              "        async function convertToInteractive(key) {\n",
              "          const element = document.querySelector('#df-756ca978-658f-4571-860b-7733885808f5');\n",
              "          const dataTable =\n",
              "            await google.colab.kernel.invokeFunction('convertToInteractive',\n",
              "                                                     [key], {});\n",
              "          if (!dataTable) return;\n",
              "\n",
              "          const docLinkHtml = 'Like what you see? Visit the ' +\n",
              "            '<a target=\"_blank\" href=https://colab.research.google.com/notebooks/data_table.ipynb>data table notebook</a>'\n",
              "            + ' to learn more about interactive tables.';\n",
              "          element.innerHTML = '';\n",
              "          dataTable['output_type'] = 'display_data';\n",
              "          await google.colab.output.renderOutput(dataTable, element);\n",
              "          const docLink = document.createElement('div');\n",
              "          docLink.innerHTML = docLinkHtml;\n",
              "          element.appendChild(docLink);\n",
              "        }\n",
              "      </script>\n",
              "    </div>\n",
              "  </div>\n",
              "  "
            ]
          },
          "metadata": {},
          "execution_count": 91
        }
      ],
      "source": [
        "data.describe()"
      ]
    },
    {
      "cell_type": "markdown",
      "id": "9c9e52fd",
      "metadata": {
        "id": "9c9e52fd"
      },
      "source": [
        "## Векторизация\n",
        "\n",
        "Обработка категориальных признаков"
      ]
    },
    {
      "cell_type": "code",
      "execution_count": 92,
      "id": "I42fJs4v7QWf",
      "metadata": {
        "colab": {
          "base_uri": "https://localhost:8080/"
        },
        "id": "I42fJs4v7QWf",
        "outputId": "908c75a9-2356-4f5b-aa35-2ab7ccb52728"
      },
      "outputs": [
        {
          "output_type": "stream",
          "name": "stdout",
          "text": [
            "['Gender', 'Customer Type', 'Type of Travel', 'satisfaction'] ['Class']\n"
          ]
        }
      ],
      "source": [
        "data_describe = data.describe(include = [object])\n",
        "binary_columns    = [c for c in categorical_columns if data_describe[c]['unique'] == 2]\n",
        "nonbinary_columns = [c for c in categorical_columns if data_describe[c]['unique'] > 2]\n",
        "print(binary_columns, nonbinary_columns)"
      ]
    },
    {
      "cell_type": "code",
      "execution_count": 93,
      "id": "319a0fb0",
      "metadata": {
        "id": "319a0fb0"
      },
      "outputs": [],
      "source": [
        "for binary_column in binary_columns:\n",
        "    data[binary_column] = pd.factorize(data[binary_column])[0]"
      ]
    },
    {
      "cell_type": "markdown",
      "id": "nmoyID-a8OnH",
      "metadata": {
        "id": "nmoyID-a8OnH"
      },
      "source": [
        "К небинарному признаку `Class` применим метод *бинаризации*, а именно создадим столько новых признаков, сколько уникальных значений принимает `Class`. И если `Class` принимал значение соответствующее новому признаку, то в соответствующей строке ставим `1`, если нет, то `0`."
      ]
    },
    {
      "cell_type": "code",
      "execution_count": 94,
      "id": "Z7zb9ep_8PVr",
      "metadata": {
        "id": "Z7zb9ep_8PVr"
      },
      "outputs": [],
      "source": [
        "dummies = pd.get_dummies(data[nonbinary_columns])\n",
        "data = pd.concat((data, dummies), axis=1)\n",
        "data = data.drop(['Class'], axis=1)"
      ]
    },
    {
      "cell_type": "markdown",
      "id": "WJIPyddz8wsZ",
      "metadata": {
        "id": "WJIPyddz8wsZ"
      },
      "source": [
        "## Нормализация количественных признаков\n",
        "\n",
        "Многие алгоритмы машинного обучения чувствительны к масштабированию данных.\n",
        "К таким алгоритмам, например, относится метод ближайших соседей, машина опорных векторов и др.\n",
        "\n",
        "В этом случае количественные признаки полезно _нормализовать_.\n",
        "Это можно делать разными способами.\n",
        "Например, каждый количественный признак приведем к нулевому среднему и единичному среднеквадратичному отклонению:"
      ]
    },
    {
      "cell_type": "code",
      "execution_count": 95,
      "id": "MXzEc0368xpn",
      "metadata": {
        "colab": {
          "base_uri": "https://localhost:8080/",
          "height": 428
        },
        "id": "MXzEc0368xpn",
        "outputId": "faa60840-263f-44ab-ce29-fe4488af0ccb"
      },
      "outputs": [
        {
          "output_type": "execute_result",
          "data": {
            "text/plain": [
              "              Gender  Customer Type           Age  Type of Travel  \\\n",
              "count  125523.000000   125523.00000  1.255230e+05   125523.000000   \n",
              "mean        0.494316        0.18489 -1.196097e-16        0.309497   \n",
              "std         0.499970        0.38821  1.000000e+00        0.462288   \n",
              "min         0.000000        0.00000 -2.155755e+00        0.000000   \n",
              "25%         0.000000        0.00000 -8.161392e-01        0.000000   \n",
              "50%         0.000000        0.00000  5.461109e-02        0.000000   \n",
              "75%         1.000000        0.00000  7.913998e-01        1.000000   \n",
              "max         1.000000        1.00000  2.197996e+00        1.000000   \n",
              "\n",
              "       Flight Distance  Inflight wifi service  \\\n",
              "count     1.255230e+05           1.255230e+05   \n",
              "mean      5.456874e-17           1.402711e-16   \n",
              "std       1.000000e+00           1.000000e+00   \n",
              "min      -1.120867e+00          -2.065211e+00   \n",
              "25%      -7.821649e-01          -5.557125e-01   \n",
              "50%      -3.452285e-01           1.990370e-01   \n",
              "75%       5.613890e-01           9.537864e-01   \n",
              "max       2.826909e+00           1.708536e+00   \n",
              "\n",
              "       Departure/Arrival time convenient  Ease of Online booking  \\\n",
              "count                       1.255230e+05            1.255230e+05   \n",
              "mean                        8.004170e-17            7.472068e-17   \n",
              "std                         1.000000e+00            1.000000e+00   \n",
              "min                        -2.006419e+00           -1.993867e+00   \n",
              "25%                        -6.945650e-01           -5.543359e-01   \n",
              "50%                        -3.863775e-02            1.654298e-01   \n",
              "75%                         6.172895e-01            8.851954e-01   \n",
              "max                         1.273217e+00            1.604961e+00   \n",
              "\n",
              "       Gate location  Food and drink  ...  Baggage handling  Checkin service  \\\n",
              "count   1.255230e+05    1.255230e+05  ...      1.255230e+05     1.255230e+05   \n",
              "mean   -9.872187e-17    1.216758e-16  ...      2.581260e-17     1.098168e-16   \n",
              "std     1.000000e+00    1.000000e+00  ...      1.000000e+00     1.000000e+00   \n",
              "min    -1.545556e+00   -1.664263e+00  ...     -2.238383e+00    -1.825161e+00   \n",
              "25%    -7.633623e-01   -9.107905e-01  ...     -5.399952e-01    -2.442529e-01   \n",
              "50%     1.883153e-02   -1.573179e-01  ...      3.091988e-01    -2.442529e-01   \n",
              "75%     8.010253e-01    5.961548e-01  ...      1.158393e+00     5.462015e-01   \n",
              "max     1.583219e+00    1.349627e+00  ...      1.158393e+00     1.336656e+00   \n",
              "\n",
              "       Inflight service   Cleanliness  Departure Delay in Minutes  \\\n",
              "count      1.255230e+05  1.255230e+05                1.255230e+05   \n",
              "mean      -1.237420e-16  4.902130e-17                3.079398e-17   \n",
              "std        1.000000e+00  1.000000e+00                1.000000e+00   \n",
              "min       -2.262052e+00 -1.740822e+00               -4.501475e-01   \n",
              "25%       -5.552946e-01 -9.797514e-01               -4.501475e-01   \n",
              "50%        2.980838e-01 -2.186812e-01               -4.501475e-01   \n",
              "75%        1.151462e+00  5.423890e-01               -3.463284e-02   \n",
              "max        1.151462e+00  1.303459e+00                7.583136e+00   \n",
              "\n",
              "       Arrival Delay in Minutes   satisfaction  Class_Business      Class_Eco  \\\n",
              "count              1.255230e+05  125523.000000   125523.000000  125523.000000   \n",
              "mean               5.445553e-17       0.565673        0.477809       0.449910   \n",
              "std                1.000000e+00       0.495670        0.499509       0.497487   \n",
              "min               -4.559641e-01       0.000000        0.000000       0.000000   \n",
              "25%               -4.559641e-01       0.000000        0.000000       0.000000   \n",
              "50%               -4.559641e-01       1.000000        0.000000       0.000000   \n",
              "75%               -1.092685e-02       1.000000        1.000000       1.000000   \n",
              "max                7.588940e+00       1.000000        1.000000       1.000000   \n",
              "\n",
              "       Class_Eco Plus  \n",
              "count   125523.000000  \n",
              "mean         0.072282  \n",
              "std          0.258955  \n",
              "min          0.000000  \n",
              "25%          0.000000  \n",
              "50%          0.000000  \n",
              "75%          0.000000  \n",
              "max          1.000000  \n",
              "\n",
              "[8 rows x 25 columns]"
            ],
            "text/html": [
              "\n",
              "  <div id=\"df-5c3007bc-3359-414f-8752-854c59b55ad3\">\n",
              "    <div class=\"colab-df-container\">\n",
              "      <div>\n",
              "<style scoped>\n",
              "    .dataframe tbody tr th:only-of-type {\n",
              "        vertical-align: middle;\n",
              "    }\n",
              "\n",
              "    .dataframe tbody tr th {\n",
              "        vertical-align: top;\n",
              "    }\n",
              "\n",
              "    .dataframe thead th {\n",
              "        text-align: right;\n",
              "    }\n",
              "</style>\n",
              "<table border=\"1\" class=\"dataframe\">\n",
              "  <thead>\n",
              "    <tr style=\"text-align: right;\">\n",
              "      <th></th>\n",
              "      <th>Gender</th>\n",
              "      <th>Customer Type</th>\n",
              "      <th>Age</th>\n",
              "      <th>Type of Travel</th>\n",
              "      <th>Flight Distance</th>\n",
              "      <th>Inflight wifi service</th>\n",
              "      <th>Departure/Arrival time convenient</th>\n",
              "      <th>Ease of Online booking</th>\n",
              "      <th>Gate location</th>\n",
              "      <th>Food and drink</th>\n",
              "      <th>...</th>\n",
              "      <th>Baggage handling</th>\n",
              "      <th>Checkin service</th>\n",
              "      <th>Inflight service</th>\n",
              "      <th>Cleanliness</th>\n",
              "      <th>Departure Delay in Minutes</th>\n",
              "      <th>Arrival Delay in Minutes</th>\n",
              "      <th>satisfaction</th>\n",
              "      <th>Class_Business</th>\n",
              "      <th>Class_Eco</th>\n",
              "      <th>Class_Eco Plus</th>\n",
              "    </tr>\n",
              "  </thead>\n",
              "  <tbody>\n",
              "    <tr>\n",
              "      <th>count</th>\n",
              "      <td>125523.000000</td>\n",
              "      <td>125523.00000</td>\n",
              "      <td>1.255230e+05</td>\n",
              "      <td>125523.000000</td>\n",
              "      <td>1.255230e+05</td>\n",
              "      <td>1.255230e+05</td>\n",
              "      <td>1.255230e+05</td>\n",
              "      <td>1.255230e+05</td>\n",
              "      <td>1.255230e+05</td>\n",
              "      <td>1.255230e+05</td>\n",
              "      <td>...</td>\n",
              "      <td>1.255230e+05</td>\n",
              "      <td>1.255230e+05</td>\n",
              "      <td>1.255230e+05</td>\n",
              "      <td>1.255230e+05</td>\n",
              "      <td>1.255230e+05</td>\n",
              "      <td>1.255230e+05</td>\n",
              "      <td>125523.000000</td>\n",
              "      <td>125523.000000</td>\n",
              "      <td>125523.000000</td>\n",
              "      <td>125523.000000</td>\n",
              "    </tr>\n",
              "    <tr>\n",
              "      <th>mean</th>\n",
              "      <td>0.494316</td>\n",
              "      <td>0.18489</td>\n",
              "      <td>-1.196097e-16</td>\n",
              "      <td>0.309497</td>\n",
              "      <td>5.456874e-17</td>\n",
              "      <td>1.402711e-16</td>\n",
              "      <td>8.004170e-17</td>\n",
              "      <td>7.472068e-17</td>\n",
              "      <td>-9.872187e-17</td>\n",
              "      <td>1.216758e-16</td>\n",
              "      <td>...</td>\n",
              "      <td>2.581260e-17</td>\n",
              "      <td>1.098168e-16</td>\n",
              "      <td>-1.237420e-16</td>\n",
              "      <td>4.902130e-17</td>\n",
              "      <td>3.079398e-17</td>\n",
              "      <td>5.445553e-17</td>\n",
              "      <td>0.565673</td>\n",
              "      <td>0.477809</td>\n",
              "      <td>0.449910</td>\n",
              "      <td>0.072282</td>\n",
              "    </tr>\n",
              "    <tr>\n",
              "      <th>std</th>\n",
              "      <td>0.499970</td>\n",
              "      <td>0.38821</td>\n",
              "      <td>1.000000e+00</td>\n",
              "      <td>0.462288</td>\n",
              "      <td>1.000000e+00</td>\n",
              "      <td>1.000000e+00</td>\n",
              "      <td>1.000000e+00</td>\n",
              "      <td>1.000000e+00</td>\n",
              "      <td>1.000000e+00</td>\n",
              "      <td>1.000000e+00</td>\n",
              "      <td>...</td>\n",
              "      <td>1.000000e+00</td>\n",
              "      <td>1.000000e+00</td>\n",
              "      <td>1.000000e+00</td>\n",
              "      <td>1.000000e+00</td>\n",
              "      <td>1.000000e+00</td>\n",
              "      <td>1.000000e+00</td>\n",
              "      <td>0.495670</td>\n",
              "      <td>0.499509</td>\n",
              "      <td>0.497487</td>\n",
              "      <td>0.258955</td>\n",
              "    </tr>\n",
              "    <tr>\n",
              "      <th>min</th>\n",
              "      <td>0.000000</td>\n",
              "      <td>0.00000</td>\n",
              "      <td>-2.155755e+00</td>\n",
              "      <td>0.000000</td>\n",
              "      <td>-1.120867e+00</td>\n",
              "      <td>-2.065211e+00</td>\n",
              "      <td>-2.006419e+00</td>\n",
              "      <td>-1.993867e+00</td>\n",
              "      <td>-1.545556e+00</td>\n",
              "      <td>-1.664263e+00</td>\n",
              "      <td>...</td>\n",
              "      <td>-2.238383e+00</td>\n",
              "      <td>-1.825161e+00</td>\n",
              "      <td>-2.262052e+00</td>\n",
              "      <td>-1.740822e+00</td>\n",
              "      <td>-4.501475e-01</td>\n",
              "      <td>-4.559641e-01</td>\n",
              "      <td>0.000000</td>\n",
              "      <td>0.000000</td>\n",
              "      <td>0.000000</td>\n",
              "      <td>0.000000</td>\n",
              "    </tr>\n",
              "    <tr>\n",
              "      <th>25%</th>\n",
              "      <td>0.000000</td>\n",
              "      <td>0.00000</td>\n",
              "      <td>-8.161392e-01</td>\n",
              "      <td>0.000000</td>\n",
              "      <td>-7.821649e-01</td>\n",
              "      <td>-5.557125e-01</td>\n",
              "      <td>-6.945650e-01</td>\n",
              "      <td>-5.543359e-01</td>\n",
              "      <td>-7.633623e-01</td>\n",
              "      <td>-9.107905e-01</td>\n",
              "      <td>...</td>\n",
              "      <td>-5.399952e-01</td>\n",
              "      <td>-2.442529e-01</td>\n",
              "      <td>-5.552946e-01</td>\n",
              "      <td>-9.797514e-01</td>\n",
              "      <td>-4.501475e-01</td>\n",
              "      <td>-4.559641e-01</td>\n",
              "      <td>0.000000</td>\n",
              "      <td>0.000000</td>\n",
              "      <td>0.000000</td>\n",
              "      <td>0.000000</td>\n",
              "    </tr>\n",
              "    <tr>\n",
              "      <th>50%</th>\n",
              "      <td>0.000000</td>\n",
              "      <td>0.00000</td>\n",
              "      <td>5.461109e-02</td>\n",
              "      <td>0.000000</td>\n",
              "      <td>-3.452285e-01</td>\n",
              "      <td>1.990370e-01</td>\n",
              "      <td>-3.863775e-02</td>\n",
              "      <td>1.654298e-01</td>\n",
              "      <td>1.883153e-02</td>\n",
              "      <td>-1.573179e-01</td>\n",
              "      <td>...</td>\n",
              "      <td>3.091988e-01</td>\n",
              "      <td>-2.442529e-01</td>\n",
              "      <td>2.980838e-01</td>\n",
              "      <td>-2.186812e-01</td>\n",
              "      <td>-4.501475e-01</td>\n",
              "      <td>-4.559641e-01</td>\n",
              "      <td>1.000000</td>\n",
              "      <td>0.000000</td>\n",
              "      <td>0.000000</td>\n",
              "      <td>0.000000</td>\n",
              "    </tr>\n",
              "    <tr>\n",
              "      <th>75%</th>\n",
              "      <td>1.000000</td>\n",
              "      <td>0.00000</td>\n",
              "      <td>7.913998e-01</td>\n",
              "      <td>1.000000</td>\n",
              "      <td>5.613890e-01</td>\n",
              "      <td>9.537864e-01</td>\n",
              "      <td>6.172895e-01</td>\n",
              "      <td>8.851954e-01</td>\n",
              "      <td>8.010253e-01</td>\n",
              "      <td>5.961548e-01</td>\n",
              "      <td>...</td>\n",
              "      <td>1.158393e+00</td>\n",
              "      <td>5.462015e-01</td>\n",
              "      <td>1.151462e+00</td>\n",
              "      <td>5.423890e-01</td>\n",
              "      <td>-3.463284e-02</td>\n",
              "      <td>-1.092685e-02</td>\n",
              "      <td>1.000000</td>\n",
              "      <td>1.000000</td>\n",
              "      <td>1.000000</td>\n",
              "      <td>0.000000</td>\n",
              "    </tr>\n",
              "    <tr>\n",
              "      <th>max</th>\n",
              "      <td>1.000000</td>\n",
              "      <td>1.00000</td>\n",
              "      <td>2.197996e+00</td>\n",
              "      <td>1.000000</td>\n",
              "      <td>2.826909e+00</td>\n",
              "      <td>1.708536e+00</td>\n",
              "      <td>1.273217e+00</td>\n",
              "      <td>1.604961e+00</td>\n",
              "      <td>1.583219e+00</td>\n",
              "      <td>1.349627e+00</td>\n",
              "      <td>...</td>\n",
              "      <td>1.158393e+00</td>\n",
              "      <td>1.336656e+00</td>\n",
              "      <td>1.151462e+00</td>\n",
              "      <td>1.303459e+00</td>\n",
              "      <td>7.583136e+00</td>\n",
              "      <td>7.588940e+00</td>\n",
              "      <td>1.000000</td>\n",
              "      <td>1.000000</td>\n",
              "      <td>1.000000</td>\n",
              "      <td>1.000000</td>\n",
              "    </tr>\n",
              "  </tbody>\n",
              "</table>\n",
              "<p>8 rows × 25 columns</p>\n",
              "</div>\n",
              "      <button class=\"colab-df-convert\" onclick=\"convertToInteractive('df-5c3007bc-3359-414f-8752-854c59b55ad3')\"\n",
              "              title=\"Convert this dataframe to an interactive table.\"\n",
              "              style=\"display:none;\">\n",
              "        \n",
              "  <svg xmlns=\"http://www.w3.org/2000/svg\" height=\"24px\"viewBox=\"0 0 24 24\"\n",
              "       width=\"24px\">\n",
              "    <path d=\"M0 0h24v24H0V0z\" fill=\"none\"/>\n",
              "    <path d=\"M18.56 5.44l.94 2.06.94-2.06 2.06-.94-2.06-.94-.94-2.06-.94 2.06-2.06.94zm-11 1L8.5 8.5l.94-2.06 2.06-.94-2.06-.94L8.5 2.5l-.94 2.06-2.06.94zm10 10l.94 2.06.94-2.06 2.06-.94-2.06-.94-.94-2.06-.94 2.06-2.06.94z\"/><path d=\"M17.41 7.96l-1.37-1.37c-.4-.4-.92-.59-1.43-.59-.52 0-1.04.2-1.43.59L10.3 9.45l-7.72 7.72c-.78.78-.78 2.05 0 2.83L4 21.41c.39.39.9.59 1.41.59.51 0 1.02-.2 1.41-.59l7.78-7.78 2.81-2.81c.8-.78.8-2.07 0-2.86zM5.41 20L4 18.59l7.72-7.72 1.47 1.35L5.41 20z\"/>\n",
              "  </svg>\n",
              "      </button>\n",
              "      \n",
              "  <style>\n",
              "    .colab-df-container {\n",
              "      display:flex;\n",
              "      flex-wrap:wrap;\n",
              "      gap: 12px;\n",
              "    }\n",
              "\n",
              "    .colab-df-convert {\n",
              "      background-color: #E8F0FE;\n",
              "      border: none;\n",
              "      border-radius: 50%;\n",
              "      cursor: pointer;\n",
              "      display: none;\n",
              "      fill: #1967D2;\n",
              "      height: 32px;\n",
              "      padding: 0 0 0 0;\n",
              "      width: 32px;\n",
              "    }\n",
              "\n",
              "    .colab-df-convert:hover {\n",
              "      background-color: #E2EBFA;\n",
              "      box-shadow: 0px 1px 2px rgba(60, 64, 67, 0.3), 0px 1px 3px 1px rgba(60, 64, 67, 0.15);\n",
              "      fill: #174EA6;\n",
              "    }\n",
              "\n",
              "    [theme=dark] .colab-df-convert {\n",
              "      background-color: #3B4455;\n",
              "      fill: #D2E3FC;\n",
              "    }\n",
              "\n",
              "    [theme=dark] .colab-df-convert:hover {\n",
              "      background-color: #434B5C;\n",
              "      box-shadow: 0px 1px 3px 1px rgba(0, 0, 0, 0.15);\n",
              "      filter: drop-shadow(0px 1px 2px rgba(0, 0, 0, 0.3));\n",
              "      fill: #FFFFFF;\n",
              "    }\n",
              "  </style>\n",
              "\n",
              "      <script>\n",
              "        const buttonEl =\n",
              "          document.querySelector('#df-5c3007bc-3359-414f-8752-854c59b55ad3 button.colab-df-convert');\n",
              "        buttonEl.style.display =\n",
              "          google.colab.kernel.accessAllowed ? 'block' : 'none';\n",
              "\n",
              "        async function convertToInteractive(key) {\n",
              "          const element = document.querySelector('#df-5c3007bc-3359-414f-8752-854c59b55ad3');\n",
              "          const dataTable =\n",
              "            await google.colab.kernel.invokeFunction('convertToInteractive',\n",
              "                                                     [key], {});\n",
              "          if (!dataTable) return;\n",
              "\n",
              "          const docLinkHtml = 'Like what you see? Visit the ' +\n",
              "            '<a target=\"_blank\" href=https://colab.research.google.com/notebooks/data_table.ipynb>data table notebook</a>'\n",
              "            + ' to learn more about interactive tables.';\n",
              "          element.innerHTML = '';\n",
              "          dataTable['output_type'] = 'display_data';\n",
              "          await google.colab.output.renderOutput(dataTable, element);\n",
              "          const docLink = document.createElement('div');\n",
              "          docLink.innerHTML = docLinkHtml;\n",
              "          element.appendChild(docLink);\n",
              "        }\n",
              "      </script>\n",
              "    </div>\n",
              "  </div>\n",
              "  "
            ]
          },
          "metadata": {},
          "execution_count": 95
        }
      ],
      "source": [
        "data[numerical_columns] = (data[numerical_columns] - data[numerical_columns].mean(axis = 0))/data[numerical_columns].std(axis = 0)\n",
        "data.describe()"
      ]
    },
    {
      "cell_type": "markdown",
      "id": "7u4xnnRMCA8I",
      "metadata": {
        "id": "7u4xnnRMCA8I"
      },
      "source": [
        "## Разбиение данных на обучающую и тестовую выборки"
      ]
    },
    {
      "cell_type": "markdown",
      "id": "kW87lVtOCmF7",
      "metadata": {
        "id": "kW87lVtOCmF7"
      },
      "source": [
        "Для предсказания будем использовать все признаки."
      ]
    },
    {
      "cell_type": "code",
      "execution_count": 96,
      "id": "UEeEY1J4CqIZ",
      "metadata": {
        "id": "UEeEY1J4CqIZ"
      },
      "outputs": [],
      "source": [
        "X = data.drop('satisfaction', axis = 1)\n",
        "y = data['satisfaction']"
      ]
    },
    {
      "cell_type": "markdown",
      "id": "tg58KRj-CK-4",
      "metadata": {
        "id": "tg58KRj-CK-4"
      },
      "source": [
        "Разобьем данные на обучающую и тестовую выборки в пропорции 3:1 (75% - обучающая выборка, 25% - тестовая):"
      ]
    },
    {
      "cell_type": "code",
      "execution_count": 97,
      "id": "QAIe14USCPX4",
      "metadata": {
        "colab": {
          "base_uri": "https://localhost:8080/"
        },
        "id": "QAIe14USCPX4",
        "outputId": "ea63f1b6-3265-46b9-9a9a-367013496fa2"
      },
      "outputs": [
        {
          "output_type": "execute_result",
          "data": {
            "text/plain": [
              "(94142, 31381)"
            ]
          },
          "metadata": {},
          "execution_count": 97
        }
      ],
      "source": [
        "from sklearn.model_selection import train_test_split\n",
        "X_train, X_test, y_train, y_test = train_test_split(X, y, test_size = 0.25, random_state = 42)\n",
        "\n",
        "N_train, _ = X_train.shape \n",
        "N_test,  _ = X_test.shape \n",
        "\n",
        "N_train, N_test"
      ]
    },
    {
      "cell_type": "markdown",
      "id": "Lwf6d8dbEH0h",
      "metadata": {
        "id": "Lwf6d8dbEH0h"
      },
      "source": [
        "## Классификатор ближайших соседей"
      ]
    },
    {
      "cell_type": "code",
      "execution_count": 98,
      "id": "g3jAnbD2Ea_z",
      "metadata": {
        "colab": {
          "base_uri": "https://localhost:8080/"
        },
        "id": "g3jAnbD2Ea_z",
        "outputId": "f3162404-1868-464a-f86b-21141f768d0a"
      },
      "outputs": [
        {
          "output_type": "execute_result",
          "data": {
            "text/plain": [
              "KNeighborsClassifier(n_neighbors=3)"
            ]
          },
          "metadata": {},
          "execution_count": 98
        }
      ],
      "source": [
        "from sklearn.neighbors import KNeighborsClassifier\n",
        "\n",
        "knn = KNeighborsClassifier(n_neighbors = 3)\n",
        "knn.fit(X_train, y_train)"
      ]
    },
    {
      "cell_type": "code",
      "execution_count": 99,
      "id": "m6xpQirVNJS9",
      "metadata": {
        "id": "m6xpQirVNJS9"
      },
      "outputs": [],
      "source": [
        "y_train_predict = knn.predict(X_train)\n",
        "err_train  = np.mean(y_train  != y_train_predict)"
      ]
    },
    {
      "cell_type": "code",
      "execution_count": 100,
      "id": "wmQbsoa8NKvy",
      "metadata": {
        "colab": {
          "base_uri": "https://localhost:8080/"
        },
        "id": "wmQbsoa8NKvy",
        "outputId": "40db93bd-18c3-4e0d-d54b-355316f48dad"
      },
      "outputs": [
        {
          "output_type": "execute_result",
          "data": {
            "text/plain": [
              "0.04044953368315948"
            ]
          },
          "metadata": {},
          "execution_count": 100
        }
      ],
      "source": [
        "err_train"
      ]
    },
    {
      "cell_type": "code",
      "execution_count": 101,
      "id": "wE_McP0-A8DU",
      "metadata": {
        "id": "wE_McP0-A8DU"
      },
      "outputs": [],
      "source": [
        "y_test_predict = knn.predict(X_test)\n",
        "err_test  = np.mean(y_test  != y_test_predict)"
      ]
    },
    {
      "cell_type": "code",
      "execution_count": 102,
      "id": "BWNu2jZlBAbE",
      "metadata": {
        "colab": {
          "base_uri": "https://localhost:8080/"
        },
        "id": "BWNu2jZlBAbE",
        "outputId": "8ef61e2f-6852-4395-d86d-dc9b004d9a0e"
      },
      "outputs": [
        {
          "output_type": "execute_result",
          "data": {
            "text/plain": [
              "0.07737165800962366"
            ]
          },
          "metadata": {},
          "execution_count": 102
        }
      ],
      "source": [
        "err_test"
      ]
    },
    {
      "cell_type": "markdown",
      "id": "eei-pdPNOjJN",
      "metadata": {
        "id": "eei-pdPNOjJN"
      },
      "source": [
        "Ошибка на обучающей выборке меньше из-за так называемого переобучения. На определенных данных алгоритм улавливает какие-то случайные закономерности, свойственные только конкретному набору данных, и используя их, ошибается меньше."
      ]
    },
    {
      "cell_type": "markdown",
      "id": "qqxH6F8TO9_r",
      "metadata": {
        "id": "qqxH6F8TO9_r"
      },
      "source": [
        "Матрица рассогласования:"
      ]
    },
    {
      "cell_type": "code",
      "execution_count": 103,
      "id": "VIGcT6y5Bj9q",
      "metadata": {
        "colab": {
          "base_uri": "https://localhost:8080/"
        },
        "id": "VIGcT6y5Bj9q",
        "outputId": "7ac19688-d927-4cb6-ab83-930b2cca6a8d"
      },
      "outputs": [
        {
          "output_type": "stream",
          "name": "stdout",
          "text": [
            "[[12066  1566]\n",
            " [  862 16887]]\n"
          ]
        }
      ],
      "source": [
        "from sklearn.metrics import confusion_matrix\n",
        "\n",
        "print(confusion_matrix(y_test, y_test_predict))"
      ]
    },
    {
      "cell_type": "code",
      "source": [
        "from sklearn.metrics import plot_confusion_matrix\n",
        "plot_confusion_matrix(knn, X_test, y_test, cmap=plt.cm.Blues)\n",
        "pass"
      ],
      "metadata": {
        "colab": {
          "base_uri": "https://localhost:8080/",
          "height": 334
        },
        "id": "wtZrQ03JyhzZ",
        "outputId": "d8742cfc-8057-4b38-e494-826359368707"
      },
      "id": "wtZrQ03JyhzZ",
      "execution_count": 104,
      "outputs": [
        {
          "output_type": "stream",
          "name": "stderr",
          "text": [
            "/usr/local/lib/python3.7/dist-packages/sklearn/utils/deprecation.py:87: FutureWarning: Function plot_confusion_matrix is deprecated; Function `plot_confusion_matrix` is deprecated in 1.0 and will be removed in 1.2. Use one of the class methods: ConfusionMatrixDisplay.from_predictions or ConfusionMatrixDisplay.from_estimator.\n",
            "  warnings.warn(msg, category=FutureWarning)\n"
          ]
        },
        {
          "output_type": "display_data",
          "data": {
            "text/plain": [
              "<Figure size 432x288 with 2 Axes>"
            ],
            "image/png": "[encoded data removed]"
          },
          "metadata": {
            "needs_background": "light"
          }
        }
      ]
    },
    {
      "cell_type": "markdown",
      "id": "O8Gn-4XkPTU6",
      "metadata": {
        "id": "O8Gn-4XkPTU6"
      },
      "source": [
        "Тру негативов больше чем фолз позитивов примерно в 2 раза, из-за несбалансированности классов."
      ]
    },
    {
      "cell_type": "markdown",
      "source": [
        "### Поборемся с несбалансированностью"
      ],
      "metadata": {
        "id": "_jRQGNy4zAtr"
      },
      "id": "_jRQGNy4zAtr"
    },
    {
      "cell_type": "code",
      "source": [
        "data['satisfaction'].value_counts()"
      ],
      "metadata": {
        "colab": {
          "base_uri": "https://localhost:8080/"
        },
        "id": "fl5MJVJGzHzL",
        "outputId": "69ceb2b8-2d68-4427-e009-02053c670508"
      },
      "id": "fl5MJVJGzHzL",
      "execution_count": 105,
      "outputs": [
        {
          "output_type": "execute_result",
          "data": {
            "text/plain": [
              "1    71005\n",
              "0    54518\n",
              "Name: satisfaction, dtype: int64"
            ]
          },
          "metadata": {},
          "execution_count": 105
        }
      ]
    },
    {
      "cell_type": "code",
      "source": [
        "first_class_data = data.loc[data['satisfaction'] == 0].reset_index(drop=True)\n",
        "second_class_data = data.loc[data['satisfaction'] == 1].reset_index(drop=True)\n",
        "first_class_count = first_class_data.shape[0]\n",
        "second_class_count = second_class_data.shape[0]\n",
        "delta = abs(first_class_count - second_class_count)\n",
        "if second_class_count > first_class_count:\n",
        "  data = pd.concat([second_class_data.drop(range(delta)), first_class_data])\n",
        "else:\n",
        "  data = pd.concat([first_class_data.drop(range(delta)), second_class_data])\n",
        "data['satisfaction'].value_counts()"
      ],
      "metadata": {
        "colab": {
          "base_uri": "https://localhost:8080/"
        },
        "id": "wdjpEZZt0x1P",
        "outputId": "5cad000e-4d45-470d-bb0c-876eab0def45"
      },
      "id": "wdjpEZZt0x1P",
      "execution_count": 106,
      "outputs": [
        {
          "output_type": "execute_result",
          "data": {
            "text/plain": [
              "1    54518\n",
              "0    54518\n",
              "Name: satisfaction, dtype: int64"
            ]
          },
          "metadata": {},
          "execution_count": 106
        }
      ]
    },
    {
      "cell_type": "markdown",
      "source": [
        "Запустим knn после того как поборолись с несбалансированностью"
      ],
      "metadata": {
        "id": "7d44nffC_dTQ"
      },
      "id": "7d44nffC_dTQ"
    },
    {
      "cell_type": "code",
      "source": [
        "X = data.drop('satisfaction', axis = 1)\n",
        "y = data['satisfaction']\n",
        "X_train, X_test, y_train, y_test = train_test_split(X, y, test_size = 0.25, random_state = 42)\n",
        "\n",
        "N_train, _ = X_train.shape \n",
        "N_test,  _ = X_test.shape \n",
        "\n",
        "N_train, N_test"
      ],
      "metadata": {
        "colab": {
          "base_uri": "https://localhost:8080/"
        },
        "id": "nYz1D9SxAu4r",
        "outputId": "2c13c15b-1f6c-4f5a-a357-90d0d2e52721"
      },
      "id": "nYz1D9SxAu4r",
      "execution_count": 107,
      "outputs": [
        {
          "output_type": "execute_result",
          "data": {
            "text/plain": [
              "(81777, 27259)"
            ]
          },
          "metadata": {},
          "execution_count": 107
        }
      ]
    },
    {
      "cell_type": "code",
      "execution_count": 108,
      "id": "y4L5_F1dQmqQ",
      "metadata": {
        "colab": {
          "base_uri": "https://localhost:8080/"
        },
        "id": "y4L5_F1dQmqQ",
        "outputId": "1dd23cc2-8845-42a0-b7b1-9172915540fa"
      },
      "outputs": [
        {
          "output_type": "execute_result",
          "data": {
            "text/plain": [
              "KNeighborsClassifier(n_neighbors=3)"
            ]
          },
          "metadata": {},
          "execution_count": 108
        }
      ],
      "source": [
        "knn.set_params(n_neighbors=3)\n",
        "knn.fit(X_train, y_train)"
      ]
    },
    {
      "cell_type": "code",
      "execution_count": 109,
      "id": "a-5IlAtGQxBE",
      "metadata": {
        "colab": {
          "base_uri": "https://localhost:8080/"
        },
        "id": "a-5IlAtGQxBE",
        "outputId": "51cb4242-a21c-437b-94e4-e5a455222867"
      },
      "outputs": [
        {
          "output_type": "execute_result",
          "data": {
            "text/plain": [
              "0.0427748633478851"
            ]
          },
          "metadata": {},
          "execution_count": 109
        }
      ],
      "source": [
        "y_train_predict = knn.predict(X_train)\n",
        "err_train  = np.mean(y_train  != y_train_predict)\n",
        "err_train"
      ]
    },
    {
      "cell_type": "code",
      "execution_count": 110,
      "id": "rlSsCOY6SRsT",
      "metadata": {
        "colab": {
          "base_uri": "https://localhost:8080/"
        },
        "id": "rlSsCOY6SRsT",
        "outputId": "be063349-d151-49b3-a979-4b203a325cce"
      },
      "outputs": [
        {
          "output_type": "execute_result",
          "data": {
            "text/plain": [
              "0.0772222018415936"
            ]
          },
          "metadata": {},
          "execution_count": 110
        }
      ],
      "source": [
        "y_test_predict = knn.predict(X_test)\n",
        "err_test  = np.mean(y_test  != y_test_predict)\n",
        "err_test"
      ]
    },
    {
      "cell_type": "code",
      "source": [
        "print(confusion_matrix(y_test, y_test_predict))\n",
        "plot_confusion_matrix(knn, X_test, y_test, cmap=plt.cm.Blues)\n",
        "pass"
      ],
      "metadata": {
        "colab": {
          "base_uri": "https://localhost:8080/",
          "height": 368
        },
        "id": "ggIWLrqNA5-W",
        "outputId": "3b512557-2578-4f69-8b7f-85d33b6e8092"
      },
      "id": "ggIWLrqNA5-W",
      "execution_count": 111,
      "outputs": [
        {
          "output_type": "stream",
          "name": "stdout",
          "text": [
            "[[12244  1221]\n",
            " [  884 12910]]\n"
          ]
        },
        {
          "output_type": "stream",
          "name": "stderr",
          "text": [
            "/usr/local/lib/python3.7/dist-packages/sklearn/utils/deprecation.py:87: FutureWarning: Function plot_confusion_matrix is deprecated; Function `plot_confusion_matrix` is deprecated in 1.0 and will be removed in 1.2. Use one of the class methods: ConfusionMatrixDisplay.from_predictions or ConfusionMatrixDisplay.from_estimator.\n",
            "  warnings.warn(msg, category=FutureWarning)\n"
          ]
        },
        {
          "output_type": "display_data",
          "data": {
            "text/plain": [
              "<Figure size 432x288 with 2 Axes>"
            ],
            "image/png": "[encoded data removed]"
          },
          "metadata": {
            "needs_background": "light"
          }
        }
      ]
    },
    {
      "cell_type": "markdown",
      "source": [
        "С помощью устранения несбалансированности классов смогли улучшить результат рассоглосования"
      ],
      "metadata": {
        "id": "_xSwWRDEEPBb"
      },
      "id": "_xSwWRDEEPBb"
    },
    {
      "cell_type": "markdown",
      "id": "mMmpKu7bYuK5",
      "metadata": {
        "id": "mMmpKu7bYuK5"
      },
      "source": [
        "### Увеличим количество ближайших соседей"
      ]
    },
    {
      "cell_type": "code",
      "execution_count": 112,
      "id": "L5fPIQBhYzJb",
      "metadata": {
        "colab": {
          "base_uri": "https://localhost:8080/"
        },
        "id": "L5fPIQBhYzJb",
        "outputId": "fbdc43f1-80da-4cd5-dfb1-d13e4cd70e63"
      },
      "outputs": [
        {
          "output_type": "execute_result",
          "data": {
            "text/plain": [
              "KNeighborsClassifier(n_neighbors=6)"
            ]
          },
          "metadata": {},
          "execution_count": 112
        }
      ],
      "source": [
        "knn.set_params(n_neighbors=6)\n",
        "knn.fit(X_train, y_train)"
      ]
    },
    {
      "cell_type": "code",
      "execution_count": 113,
      "id": "3AbgOjKNY2Ai",
      "metadata": {
        "colab": {
          "base_uri": "https://localhost:8080/"
        },
        "id": "3AbgOjKNY2Ai",
        "outputId": "4ccb6730-0c2f-43d5-c995-eec0a649a44a"
      },
      "outputs": [
        {
          "output_type": "execute_result",
          "data": {
            "text/plain": [
              "0.05351137850495861"
            ]
          },
          "metadata": {},
          "execution_count": 113
        }
      ],
      "source": [
        "y_train_predict = knn.predict(X_train)\n",
        "err_train  = np.mean(y_train  != y_train_predict)\n",
        "err_train"
      ]
    },
    {
      "cell_type": "code",
      "execution_count": 114,
      "id": "YaNHyINsY2nO",
      "metadata": {
        "colab": {
          "base_uri": "https://localhost:8080/"
        },
        "id": "YaNHyINsY2nO",
        "outputId": "1446ca66-30e6-4fd9-e227-fdbf76ab813d"
      },
      "outputs": [
        {
          "output_type": "execute_result",
          "data": {
            "text/plain": [
              "0.07535126013426759"
            ]
          },
          "metadata": {},
          "execution_count": 114
        }
      ],
      "source": [
        "y_test_predict = knn.predict(X_test)\n",
        "err_test  = np.mean(y_test  != y_test_predict)\n",
        "err_test"
      ]
    },
    {
      "cell_type": "code",
      "execution_count": 115,
      "id": "Sb7YB3bcxHWE",
      "metadata": {
        "colab": {
          "base_uri": "https://localhost:8080/"
        },
        "id": "Sb7YB3bcxHWE",
        "outputId": "4412b182-800c-4965-d306-33c35176abef"
      },
      "outputs": [
        {
          "output_type": "execute_result",
          "data": {
            "text/plain": [
              "KNeighborsClassifier(n_neighbors=9)"
            ]
          },
          "metadata": {},
          "execution_count": 115
        }
      ],
      "source": [
        "knn.set_params(n_neighbors=9)\n",
        "knn.fit(X_train, y_train)"
      ]
    },
    {
      "cell_type": "code",
      "execution_count": 116,
      "id": "hywR7bt9xLIP",
      "metadata": {
        "colab": {
          "base_uri": "https://localhost:8080/"
        },
        "id": "hywR7bt9xLIP",
        "outputId": "d0609bd4-2edc-459c-aa39-92d1de7b7a26"
      },
      "outputs": [
        {
          "output_type": "execute_result",
          "data": {
            "text/plain": [
              "0.058940777969355686"
            ]
          },
          "metadata": {},
          "execution_count": 116
        }
      ],
      "source": [
        "y_train_predict = knn.predict(X_train)\n",
        "err_train  = np.mean(y_train  != y_train_predict)\n",
        "err_train"
      ]
    },
    {
      "cell_type": "code",
      "execution_count": 117,
      "id": "iLESAkoPxMqY",
      "metadata": {
        "colab": {
          "base_uri": "https://localhost:8080/"
        },
        "id": "iLESAkoPxMqY",
        "outputId": "b1734f3d-f57d-4325-d4cf-7f7df42570e4"
      },
      "outputs": [
        {
          "output_type": "execute_result",
          "data": {
            "text/plain": [
              "0.07366374408452254"
            ]
          },
          "metadata": {},
          "execution_count": 117
        }
      ],
      "source": [
        "y_test_predict = knn.predict(X_test)\n",
        "err_test  = np.mean(y_test  != y_test_predict)\n",
        "err_test"
      ]
    },
    {
      "cell_type": "markdown",
      "source": [
        "Увеличение числа соседей увеличивает ошибку на обучающей выборке, но уменьшает на тестовой. Это логично, так как при выборе большего количества соседей модель меньше переобучается."
      ],
      "metadata": {
        "id": "zS6mvxBMHBQJ"
      },
      "id": "zS6mvxBMHBQJ"
    }
  ],
  "metadata": {
    "colab": {
      "collapsed_sections": [],
      "provenance": []
    },
    "kernelspec": {
      "display_name": "Python 3.9.12 ('base')",
      "language": "python",
      "name": "python3"
    },
    "language_info": {
      "codemirror_mode": {
        "name": "ipython",
        "version": 3
      },
      "file_extension": ".py",
      "mimetype": "text/x-python",
      "name": "python",
      "nbconvert_exporter": "python",
      "pygments_lexer": "ipython3",
      "version": "3.9.12"
    },
    "vscode": {
      "interpreter": {
        "hash": "d0735eeadb370e95416d168987b0107a10bacdd4f24a24e5be38f26b17d4a4fa"
      }
    }
  },
  "nbformat": 4,
  "nbformat_minor": 5
}