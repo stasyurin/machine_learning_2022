{
  "cells": [
    {
      "cell_type": "code",
      "execution_count": 87,
      "id": "33833926",
      "metadata": {
        "id": "33833926"
      },
      "outputs": [],
      "source": [
        "import numpy as np              # Массивы (матрицы, векторы, линейная алгебра)\n",
        "import matplotlib.pyplot as plt # Научная графика\n",
        "%matplotlib inline \n",
        "    # Говорим jupyter'у, чтобы весь графический вывод был в браузере, а не в отдельном окне\n",
        "import pandas as pd             # Таблицы и временные ряды (dataframe, series)\n",
        "import seaborn as sns           # Еще больше красивой графики для визуализации данных\n",
        "import sklearn                  # Алгоритмы машинного обучения"
      ]
    },
    {
      "cell_type": "markdown",
      "id": "d73d389f",
      "metadata": {
        "id": "d73d389f"
      },
      "source": [
        "# Удовлетворенность пассажиров авиакомпании"
      ]
    },
    {
      "cell_type": "markdown",
      "id": "b319e0e8",
      "metadata": {
        "id": "b319e0e8"
      },
      "source": [
        "Предположим, что вы хотите оценить как зависит довольны ли пассажиры полетом на самолете в зависимости от разных факторов."
      ]
    },
    {
      "cell_type": "markdown",
      "id": "61dd4087",
      "metadata": {
        "id": "61dd4087"
      },
      "source": [
        "## Загружаем данные"
      ]
    },
    {
      "cell_type": "markdown",
      "id": "a797c578",
      "metadata": {},
      "source": [
        "Датасет изначально был разделен на тестовую и обучающую выборку. Для чистоты эксперимента не будем пользоваться этим разделением. Объединим обе таблицы и случайным образом перемешаем строки."
      ]
    },
    {
      "cell_type": "code",
      "execution_count": 88,
      "id": "0b23cd64",
      "metadata": {
        "id": "0b23cd64"
      },
      "outputs": [],
      "source": [
        "data_test = pd.read_csv(\"./datasets/test.csv\")\n",
        "data_train = pd.read_csv(\"./datasets/train.csv\")\n",
        "data = pd.concat([data_test, data_train])"
      ]
    },
    {
      "cell_type": "code",
      "execution_count": 89,
      "id": "6bfed833",
      "metadata": {},
      "outputs": [
        {
          "data": {
            "text/plain": [
              "Index(['Unnamed: 0', 'id', 'Gender', 'Customer Type', 'Age', 'Type of Travel',\n",
              "       'Class', 'Flight Distance', 'Inflight wifi service',\n",
              "       'Departure/Arrival time convenient', 'Ease of Online booking',\n",
              "       'Gate location', 'Food and drink', 'Online boarding', 'Seat comfort',\n",
              "       'Inflight entertainment', 'On-board service', 'Leg room service',\n",
              "       'Baggage handling', 'Checkin service', 'Inflight service',\n",
              "       'Cleanliness', 'Departure Delay in Minutes', 'Arrival Delay in Minutes',\n",
              "       'satisfaction'],\n",
              "      dtype='object')"
            ]
          },
          "execution_count": 89,
          "metadata": {},
          "output_type": "execute_result"
        }
      ],
      "source": [
        "data.columns"
      ]
    },
    {
      "cell_type": "code",
      "execution_count": 90,
      "id": "3c72cc34",
      "metadata": {},
      "outputs": [
        {
          "data": {
            "text/html": [
              "<div>\n",
              "<style scoped>\n",
              "    .dataframe tbody tr th:only-of-type {\n",
              "        vertical-align: middle;\n",
              "    }\n",
              "\n",
              "    .dataframe tbody tr th {\n",
              "        vertical-align: top;\n",
              "    }\n",
              "\n",
              "    .dataframe thead th {\n",
              "        text-align: right;\n",
              "    }\n",
              "</style>\n",
              "<table border=\"1\" class=\"dataframe\">\n",
              "  <thead>\n",
              "    <tr style=\"text-align: right;\">\n",
              "      <th></th>\n",
              "      <th>Gender</th>\n",
              "      <th>Customer Type</th>\n",
              "      <th>Age</th>\n",
              "      <th>Type of Travel</th>\n",
              "      <th>Class</th>\n",
              "      <th>Flight Distance</th>\n",
              "      <th>Inflight wifi service</th>\n",
              "      <th>Departure/Arrival time convenient</th>\n",
              "      <th>Ease of Online booking</th>\n",
              "      <th>Gate location</th>\n",
              "      <th>...</th>\n",
              "      <th>Inflight entertainment</th>\n",
              "      <th>On-board service</th>\n",
              "      <th>Leg room service</th>\n",
              "      <th>Baggage handling</th>\n",
              "      <th>Checkin service</th>\n",
              "      <th>Inflight service</th>\n",
              "      <th>Cleanliness</th>\n",
              "      <th>Departure Delay in Minutes</th>\n",
              "      <th>Arrival Delay in Minutes</th>\n",
              "      <th>satisfaction</th>\n",
              "    </tr>\n",
              "  </thead>\n",
              "  <tbody>\n",
              "    <tr>\n",
              "      <th>0</th>\n",
              "      <td>Male</td>\n",
              "      <td>Loyal Customer</td>\n",
              "      <td>53</td>\n",
              "      <td>Personal Travel</td>\n",
              "      <td>Business</td>\n",
              "      <td>1096</td>\n",
              "      <td>2</td>\n",
              "      <td>4</td>\n",
              "      <td>2</td>\n",
              "      <td>1</td>\n",
              "      <td>...</td>\n",
              "      <td>2</td>\n",
              "      <td>2</td>\n",
              "      <td>2</td>\n",
              "      <td>4</td>\n",
              "      <td>2</td>\n",
              "      <td>2</td>\n",
              "      <td>5</td>\n",
              "      <td>0</td>\n",
              "      <td>0.0</td>\n",
              "      <td>neutral or dissatisfied</td>\n",
              "    </tr>\n",
              "    <tr>\n",
              "      <th>1</th>\n",
              "      <td>Male</td>\n",
              "      <td>Loyal Customer</td>\n",
              "      <td>57</td>\n",
              "      <td>Business travel</td>\n",
              "      <td>Business</td>\n",
              "      <td>224</td>\n",
              "      <td>4</td>\n",
              "      <td>4</td>\n",
              "      <td>4</td>\n",
              "      <td>4</td>\n",
              "      <td>...</td>\n",
              "      <td>5</td>\n",
              "      <td>5</td>\n",
              "      <td>5</td>\n",
              "      <td>5</td>\n",
              "      <td>5</td>\n",
              "      <td>5</td>\n",
              "      <td>5</td>\n",
              "      <td>1</td>\n",
              "      <td>0.0</td>\n",
              "      <td>satisfied</td>\n",
              "    </tr>\n",
              "    <tr>\n",
              "      <th>2</th>\n",
              "      <td>Female</td>\n",
              "      <td>Loyal Customer</td>\n",
              "      <td>38</td>\n",
              "      <td>Personal Travel</td>\n",
              "      <td>Eco</td>\n",
              "      <td>630</td>\n",
              "      <td>4</td>\n",
              "      <td>5</td>\n",
              "      <td>4</td>\n",
              "      <td>5</td>\n",
              "      <td>...</td>\n",
              "      <td>2</td>\n",
              "      <td>4</td>\n",
              "      <td>2</td>\n",
              "      <td>5</td>\n",
              "      <td>5</td>\n",
              "      <td>5</td>\n",
              "      <td>2</td>\n",
              "      <td>0</td>\n",
              "      <td>0.0</td>\n",
              "      <td>neutral or dissatisfied</td>\n",
              "    </tr>\n",
              "    <tr>\n",
              "      <th>3</th>\n",
              "      <td>Male</td>\n",
              "      <td>Loyal Customer</td>\n",
              "      <td>17</td>\n",
              "      <td>Business travel</td>\n",
              "      <td>Eco Plus</td>\n",
              "      <td>468</td>\n",
              "      <td>4</td>\n",
              "      <td>1</td>\n",
              "      <td>1</td>\n",
              "      <td>1</td>\n",
              "      <td>...</td>\n",
              "      <td>4</td>\n",
              "      <td>5</td>\n",
              "      <td>2</td>\n",
              "      <td>2</td>\n",
              "      <td>2</td>\n",
              "      <td>2</td>\n",
              "      <td>4</td>\n",
              "      <td>0</td>\n",
              "      <td>0.0</td>\n",
              "      <td>satisfied</td>\n",
              "    </tr>\n",
              "    <tr>\n",
              "      <th>4</th>\n",
              "      <td>Female</td>\n",
              "      <td>Loyal Customer</td>\n",
              "      <td>48</td>\n",
              "      <td>Business travel</td>\n",
              "      <td>Business</td>\n",
              "      <td>1608</td>\n",
              "      <td>1</td>\n",
              "      <td>1</td>\n",
              "      <td>1</td>\n",
              "      <td>1</td>\n",
              "      <td>...</td>\n",
              "      <td>4</td>\n",
              "      <td>4</td>\n",
              "      <td>4</td>\n",
              "      <td>4</td>\n",
              "      <td>5</td>\n",
              "      <td>4</td>\n",
              "      <td>4</td>\n",
              "      <td>0</td>\n",
              "      <td>19.0</td>\n",
              "      <td>satisfied</td>\n",
              "    </tr>\n",
              "    <tr>\n",
              "      <th>...</th>\n",
              "      <td>...</td>\n",
              "      <td>...</td>\n",
              "      <td>...</td>\n",
              "      <td>...</td>\n",
              "      <td>...</td>\n",
              "      <td>...</td>\n",
              "      <td>...</td>\n",
              "      <td>...</td>\n",
              "      <td>...</td>\n",
              "      <td>...</td>\n",
              "      <td>...</td>\n",
              "      <td>...</td>\n",
              "      <td>...</td>\n",
              "      <td>...</td>\n",
              "      <td>...</td>\n",
              "      <td>...</td>\n",
              "      <td>...</td>\n",
              "      <td>...</td>\n",
              "      <td>...</td>\n",
              "      <td>...</td>\n",
              "      <td>...</td>\n",
              "    </tr>\n",
              "    <tr>\n",
              "      <th>129875</th>\n",
              "      <td>Female</td>\n",
              "      <td>Loyal Customer</td>\n",
              "      <td>10</td>\n",
              "      <td>Personal Travel</td>\n",
              "      <td>Eco</td>\n",
              "      <td>287</td>\n",
              "      <td>2</td>\n",
              "      <td>5</td>\n",
              "      <td>3</td>\n",
              "      <td>3</td>\n",
              "      <td>...</td>\n",
              "      <td>5</td>\n",
              "      <td>4</td>\n",
              "      <td>5</td>\n",
              "      <td>4</td>\n",
              "      <td>1</td>\n",
              "      <td>4</td>\n",
              "      <td>1</td>\n",
              "      <td>127</td>\n",
              "      <td>133.0</td>\n",
              "      <td>neutral or dissatisfied</td>\n",
              "    </tr>\n",
              "    <tr>\n",
              "      <th>129876</th>\n",
              "      <td>Female</td>\n",
              "      <td>Loyal Customer</td>\n",
              "      <td>26</td>\n",
              "      <td>Business travel</td>\n",
              "      <td>Business</td>\n",
              "      <td>1601</td>\n",
              "      <td>3</td>\n",
              "      <td>1</td>\n",
              "      <td>3</td>\n",
              "      <td>3</td>\n",
              "      <td>...</td>\n",
              "      <td>3</td>\n",
              "      <td>3</td>\n",
              "      <td>5</td>\n",
              "      <td>4</td>\n",
              "      <td>5</td>\n",
              "      <td>4</td>\n",
              "      <td>3</td>\n",
              "      <td>5</td>\n",
              "      <td>0.0</td>\n",
              "      <td>satisfied</td>\n",
              "    </tr>\n",
              "    <tr>\n",
              "      <th>129877</th>\n",
              "      <td>Female</td>\n",
              "      <td>Loyal Customer</td>\n",
              "      <td>57</td>\n",
              "      <td>Business travel</td>\n",
              "      <td>Business</td>\n",
              "      <td>3259</td>\n",
              "      <td>2</td>\n",
              "      <td>5</td>\n",
              "      <td>2</td>\n",
              "      <td>2</td>\n",
              "      <td>...</td>\n",
              "      <td>4</td>\n",
              "      <td>4</td>\n",
              "      <td>4</td>\n",
              "      <td>5</td>\n",
              "      <td>4</td>\n",
              "      <td>4</td>\n",
              "      <td>4</td>\n",
              "      <td>0</td>\n",
              "      <td>0.0</td>\n",
              "      <td>satisfied</td>\n",
              "    </tr>\n",
              "    <tr>\n",
              "      <th>129878</th>\n",
              "      <td>Female</td>\n",
              "      <td>Loyal Customer</td>\n",
              "      <td>13</td>\n",
              "      <td>Personal Travel</td>\n",
              "      <td>Eco</td>\n",
              "      <td>441</td>\n",
              "      <td>3</td>\n",
              "      <td>4</td>\n",
              "      <td>3</td>\n",
              "      <td>2</td>\n",
              "      <td>...</td>\n",
              "      <td>5</td>\n",
              "      <td>5</td>\n",
              "      <td>5</td>\n",
              "      <td>3</td>\n",
              "      <td>4</td>\n",
              "      <td>3</td>\n",
              "      <td>5</td>\n",
              "      <td>13</td>\n",
              "      <td>0.0</td>\n",
              "      <td>neutral or dissatisfied</td>\n",
              "    </tr>\n",
              "    <tr>\n",
              "      <th>129879</th>\n",
              "      <td>Female</td>\n",
              "      <td>Loyal Customer</td>\n",
              "      <td>62</td>\n",
              "      <td>Personal Travel</td>\n",
              "      <td>Eco Plus</td>\n",
              "      <td>4983</td>\n",
              "      <td>3</td>\n",
              "      <td>2</td>\n",
              "      <td>3</td>\n",
              "      <td>3</td>\n",
              "      <td>...</td>\n",
              "      <td>2</td>\n",
              "      <td>1</td>\n",
              "      <td>3</td>\n",
              "      <td>4</td>\n",
              "      <td>4</td>\n",
              "      <td>1</td>\n",
              "      <td>4</td>\n",
              "      <td>0</td>\n",
              "      <td>0.0</td>\n",
              "      <td>neutral or dissatisfied</td>\n",
              "    </tr>\n",
              "  </tbody>\n",
              "</table>\n",
              "<p>129880 rows × 23 columns</p>\n",
              "</div>"
            ],
            "text/plain": [
              "        Gender   Customer Type  Age   Type of Travel     Class  \\\n",
              "0         Male  Loyal Customer   53  Personal Travel  Business   \n",
              "1         Male  Loyal Customer   57  Business travel  Business   \n",
              "2       Female  Loyal Customer   38  Personal Travel       Eco   \n",
              "3         Male  Loyal Customer   17  Business travel  Eco Plus   \n",
              "4       Female  Loyal Customer   48  Business travel  Business   \n",
              "...        ...             ...  ...              ...       ...   \n",
              "129875  Female  Loyal Customer   10  Personal Travel       Eco   \n",
              "129876  Female  Loyal Customer   26  Business travel  Business   \n",
              "129877  Female  Loyal Customer   57  Business travel  Business   \n",
              "129878  Female  Loyal Customer   13  Personal Travel       Eco   \n",
              "129879  Female  Loyal Customer   62  Personal Travel  Eco Plus   \n",
              "\n",
              "        Flight Distance  Inflight wifi service  \\\n",
              "0                  1096                      2   \n",
              "1                   224                      4   \n",
              "2                   630                      4   \n",
              "3                   468                      4   \n",
              "4                  1608                      1   \n",
              "...                 ...                    ...   \n",
              "129875              287                      2   \n",
              "129876             1601                      3   \n",
              "129877             3259                      2   \n",
              "129878              441                      3   \n",
              "129879             4983                      3   \n",
              "\n",
              "        Departure/Arrival time convenient  Ease of Online booking  \\\n",
              "0                                       4                       2   \n",
              "1                                       4                       4   \n",
              "2                                       5                       4   \n",
              "3                                       1                       1   \n",
              "4                                       1                       1   \n",
              "...                                   ...                     ...   \n",
              "129875                                  5                       3   \n",
              "129876                                  1                       3   \n",
              "129877                                  5                       2   \n",
              "129878                                  4                       3   \n",
              "129879                                  2                       3   \n",
              "\n",
              "        Gate location  ...  Inflight entertainment  On-board service  \\\n",
              "0                   1  ...                       2                 2   \n",
              "1                   4  ...                       5                 5   \n",
              "2                   5  ...                       2                 4   \n",
              "3                   1  ...                       4                 5   \n",
              "4                   1  ...                       4                 4   \n",
              "...               ...  ...                     ...               ...   \n",
              "129875              3  ...                       5                 4   \n",
              "129876              3  ...                       3                 3   \n",
              "129877              2  ...                       4                 4   \n",
              "129878              2  ...                       5                 5   \n",
              "129879              3  ...                       2                 1   \n",
              "\n",
              "        Leg room service  Baggage handling  Checkin service  Inflight service  \\\n",
              "0                      2                 4                2                 2   \n",
              "1                      5                 5                5                 5   \n",
              "2                      2                 5                5                 5   \n",
              "3                      2                 2                2                 2   \n",
              "4                      4                 4                5                 4   \n",
              "...                  ...               ...              ...               ...   \n",
              "129875                 5                 4                1                 4   \n",
              "129876                 5                 4                5                 4   \n",
              "129877                 4                 5                4                 4   \n",
              "129878                 5                 3                4                 3   \n",
              "129879                 3                 4                4                 1   \n",
              "\n",
              "        Cleanliness  Departure Delay in Minutes  Arrival Delay in Minutes  \\\n",
              "0                 5                           0                       0.0   \n",
              "1                 5                           1                       0.0   \n",
              "2                 2                           0                       0.0   \n",
              "3                 4                           0                       0.0   \n",
              "4                 4                           0                      19.0   \n",
              "...             ...                         ...                       ...   \n",
              "129875            1                         127                     133.0   \n",
              "129876            3                           5                       0.0   \n",
              "129877            4                           0                       0.0   \n",
              "129878            5                          13                       0.0   \n",
              "129879            4                           0                       0.0   \n",
              "\n",
              "                   satisfaction  \n",
              "0       neutral or dissatisfied  \n",
              "1                     satisfied  \n",
              "2       neutral or dissatisfied  \n",
              "3                     satisfied  \n",
              "4                     satisfied  \n",
              "...                         ...  \n",
              "129875  neutral or dissatisfied  \n",
              "129876                satisfied  \n",
              "129877                satisfied  \n",
              "129878  neutral or dissatisfied  \n",
              "129879  neutral or dissatisfied  \n",
              "\n",
              "[129880 rows x 23 columns]"
            ]
          },
          "execution_count": 90,
          "metadata": {},
          "output_type": "execute_result"
        }
      ],
      "source": [
        "\n",
        "data.drop(['Unnamed: 0', 'id'], axis=1, inplace=True) # удалим служебные столбцы\n",
        "data.sample(frac=1, random_state = 42).reset_index(drop=True) # и перемешиваем"
      ]
    },
    {
      "cell_type": "code",
      "execution_count": 91,
      "id": "aeb64e7f",
      "metadata": {},
      "outputs": [
        {
          "data": {
            "text/plain": [
              "Index(['Gender', 'Customer Type', 'Age', 'Type of Travel', 'Class',\n",
              "       'Flight Distance', 'Inflight wifi service',\n",
              "       'Departure/Arrival time convenient', 'Ease of Online booking',\n",
              "       'Gate location', 'Food and drink', 'Online boarding', 'Seat comfort',\n",
              "       'Inflight entertainment', 'On-board service', 'Leg room service',\n",
              "       'Baggage handling', 'Checkin service', 'Inflight service',\n",
              "       'Cleanliness', 'Departure Delay in Minutes', 'Arrival Delay in Minutes',\n",
              "       'satisfaction'],\n",
              "      dtype='object')"
            ]
          },
          "execution_count": 91,
          "metadata": {},
          "output_type": "execute_result"
        }
      ],
      "source": [
        "data.columns"
      ]
    },
    {
      "cell_type": "markdown",
      "id": "0IB9ujVnovl1",
      "metadata": {
        "id": "0IB9ujVnovl1"
      },
      "source": [
        "Столбцы (признаки) имеют имена\n",
        "\n",
        "- `Gender` - Пол. Бинарный признак. Типы: Female (Женский), Male (Мужской).\n",
        "- `Customer Type` - Тип клиента. Бинарный признак. Типы: `Loyal customer` (Лояльный клиент) и `Disloyal customer` (Нелояльный клиент). Лояльный клиент - это клиент, лояльный к авиакомпании, то есть чаще предпочитающий пользоваться услугами данной авиакомпании нежели другой. Нелояльный - чаще пользующийся услугами другой компании.\n",
        "- `Age` - Возраст. Количественный признак.\n",
        "- `Type of Travel` - Цель полета пассажира. Бинарный признак. Типы: `Personal Travel` (Личная поездка), Business Travel (Деловая поездка).\n",
        "- `Class` - Туристический класс, которым летит пассажир. Категориальный признак. Типы: `Business` (Бизнес), `Eco` (Эконом), `Eco Plus` (Эконом Плюс).\n",
        "- `Flight Distance` - Расстояние полета. Количественный признак.\n",
        "- `Inflight wifi service` - уровень удовлетворенности услугой Wi-Fi - от 1 до 5.  Количественный признак.\n",
        "- `Departure/Arrival time convenient` - Уровень удовлетворенности тем, насколько удобно было время отправления/прибытия. Количественный признак.\n",
        "- `Ease of Online booking` - Уровень удовлетворенности простотой онлайн-бронирования. Количественный признак.\n",
        "- `Gate location` - Уровень удовлетворенности расположением выходов. Количественный признак.\n",
        "- `Food and drink` - Уровень удовлетворенности едой и напитками. Количественный признак.\n",
        "- `Online boarding` - Уровень удовлетворенности онлайн регистрацией на рейс. Количественный признак.\n",
        "- `Seat comfort` - Уровень удовлетворенности комфортабельностью кресел. Количественный признак.\n",
        "- `Inflight entertainment` - Уровень удовлетворенности развлечениями во время полета. Количественный признак.\n",
        "- `On-board service` - Уровень удовлетворенности услугами на борту. Количественный признак.\n",
        "- `Leg room service` - Уровень удовлетворенности количеством места для ног. Количественный признак.\n",
        "- `Baggage handling` - Уровень удовлетворенности услугами по транспортировке багажа. Количественный признак.\n",
        "- `Checkin service` - Уровень удовлетворенности услугой регистрации на рейс. Количественный признак.\n",
        "- `Inflight service` - Уровень удовлетворенности услугами во время полета. Количественный признак.\n",
        "- `Cleanliness` - Уровень удовлетворенности чистотой. Количественный признак.\n",
        "- `Departure Delay in Minutes` - Задержка отправления в минутах. Количественный признак.\n",
        "- `Arrival Delay in Minutes` - Задержка прибытия в минутах. Количественный признак.\n",
        "- `satisfaction` - Уровень удовлетворенности. Бинарный признак. Типы: `satisfaction` (удовлетоврен), `neutral or dissatisfied` (нейтрален или неудовлетоврен).\n",
        "\n",
        "Требуется предсказать признак `satisfaction` по остальным признакам. Это *задача классификации*."
      ]
    },
    {
      "cell_type": "markdown",
      "id": "581a67ab",
      "metadata": {
        "id": "581a67ab"
      },
      "source": [
        "##  Обрабатываем пропущенные значения"
      ]
    },
    {
      "cell_type": "markdown",
      "id": "bdcd7bab",
      "metadata": {
        "id": "bdcd7bab"
      },
      "source": [
        "В данных небошльшое количество пропущенных значений:"
      ]
    },
    {
      "cell_type": "code",
      "execution_count": 92,
      "id": "f8cbfd3a",
      "metadata": {
        "colab": {
          "base_uri": "https://localhost:8080/"
        },
        "id": "f8cbfd3a",
        "outputId": "3a26a5ee-4ccf-409d-e7f1-bb77e0dc0f92"
      },
      "outputs": [
        {
          "data": {
            "text/plain": [
              "Gender                                 0\n",
              "Customer Type                          0\n",
              "Age                                    0\n",
              "Type of Travel                         0\n",
              "Class                                  0\n",
              "Flight Distance                        0\n",
              "Inflight wifi service                  0\n",
              "Departure/Arrival time convenient      0\n",
              "Ease of Online booking                 0\n",
              "Gate location                          0\n",
              "Food and drink                         0\n",
              "Online boarding                        0\n",
              "Seat comfort                           0\n",
              "Inflight entertainment                 0\n",
              "On-board service                       0\n",
              "Leg room service                       0\n",
              "Baggage handling                       0\n",
              "Checkin service                        0\n",
              "Inflight service                       0\n",
              "Cleanliness                            0\n",
              "Departure Delay in Minutes             0\n",
              "Arrival Delay in Minutes             393\n",
              "satisfaction                           0\n",
              "dtype: int64"
            ]
          },
          "execution_count": 92,
          "metadata": {},
          "output_type": "execute_result"
        }
      ],
      "source": [
        "data.isna().sum()"
      ]
    },
    {
      "cell_type": "markdown",
      "id": "a4f6ddb5",
      "metadata": {
        "id": "a4f6ddb5"
      },
      "source": [
        "Заполним медианами пропущенные значения в столбцах, соответствующих числовым признакам:"
      ]
    },
    {
      "cell_type": "code",
      "execution_count": 93,
      "id": "f2df1aa9",
      "metadata": {
        "id": "f2df1aa9"
      },
      "outputs": [],
      "source": [
        "data['Arrival Delay in Minutes'].fillna(data['Arrival Delay in Minutes'].median(axis = 0), axis=0 , inplace=True)"
      ]
    },
    {
      "cell_type": "code",
      "execution_count": 94,
      "id": "507bcf57",
      "metadata": {
        "colab": {
          "base_uri": "https://localhost:8080/"
        },
        "id": "507bcf57",
        "outputId": "1fb0ce75-7123-4139-d100-82fb7d4f7b79"
      },
      "outputs": [
        {
          "data": {
            "text/plain": [
              "Gender                               0\n",
              "Customer Type                        0\n",
              "Age                                  0\n",
              "Type of Travel                       0\n",
              "Class                                0\n",
              "Flight Distance                      0\n",
              "Inflight wifi service                0\n",
              "Departure/Arrival time convenient    0\n",
              "Ease of Online booking               0\n",
              "Gate location                        0\n",
              "Food and drink                       0\n",
              "Online boarding                      0\n",
              "Seat comfort                         0\n",
              "Inflight entertainment               0\n",
              "On-board service                     0\n",
              "Leg room service                     0\n",
              "Baggage handling                     0\n",
              "Checkin service                      0\n",
              "Inflight service                     0\n",
              "Cleanliness                          0\n",
              "Departure Delay in Minutes           0\n",
              "Arrival Delay in Minutes             0\n",
              "satisfaction                         0\n",
              "dtype: int64"
            ]
          },
          "execution_count": 94,
          "metadata": {},
          "output_type": "execute_result"
        }
      ],
      "source": [
        "data.isna().sum()"
      ]
    },
    {
      "cell_type": "markdown",
      "id": "c6541acd",
      "metadata": {
        "id": "c6541acd"
      },
      "source": [
        "## Боремся с выбросами для числовых признаков"
      ]
    },
    {
      "cell_type": "code",
      "execution_count": 95,
      "id": "U-G0xVJ54SEX",
      "metadata": {
        "colab": {
          "base_uri": "https://localhost:8080/"
        },
        "id": "U-G0xVJ54SEX",
        "outputId": "68a610ff-407e-4996-8ec3-915c1edf86e2"
      },
      "outputs": [
        {
          "name": "stdout",
          "output_type": "stream",
          "text": [
            "['Gender', 'Customer Type', 'Type of Travel', 'Class', 'satisfaction']\n",
            "['Age', 'Flight Distance', 'Inflight wifi service', 'Departure/Arrival time convenient', 'Ease of Online booking', 'Gate location', 'Food and drink', 'Online boarding', 'Seat comfort', 'Inflight entertainment', 'On-board service', 'Leg room service', 'Baggage handling', 'Checkin service', 'Inflight service', 'Cleanliness', 'Departure Delay in Minutes', 'Arrival Delay in Minutes']\n"
          ]
        }
      ],
      "source": [
        "categorical_columns = [c for c in data.columns if data[c].dtype.name == 'object']\n",
        "numerical_columns   = [c for c in data.columns if data[c].dtype.name != 'object']\n",
        "print(categorical_columns)\n",
        "print(numerical_columns)"
      ]
    },
    {
      "cell_type": "code",
      "execution_count": 96,
      "id": "a9fb366e",
      "metadata": {
        "colab": {
          "base_uri": "https://localhost:8080/"
        },
        "id": "a9fb366e",
        "outputId": "15757e5f-a25c-4a30-a9bc-a4a86ae9494f"
      },
      "outputs": [
        {
          "name": "stdout",
          "output_type": "stream",
          "text": [
            "(129880, 23)\n",
            "(125523, 23)\n"
          ]
        }
      ],
      "source": [
        "print(data.shape)\n",
        "\n",
        "rows_to_drop = []\n",
        "for column in data.columns:\n",
        "    if (column in categorical_columns):\n",
        "        continue\n",
        "    rows_to_drop += data[(data[column] < data[column].quantile(0.005))\n",
        "    | (data[column] > data[column].quantile(0.995))].index.tolist()\n",
        "data = data.drop(rows_to_drop)\n",
        "\n",
        "print(data.shape)"
      ]
    },
    {
      "cell_type": "markdown",
      "id": "-n83K1zNDasK",
      "metadata": {
        "id": "-n83K1zNDasK"
      },
      "source": [
        "Для всех количественных признаков удаление выбросов привело к сокращению количества строк на 129880 - 125523 = 4357 строк"
      ]
    },
    {
      "cell_type": "markdown",
      "id": "ziHrau8lEhGp",
      "metadata": {
        "id": "ziHrau8lEhGp"
      },
      "source": [
        "## Визуализация и описательная статистика"
      ]
    },
    {
      "cell_type": "markdown",
      "id": "9naiSP3DE5Kt",
      "metadata": {
        "id": "9naiSP3DE5Kt"
      },
      "source": [
        "Матрица корреляции"
      ]
    },
    {
      "cell_type": "code",
      "execution_count": 97,
      "id": "4964b4ef",
      "metadata": {
        "colab": {
          "base_uri": "https://localhost:8080/"
        },
        "id": "4964b4ef",
        "outputId": "82a94ee0-78fd-4b8b-cd13-2971c1c1421e"
      },
      "outputs": [
        {
          "data": {
            "image/png": "[encoded data removed]",
            "text/plain": [
              "<Figure size 432x288 with 2 Axes>"
            ]
          },
          "metadata": {
            "needs_background": "light"
          },
          "output_type": "display_data"
        }
      ],
      "source": [
        "corr_mat = data.corr()\n",
        "sns.heatmap(corr_mat, square=True, cmap='coolwarm')\n",
        "pass"
      ]
    },
    {
      "cell_type": "code",
      "execution_count": 98,
      "id": "R7cZp-DsJhOQ",
      "metadata": {
        "colab": {
          "base_uri": "https://localhost:8080/"
        },
        "id": "R7cZp-DsJhOQ",
        "outputId": "77169506-091f-42d2-d8bf-6ac5469221b0"
      },
      "outputs": [
        {
          "data": {
            "text/html": [
              "<div>\n",
              "<style scoped>\n",
              "    .dataframe tbody tr th:only-of-type {\n",
              "        vertical-align: middle;\n",
              "    }\n",
              "\n",
              "    .dataframe tbody tr th {\n",
              "        vertical-align: top;\n",
              "    }\n",
              "\n",
              "    .dataframe thead th {\n",
              "        text-align: right;\n",
              "    }\n",
              "</style>\n",
              "<table border=\"1\" class=\"dataframe\">\n",
              "  <thead>\n",
              "    <tr style=\"text-align: right;\">\n",
              "      <th></th>\n",
              "      <th>Age</th>\n",
              "      <th>Flight Distance</th>\n",
              "      <th>Inflight wifi service</th>\n",
              "      <th>Departure/Arrival time convenient</th>\n",
              "      <th>Ease of Online booking</th>\n",
              "      <th>Gate location</th>\n",
              "      <th>Food and drink</th>\n",
              "      <th>Online boarding</th>\n",
              "      <th>Seat comfort</th>\n",
              "      <th>Inflight entertainment</th>\n",
              "      <th>On-board service</th>\n",
              "      <th>Leg room service</th>\n",
              "      <th>Baggage handling</th>\n",
              "      <th>Checkin service</th>\n",
              "      <th>Inflight service</th>\n",
              "      <th>Cleanliness</th>\n",
              "      <th>Departure Delay in Minutes</th>\n",
              "      <th>Arrival Delay in Minutes</th>\n",
              "    </tr>\n",
              "  </thead>\n",
              "  <tbody>\n",
              "    <tr>\n",
              "      <th>count</th>\n",
              "      <td>125523.000000</td>\n",
              "      <td>125523.000000</td>\n",
              "      <td>125523.000000</td>\n",
              "      <td>125523.000000</td>\n",
              "      <td>125523.000000</td>\n",
              "      <td>125523.000000</td>\n",
              "      <td>125523.000000</td>\n",
              "      <td>125523.00000</td>\n",
              "      <td>125523.000000</td>\n",
              "      <td>125523.000000</td>\n",
              "      <td>125523.000000</td>\n",
              "      <td>125523.000000</td>\n",
              "      <td>125523.000000</td>\n",
              "      <td>125523.000000</td>\n",
              "      <td>125523.000000</td>\n",
              "      <td>125523.000000</td>\n",
              "      <td>125523.000000</td>\n",
              "      <td>125523.000000</td>\n",
              "    </tr>\n",
              "    <tr>\n",
              "      <th>mean</th>\n",
              "      <td>39.184675</td>\n",
              "      <td>1181.377636</td>\n",
              "      <td>2.736287</td>\n",
              "      <td>3.058906</td>\n",
              "      <td>2.770162</td>\n",
              "      <td>2.975925</td>\n",
              "      <td>3.208790</td>\n",
              "      <td>3.25005</td>\n",
              "      <td>3.440509</td>\n",
              "      <td>3.360277</td>\n",
              "      <td>3.387220</td>\n",
              "      <td>3.364356</td>\n",
              "      <td>3.635891</td>\n",
              "      <td>3.309003</td>\n",
              "      <td>3.650701</td>\n",
              "      <td>3.287334</td>\n",
              "      <td>13.000191</td>\n",
              "      <td>13.319185</td>\n",
              "    </tr>\n",
              "    <tr>\n",
              "      <th>std</th>\n",
              "      <td>14.929654</td>\n",
              "      <td>977.258878</td>\n",
              "      <td>1.324943</td>\n",
              "      <td>1.524559</td>\n",
              "      <td>1.389341</td>\n",
              "      <td>1.278456</td>\n",
              "      <td>1.327188</td>\n",
              "      <td>1.35219</td>\n",
              "      <td>1.321571</td>\n",
              "      <td>1.334080</td>\n",
              "      <td>1.285096</td>\n",
              "      <td>1.300291</td>\n",
              "      <td>1.177587</td>\n",
              "      <td>1.265095</td>\n",
              "      <td>1.171813</td>\n",
              "      <td>1.313939</td>\n",
              "      <td>28.879849</td>\n",
              "      <td>29.211038</td>\n",
              "    </tr>\n",
              "    <tr>\n",
              "      <th>min</th>\n",
              "      <td>7.000000</td>\n",
              "      <td>86.000000</td>\n",
              "      <td>0.000000</td>\n",
              "      <td>0.000000</td>\n",
              "      <td>0.000000</td>\n",
              "      <td>1.000000</td>\n",
              "      <td>1.000000</td>\n",
              "      <td>0.00000</td>\n",
              "      <td>1.000000</td>\n",
              "      <td>1.000000</td>\n",
              "      <td>1.000000</td>\n",
              "      <td>1.000000</td>\n",
              "      <td>1.000000</td>\n",
              "      <td>1.000000</td>\n",
              "      <td>1.000000</td>\n",
              "      <td>1.000000</td>\n",
              "      <td>0.000000</td>\n",
              "      <td>0.000000</td>\n",
              "    </tr>\n",
              "    <tr>\n",
              "      <th>25%</th>\n",
              "      <td>27.000000</td>\n",
              "      <td>417.000000</td>\n",
              "      <td>2.000000</td>\n",
              "      <td>2.000000</td>\n",
              "      <td>2.000000</td>\n",
              "      <td>2.000000</td>\n",
              "      <td>2.000000</td>\n",
              "      <td>2.00000</td>\n",
              "      <td>2.000000</td>\n",
              "      <td>2.000000</td>\n",
              "      <td>2.000000</td>\n",
              "      <td>2.000000</td>\n",
              "      <td>3.000000</td>\n",
              "      <td>3.000000</td>\n",
              "      <td>3.000000</td>\n",
              "      <td>2.000000</td>\n",
              "      <td>0.000000</td>\n",
              "      <td>0.000000</td>\n",
              "    </tr>\n",
              "    <tr>\n",
              "      <th>50%</th>\n",
              "      <td>40.000000</td>\n",
              "      <td>844.000000</td>\n",
              "      <td>3.000000</td>\n",
              "      <td>3.000000</td>\n",
              "      <td>3.000000</td>\n",
              "      <td>3.000000</td>\n",
              "      <td>3.000000</td>\n",
              "      <td>3.00000</td>\n",
              "      <td>4.000000</td>\n",
              "      <td>4.000000</td>\n",
              "      <td>4.000000</td>\n",
              "      <td>4.000000</td>\n",
              "      <td>4.000000</td>\n",
              "      <td>3.000000</td>\n",
              "      <td>4.000000</td>\n",
              "      <td>3.000000</td>\n",
              "      <td>0.000000</td>\n",
              "      <td>0.000000</td>\n",
              "    </tr>\n",
              "    <tr>\n",
              "      <th>75%</th>\n",
              "      <td>51.000000</td>\n",
              "      <td>1730.000000</td>\n",
              "      <td>4.000000</td>\n",
              "      <td>4.000000</td>\n",
              "      <td>4.000000</td>\n",
              "      <td>4.000000</td>\n",
              "      <td>4.000000</td>\n",
              "      <td>4.00000</td>\n",
              "      <td>5.000000</td>\n",
              "      <td>4.000000</td>\n",
              "      <td>4.000000</td>\n",
              "      <td>4.000000</td>\n",
              "      <td>5.000000</td>\n",
              "      <td>4.000000</td>\n",
              "      <td>5.000000</td>\n",
              "      <td>4.000000</td>\n",
              "      <td>12.000000</td>\n",
              "      <td>13.000000</td>\n",
              "    </tr>\n",
              "    <tr>\n",
              "      <th>max</th>\n",
              "      <td>72.000000</td>\n",
              "      <td>3944.000000</td>\n",
              "      <td>5.000000</td>\n",
              "      <td>5.000000</td>\n",
              "      <td>5.000000</td>\n",
              "      <td>5.000000</td>\n",
              "      <td>5.000000</td>\n",
              "      <td>5.00000</td>\n",
              "      <td>5.000000</td>\n",
              "      <td>5.000000</td>\n",
              "      <td>5.000000</td>\n",
              "      <td>5.000000</td>\n",
              "      <td>5.000000</td>\n",
              "      <td>5.000000</td>\n",
              "      <td>5.000000</td>\n",
              "      <td>5.000000</td>\n",
              "      <td>232.000000</td>\n",
              "      <td>235.000000</td>\n",
              "    </tr>\n",
              "  </tbody>\n",
              "</table>\n",
              "</div>"
            ],
            "text/plain": [
              "                 Age  Flight Distance  Inflight wifi service  \\\n",
              "count  125523.000000    125523.000000          125523.000000   \n",
              "mean       39.184675      1181.377636               2.736287   \n",
              "std        14.929654       977.258878               1.324943   \n",
              "min         7.000000        86.000000               0.000000   \n",
              "25%        27.000000       417.000000               2.000000   \n",
              "50%        40.000000       844.000000               3.000000   \n",
              "75%        51.000000      1730.000000               4.000000   \n",
              "max        72.000000      3944.000000               5.000000   \n",
              "\n",
              "       Departure/Arrival time convenient  Ease of Online booking  \\\n",
              "count                      125523.000000           125523.000000   \n",
              "mean                            3.058906                2.770162   \n",
              "std                             1.524559                1.389341   \n",
              "min                             0.000000                0.000000   \n",
              "25%                             2.000000                2.000000   \n",
              "50%                             3.000000                3.000000   \n",
              "75%                             4.000000                4.000000   \n",
              "max                             5.000000                5.000000   \n",
              "\n",
              "       Gate location  Food and drink  Online boarding   Seat comfort  \\\n",
              "count  125523.000000   125523.000000     125523.00000  125523.000000   \n",
              "mean        2.975925        3.208790          3.25005       3.440509   \n",
              "std         1.278456        1.327188          1.35219       1.321571   \n",
              "min         1.000000        1.000000          0.00000       1.000000   \n",
              "25%         2.000000        2.000000          2.00000       2.000000   \n",
              "50%         3.000000        3.000000          3.00000       4.000000   \n",
              "75%         4.000000        4.000000          4.00000       5.000000   \n",
              "max         5.000000        5.000000          5.00000       5.000000   \n",
              "\n",
              "       Inflight entertainment  On-board service  Leg room service  \\\n",
              "count           125523.000000     125523.000000     125523.000000   \n",
              "mean                 3.360277          3.387220          3.364356   \n",
              "std                  1.334080          1.285096          1.300291   \n",
              "min                  1.000000          1.000000          1.000000   \n",
              "25%                  2.000000          2.000000          2.000000   \n",
              "50%                  4.000000          4.000000          4.000000   \n",
              "75%                  4.000000          4.000000          4.000000   \n",
              "max                  5.000000          5.000000          5.000000   \n",
              "\n",
              "       Baggage handling  Checkin service  Inflight service    Cleanliness  \\\n",
              "count     125523.000000    125523.000000     125523.000000  125523.000000   \n",
              "mean           3.635891         3.309003          3.650701       3.287334   \n",
              "std            1.177587         1.265095          1.171813       1.313939   \n",
              "min            1.000000         1.000000          1.000000       1.000000   \n",
              "25%            3.000000         3.000000          3.000000       2.000000   \n",
              "50%            4.000000         3.000000          4.000000       3.000000   \n",
              "75%            5.000000         4.000000          5.000000       4.000000   \n",
              "max            5.000000         5.000000          5.000000       5.000000   \n",
              "\n",
              "       Departure Delay in Minutes  Arrival Delay in Minutes  \n",
              "count               125523.000000             125523.000000  \n",
              "mean                    13.000191                 13.319185  \n",
              "std                     28.879849                 29.211038  \n",
              "min                      0.000000                  0.000000  \n",
              "25%                      0.000000                  0.000000  \n",
              "50%                      0.000000                  0.000000  \n",
              "75%                     12.000000                 13.000000  \n",
              "max                    232.000000                235.000000  "
            ]
          },
          "execution_count": 98,
          "metadata": {},
          "output_type": "execute_result"
        }
      ],
      "source": [
        "data.describe()"
      ]
    },
    {
      "cell_type": "markdown",
      "id": "9c9e52fd",
      "metadata": {
        "id": "9c9e52fd"
      },
      "source": [
        "## Векторизация\n",
        "\n",
        "Обработка категориальных признаков"
      ]
    },
    {
      "cell_type": "code",
      "execution_count": 99,
      "id": "I42fJs4v7QWf",
      "metadata": {
        "colab": {
          "base_uri": "https://localhost:8080/"
        },
        "id": "I42fJs4v7QWf",
        "outputId": "92d967de-aaca-452d-ab08-98ea693819df"
      },
      "outputs": [
        {
          "name": "stdout",
          "output_type": "stream",
          "text": [
            "['Gender', 'Customer Type', 'Type of Travel', 'satisfaction'] ['Class']\n"
          ]
        }
      ],
      "source": [
        "data_describe = data.describe(include = [object])\n",
        "binary_columns    = [c for c in categorical_columns if data_describe[c]['unique'] == 2]\n",
        "nonbinary_columns = [c for c in categorical_columns if data_describe[c]['unique'] > 2]\n",
        "print(binary_columns, nonbinary_columns)"
      ]
    },
    {
      "cell_type": "code",
      "execution_count": null,
      "id": "ilYK5Loh769V",
      "metadata": {
        "colab": {
          "base_uri": "https://localhost:8080/"
        },
        "id": "ilYK5Loh769V",
        "outputId": "2c96a1c6-ac20-4b36-aa65-fe8b3162e539"
      },
      "outputs": [],
      "source": [
        "data['RainToday'].unique()"
      ]
    },
    {
      "cell_type": "code",
      "execution_count": null,
      "id": "NTlQIdrq79ZG",
      "metadata": {
        "colab": {
          "base_uri": "https://localhost:8080/"
        },
        "id": "NTlQIdrq79ZG",
        "outputId": "3d4f8900-31bb-41ee-9ace-7794528c3979"
      },
      "outputs": [],
      "source": [
        "data.at[data['RainToday'] == 'No', 'RainToday'] = 0\n",
        "data.at[data['RainToday'] == 'Yes', 'RainToday'] = 1\n",
        "data['RainToday'].describe()"
      ]
    },
    {
      "cell_type": "markdown",
      "id": "nmoyID-a8OnH",
      "metadata": {
        "id": "nmoyID-a8OnH"
      },
      "source": [
        "К небинарными признакам применим метод _векторизации_, \n",
        "который заключается в следующем.\n",
        "\n",
        "Признак `j`, принимающий `s` значений, заменим на `s` признаков, принимащих значения `0` или `1`,\n",
        "в зависимости от того, чему равно значение исходного признака `j`."
      ]
    },
    {
      "cell_type": "code",
      "execution_count": null,
      "id": "Z7zb9ep_8PVr",
      "metadata": {
        "colab": {
          "base_uri": "https://localhost:8080/"
        },
        "id": "Z7zb9ep_8PVr",
        "outputId": "e3eb4654-03d1-43e6-bf51-923e63a478c1"
      },
      "outputs": [],
      "source": [
        "data_nonbinary = pd.get_dummies(data[nonbinary_columns])\n",
        "print(data_nonbinary.columns)"
      ]
    },
    {
      "cell_type": "markdown",
      "id": "WJIPyddz8wsZ",
      "metadata": {
        "id": "WJIPyddz8wsZ"
      },
      "source": [
        "## Нормализация количественных признаков\n",
        "\n",
        "Многие алгоритмы машинного обучения чувствительны к масштабированию данных.\n",
        "К таким алгоритмам, например, относится метод ближайших соседей, машина опорных векторов и др.\n",
        "\n",
        "В этом случае количественные признаки полезно _нормализовать_.\n",
        "Это можно делать разными способами.\n",
        "Например, каждый количественный признак приведем к нулевому среднему и единичному среднеквадратичному отклонению:"
      ]
    },
    {
      "cell_type": "code",
      "execution_count": null,
      "id": "kUyJXKPh8-4J",
      "metadata": {
        "colab": {
          "base_uri": "https://localhost:8080/"
        },
        "id": "kUyJXKPh8-4J",
        "outputId": "046b8bc8-8cd6-4c4e-ee56-b240c77f35d3"
      },
      "outputs": [],
      "source": [
        "data_numerical = data[numerical_columns]\n",
        "data_numerical.describe()"
      ]
    },
    {
      "cell_type": "code",
      "execution_count": null,
      "id": "MXzEc0368xpn",
      "metadata": {
        "colab": {
          "base_uri": "https://localhost:8080/"
        },
        "id": "MXzEc0368xpn",
        "outputId": "b4a9bc63-5641-412c-d851-0de142a185e5"
      },
      "outputs": [],
      "source": [
        "data_numerical = (data_numerical - data_numerical.mean(axis = 0))/data_numerical.std(axis = 0)\n",
        "data_numerical.describe()"
      ]
    },
    {
      "cell_type": "markdown",
      "id": "6wTyodz_9E_f",
      "metadata": {
        "id": "6wTyodz_9E_f"
      },
      "source": [
        "## Соединяем все в одну таблицу"
      ]
    },
    {
      "cell_type": "code",
      "execution_count": null,
      "id": "u2Dfs9bw9F1h",
      "metadata": {
        "colab": {
          "base_uri": "https://localhost:8080/"
        },
        "id": "u2Dfs9bw9F1h",
        "outputId": "7e10e864-1369-4170-a09a-8c13bcdbf147"
      },
      "outputs": [],
      "source": [
        "data = pd.concat((data_numerical, data_nonbinary, data[binary_columns]), axis = 1)\n",
        "print(data.shape)"
      ]
    },
    {
      "cell_type": "markdown",
      "id": "7u4xnnRMCA8I",
      "metadata": {
        "id": "7u4xnnRMCA8I"
      },
      "source": [
        "## 7. Разбиение данных на обучающую и тестовую выборки"
      ]
    },
    {
      "cell_type": "markdown",
      "id": "kW87lVtOCmF7",
      "metadata": {
        "id": "kW87lVtOCmF7"
      },
      "source": [
        "Для предсказания будем использовать все признаки."
      ]
    },
    {
      "cell_type": "code",
      "execution_count": null,
      "id": "UEeEY1J4CqIZ",
      "metadata": {
        "id": "UEeEY1J4CqIZ"
      },
      "outputs": [],
      "source": [
        "X = data.drop('RainTomorrow', axis = 1)\n",
        "y = data['RainTomorrow']"
      ]
    },
    {
      "cell_type": "markdown",
      "id": "tg58KRj-CK-4",
      "metadata": {
        "id": "tg58KRj-CK-4"
      },
      "source": [
        "Разобьем данные на обучающую и тестовую выборки в пропорции 3:1 (75% - обучающая выборка, 25% - тестовая):"
      ]
    },
    {
      "cell_type": "code",
      "execution_count": null,
      "id": "QAIe14USCPX4",
      "metadata": {
        "colab": {
          "base_uri": "https://localhost:8080/"
        },
        "id": "QAIe14USCPX4",
        "outputId": "37b81449-4d9a-4b60-8c4f-2b241f5849f8"
      },
      "outputs": [],
      "source": [
        "from sklearn.model_selection import train_test_split\n",
        "X_train, X_test, y_train, y_test = train_test_split(X, y, test_size = 0.25, random_state = 42)\n",
        "\n",
        "N_train, _ = X_train.shape \n",
        "N_test,  _ = X_test.shape \n",
        "\n",
        "N_train, N_test"
      ]
    },
    {
      "cell_type": "markdown",
      "id": "Lwf6d8dbEH0h",
      "metadata": {
        "id": "Lwf6d8dbEH0h"
      },
      "source": [
        "## Классификатор ближайших соседей"
      ]
    },
    {
      "cell_type": "code",
      "execution_count": null,
      "id": "g3jAnbD2Ea_z",
      "metadata": {
        "colab": {
          "base_uri": "https://localhost:8080/"
        },
        "id": "g3jAnbD2Ea_z",
        "outputId": "018e7662-1dd8-4f61-f974-7942f34fda45"
      },
      "outputs": [],
      "source": [
        "from sklearn.neighbors import KNeighborsClassifier\n",
        "\n",
        "knn = KNeighborsClassifier(n_neighbors = 3)\n",
        "knn.fit(X_train, y_train)"
      ]
    },
    {
      "cell_type": "code",
      "execution_count": null,
      "id": "m6xpQirVNJS9",
      "metadata": {
        "id": "m6xpQirVNJS9"
      },
      "outputs": [],
      "source": [
        "y_train_predict = knn.predict(X_train)\n",
        "err_train  = np.mean(y_train  != y_train_predict)"
      ]
    },
    {
      "cell_type": "code",
      "execution_count": null,
      "id": "wmQbsoa8NKvy",
      "metadata": {
        "colab": {
          "base_uri": "https://localhost:8080/"
        },
        "id": "wmQbsoa8NKvy",
        "outputId": "aa6bd2db-8dd2-4666-b099-a7e91da63636"
      },
      "outputs": [],
      "source": [
        "err_train"
      ]
    },
    {
      "cell_type": "code",
      "execution_count": null,
      "id": "wE_McP0-A8DU",
      "metadata": {
        "id": "wE_McP0-A8DU"
      },
      "outputs": [],
      "source": [
        "y_test_predict = knn.predict(X_test)\n",
        "err_test  = np.mean(y_test  != y_test_predict)"
      ]
    },
    {
      "cell_type": "code",
      "execution_count": null,
      "id": "BWNu2jZlBAbE",
      "metadata": {
        "colab": {
          "base_uri": "https://localhost:8080/"
        },
        "id": "BWNu2jZlBAbE",
        "outputId": "67c2c01a-f1aa-4595-c193-88949e242213"
      },
      "outputs": [],
      "source": [
        "err_test"
      ]
    },
    {
      "cell_type": "markdown",
      "id": "eei-pdPNOjJN",
      "metadata": {
        "id": "eei-pdPNOjJN"
      },
      "source": [
        "Ошибка на обучающей выборке меньше из-за так называемого переобучения. На определенных данных алгоритм улавливает какие-то случайные закономерности, свойственные только конкретному набору данных, и используя их, ошибается меньше."
      ]
    },
    {
      "cell_type": "markdown",
      "id": "qqxH6F8TO9_r",
      "metadata": {
        "id": "qqxH6F8TO9_r"
      },
      "source": [
        "Матрица рассогласования:"
      ]
    },
    {
      "cell_type": "code",
      "execution_count": null,
      "id": "VIGcT6y5Bj9q",
      "metadata": {
        "colab": {
          "base_uri": "https://localhost:8080/"
        },
        "id": "VIGcT6y5Bj9q",
        "outputId": "0efc86e1-a5fa-466c-e162-75795354f026"
      },
      "outputs": [],
      "source": [
        "from sklearn.metrics import confusion_matrix\n",
        "\n",
        "print(confusion_matrix(y_test, y_test_predict))"
      ]
    },
    {
      "cell_type": "code",
      "execution_count": null,
      "id": "1fg3HKwXJzGn",
      "metadata": {
        "colab": {
          "base_uri": "https://localhost:8080/",
          "height": 334
        },
        "id": "1fg3HKwXJzGn",
        "outputId": "a61cda70-06e1-496d-9354-8a73ee61a48a"
      },
      "outputs": [],
      "source": [
        "from sklearn.metrics import plot_confusion_matrix\n",
        "plot_confusion_matrix(knn, X_test, y_test, cmap=plt.cm.Blues)\n",
        "pass"
      ]
    },
    {
      "cell_type": "markdown",
      "id": "O8Gn-4XkPTU6",
      "metadata": {
        "id": "O8Gn-4XkPTU6"
      },
      "source": [
        "Тру негативов больше чем тру позитивов, из-за несбалансированности классов. В `RainTomorrow` No составляет 78%, Yes - 22%"
      ]
    },
    {
      "cell_type": "markdown",
      "id": "2ketLL9zQiJJ",
      "metadata": {
        "id": "2ketLL9zQiJJ"
      },
      "source": [
        "### Увеличим количество ближайших соседей до 9"
      ]
    },
    {
      "cell_type": "code",
      "execution_count": null,
      "id": "y4L5_F1dQmqQ",
      "metadata": {
        "colab": {
          "base_uri": "https://localhost:8080/"
        },
        "id": "y4L5_F1dQmqQ",
        "outputId": "3d2689cd-1348-4c06-ce04-60f2fd85b707"
      },
      "outputs": [],
      "source": [
        "knn.set_params(n_neighbors=9)\n",
        "knn.fit(X_train, y_train)"
      ]
    },
    {
      "cell_type": "code",
      "execution_count": null,
      "id": "a-5IlAtGQxBE",
      "metadata": {
        "colab": {
          "base_uri": "https://localhost:8080/"
        },
        "id": "a-5IlAtGQxBE",
        "outputId": "6f06bd0e-0d3c-48e6-80c5-c2e2881546de"
      },
      "outputs": [],
      "source": [
        "y_train_predict = knn.predict(X_train)\n",
        "err_train  = np.mean(y_train  != y_train_predict)\n",
        "err_train"
      ]
    },
    {
      "cell_type": "code",
      "execution_count": null,
      "id": "rlSsCOY6SRsT",
      "metadata": {
        "colab": {
          "base_uri": "https://localhost:8080/"
        },
        "id": "rlSsCOY6SRsT",
        "outputId": "a3097059-e46b-452f-e649-e1cf94642eed"
      },
      "outputs": [],
      "source": [
        "y_test_predict = knn.predict(X_test)\n",
        "err_test  = np.mean(y_test  != y_test_predict)\n",
        "err_test"
      ]
    },
    {
      "cell_type": "markdown",
      "id": "mMmpKu7bYuK5",
      "metadata": {
        "id": "mMmpKu7bYuK5"
      },
      "source": [
        "### Увеличим количество ближайших соседей до 17"
      ]
    },
    {
      "cell_type": "code",
      "execution_count": null,
      "id": "L5fPIQBhYzJb",
      "metadata": {
        "colab": {
          "base_uri": "https://localhost:8080/"
        },
        "id": "L5fPIQBhYzJb",
        "outputId": "230b43bd-1e0d-4bc1-b416-1c4fcbdba772"
      },
      "outputs": [],
      "source": [
        "knn.set_params(n_neighbors=17)\n",
        "knn.fit(X_train, y_train)"
      ]
    },
    {
      "cell_type": "code",
      "execution_count": null,
      "id": "3AbgOjKNY2Ai",
      "metadata": {
        "colab": {
          "base_uri": "https://localhost:8080/"
        },
        "id": "3AbgOjKNY2Ai",
        "outputId": "39c04d93-5185-4a99-fdfe-0b4909bfa637"
      },
      "outputs": [],
      "source": [
        "y_train_predict = knn.predict(X_train)\n",
        "err_train  = np.mean(y_train  != y_train_predict)\n",
        "err_train"
      ]
    },
    {
      "cell_type": "code",
      "execution_count": null,
      "id": "YaNHyINsY2nO",
      "metadata": {
        "colab": {
          "base_uri": "https://localhost:8080/"
        },
        "id": "YaNHyINsY2nO",
        "outputId": "da66863f-bb48-48c1-ad60-59475c66c231"
      },
      "outputs": [],
      "source": [
        "y_test_predict = knn.predict(X_test)\n",
        "err_test  = np.mean(y_test  != y_test_predict)\n",
        "err_test"
      ]
    },
    {
      "cell_type": "markdown",
      "id": "ZFhQlno9xE_g",
      "metadata": {
        "id": "ZFhQlno9xE_g"
      },
      "source": [
        "### Увеличим количество ближайших соседей до 51"
      ]
    },
    {
      "cell_type": "code",
      "execution_count": null,
      "id": "Sb7YB3bcxHWE",
      "metadata": {
        "colab": {
          "base_uri": "https://localhost:8080/"
        },
        "id": "Sb7YB3bcxHWE",
        "outputId": "003b7e2e-cc18-4950-d65f-fbfe99f178ba"
      },
      "outputs": [],
      "source": [
        "knn.set_params(n_neighbors=51)\n",
        "knn.fit(X_train, y_train)"
      ]
    },
    {
      "cell_type": "code",
      "execution_count": null,
      "id": "hywR7bt9xLIP",
      "metadata": {
        "colab": {
          "base_uri": "https://localhost:8080/"
        },
        "id": "hywR7bt9xLIP",
        "outputId": "9e9568b7-3d94-485d-c0a5-80074103b647"
      },
      "outputs": [],
      "source": [
        "y_train_predict = knn.predict(X_train)\n",
        "err_train  = np.mean(y_train  != y_train_predict)\n",
        "err_train"
      ]
    },
    {
      "cell_type": "code",
      "execution_count": null,
      "id": "iLESAkoPxMqY",
      "metadata": {
        "colab": {
          "base_uri": "https://localhost:8080/"
        },
        "id": "iLESAkoPxMqY",
        "outputId": "0711ccad-1b5b-4682-d609-92b88f3b642c"
      },
      "outputs": [],
      "source": [
        "y_test_predict = knn.predict(X_test)\n",
        "err_test  = np.mean(y_test  != y_test_predict)\n",
        "err_test"
      ]
    },
    {
      "cell_type": "markdown",
      "id": "C_9PVM7BK90v",
      "metadata": {
        "id": "C_9PVM7BK90v"
      },
      "source": [
        "### Подбор параметров"
      ]
    },
    {
      "cell_type": "code",
      "execution_count": null,
      "id": "QJs-jSIZLCjy",
      "metadata": {
        "colab": {
          "background_save": true
        },
        "id": "QJs-jSIZLCjy",
        "outputId": "ea2d97c0-9231-4210-ca63-3caa06e21e32"
      },
      "outputs": [],
      "source": [
        "# Долго!\n",
        "from sklearn.model_selection import GridSearchCV\n",
        "nnb = [1, 3, 5, 9, 15, 19, 25, 35, 45, 55]\n",
        "knn = KNeighborsClassifier()\n",
        "grid = GridSearchCV(knn, param_grid = {'n_neighbors': nnb}, cv=10)\n",
        "grid.fit(X_train, y_train)\n",
        "\n",
        "best_cv_err = 1 - grid.best_score_\n",
        "best_n_neighbors = grid.best_estimator_.n_neighbors\n",
        "print(best_cv_err, best_n_neighbors)"
      ]
    },
    {
      "cell_type": "markdown",
      "id": "uk6Wx9LQweOF",
      "metadata": {
        "id": "uk6Wx9LQweOF"
      },
      "source": [
        "Наиболее эффективен метод с 19-ю ближайшими соседями, хотя вероятности для разного числа соседей на тестовой выборке примерно одинаковы."
      ]
    }
  ],
  "metadata": {
    "colab": {
      "collapsed_sections": [],
      "name": "Classification task.ipynb",
      "provenance": []
    },
    "kernelspec": {
      "display_name": "Python 3.9.12 ('base')",
      "language": "python",
      "name": "python3"
    },
    "language_info": {
      "codemirror_mode": {
        "name": "ipython",
        "version": 3
      },
      "file_extension": ".py",
      "mimetype": "text/x-python",
      "name": "python",
      "nbconvert_exporter": "python",
      "pygments_lexer": "ipython3",
      "version": "3.9.12"
    },
    "vscode": {
      "interpreter": {
        "hash": "d0735eeadb370e95416d168987b0107a10bacdd4f24a24e5be38f26b17d4a4fa"
      }
    }
  },
  "nbformat": 4,
  "nbformat_minor": 5
}
